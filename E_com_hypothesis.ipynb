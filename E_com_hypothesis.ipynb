{
  "cells": [
    {
      "cell_type": "markdown",
      "metadata": {
        "id": "s8MgnQpE4Air"
      },
      "source": [
        "# Проверка гипотез интернет-магазина\n"
      ]
    },
    {
      "cell_type": "markdown",
      "metadata": {
        "id": "fi0N278K4Air"
      },
      "source": [
        "Совместно с отделом маркетинга интернет - магазина был подготовлен список гипотез для увеличения выручки.\n",
        "\n",
        "В настоящем исследовании будет назначен приоритет имеющимся гипотезам, а также проведен анализ А/В – теста с целью оценки эффективности внедрения изменений для последующего увеличения выручки.\n"
      ]
    },
    {
      "cell_type": "code",
      "execution_count": 1,
      "metadata": {
        "id": "BWOLLIJS4Air"
      },
      "outputs": [],
      "source": [
        "import pandas as pd\n",
        "import numpy as np\n",
        "import scipy as sp\n",
        "import matplotlib.pyplot as plt\n",
        "import math as mth\n",
        "import datetime as dt\n",
        "from datetime import datetime\n",
        "from scipy import stats as st\n",
        "from pandas.plotting import register_matplotlib_converters\n",
        "import warnings\n",
        "pd.set_option('max_colwidth', 200)"
      ]
    },
    {
      "cell_type": "markdown",
      "metadata": {
        "id": "7fbnUeWn4Ais"
      },
      "source": [
        "## Приоритезация гипотез."
      ]
    },
    {
      "cell_type": "code",
      "execution_count": 2,
      "metadata": {
        "id": "utfDeFoy4Ais"
      },
      "outputs": [],
      "source": [
        "hyp = pd.read_csv('/datasets/e_com_hypothesis.csv')"
      ]
    },
    {
      "cell_type": "code",
      "execution_count": 3,
      "metadata": {
        "scrolled": true,
        "colab": {
          "base_uri": "https://localhost:8080/",
          "height": 331
        },
        "id": "l_PC6X1W4Ait",
        "outputId": "50382af6-6bea-4d4a-af11-07fcf02af9a5"
      },
      "outputs": [
        {
          "output_type": "display_data",
          "data": {
            "text/plain": [
              "                                                                                                     Hypothesis  \\\n",
              "0            Добавить два новых канала привлечения трафика, что позволит привлекать на 30% больше пользователей   \n",
              "1                                     Запустить собственную службу доставки, что сократит срок доставки заказов   \n",
              "2  Добавить блоки рекомендаций товаров на сайт интернет магазина, чтобы повысить конверсию и средний чек заказа   \n",
              "3           Изменить структура категорий, что увеличит конверсию, т.к. пользователи быстрее найдут нужный товар   \n",
              "4                              Изменить цвет фона главной страницы, чтобы увеличить вовлеченность пользователей   \n",
              "5                      Добавить страницу отзывов клиентов о магазине, что позволит увеличить количество заказов   \n",
              "6          Показать на главной странице баннеры с актуальными акциями и распродажами, чтобы увеличить конверсию   \n",
              "7              Добавить форму подписки на все основные страницы, чтобы собрать базу клиентов для email-рассылок   \n",
              "8                                                       Запустить акцию, дающую скидку на товар в день рождения   \n",
              "\n",
              "   Reach  Impact  Confidence  Efforts  \n",
              "0      3      10           8        6  \n",
              "1      2       5           4       10  \n",
              "2      8       3           7        3  \n",
              "3      8       3           3        8  \n",
              "4      3       1           1        1  \n",
              "5      3       2           2        3  \n",
              "6      5       3           8        3  \n",
              "7     10       7           8        5  \n",
              "8      1       9           9        5  "
            ],
            "text/html": [
              "\n",
              "  <div id=\"df-a16de7e1-2c7c-4351-8abd-37ae29fd7466\" class=\"colab-df-container\">\n",
              "    <div>\n",
              "<style scoped>\n",
              "    .dataframe tbody tr th:only-of-type {\n",
              "        vertical-align: middle;\n",
              "    }\n",
              "\n",
              "    .dataframe tbody tr th {\n",
              "        vertical-align: top;\n",
              "    }\n",
              "\n",
              "    .dataframe thead th {\n",
              "        text-align: right;\n",
              "    }\n",
              "</style>\n",
              "<table border=\"1\" class=\"dataframe\">\n",
              "  <thead>\n",
              "    <tr style=\"text-align: right;\">\n",
              "      <th></th>\n",
              "      <th>Hypothesis</th>\n",
              "      <th>Reach</th>\n",
              "      <th>Impact</th>\n",
              "      <th>Confidence</th>\n",
              "      <th>Efforts</th>\n",
              "    </tr>\n",
              "  </thead>\n",
              "  <tbody>\n",
              "    <tr>\n",
              "      <th>0</th>\n",
              "      <td>Добавить два новых канала привлечения трафика, что позволит привлекать на 30% больше пользователей</td>\n",
              "      <td>3</td>\n",
              "      <td>10</td>\n",
              "      <td>8</td>\n",
              "      <td>6</td>\n",
              "    </tr>\n",
              "    <tr>\n",
              "      <th>1</th>\n",
              "      <td>Запустить собственную службу доставки, что сократит срок доставки заказов</td>\n",
              "      <td>2</td>\n",
              "      <td>5</td>\n",
              "      <td>4</td>\n",
              "      <td>10</td>\n",
              "    </tr>\n",
              "    <tr>\n",
              "      <th>2</th>\n",
              "      <td>Добавить блоки рекомендаций товаров на сайт интернет магазина, чтобы повысить конверсию и средний чек заказа</td>\n",
              "      <td>8</td>\n",
              "      <td>3</td>\n",
              "      <td>7</td>\n",
              "      <td>3</td>\n",
              "    </tr>\n",
              "    <tr>\n",
              "      <th>3</th>\n",
              "      <td>Изменить структура категорий, что увеличит конверсию, т.к. пользователи быстрее найдут нужный товар</td>\n",
              "      <td>8</td>\n",
              "      <td>3</td>\n",
              "      <td>3</td>\n",
              "      <td>8</td>\n",
              "    </tr>\n",
              "    <tr>\n",
              "      <th>4</th>\n",
              "      <td>Изменить цвет фона главной страницы, чтобы увеличить вовлеченность пользователей</td>\n",
              "      <td>3</td>\n",
              "      <td>1</td>\n",
              "      <td>1</td>\n",
              "      <td>1</td>\n",
              "    </tr>\n",
              "    <tr>\n",
              "      <th>5</th>\n",
              "      <td>Добавить страницу отзывов клиентов о магазине, что позволит увеличить количество заказов</td>\n",
              "      <td>3</td>\n",
              "      <td>2</td>\n",
              "      <td>2</td>\n",
              "      <td>3</td>\n",
              "    </tr>\n",
              "    <tr>\n",
              "      <th>6</th>\n",
              "      <td>Показать на главной странице баннеры с актуальными акциями и распродажами, чтобы увеличить конверсию</td>\n",
              "      <td>5</td>\n",
              "      <td>3</td>\n",
              "      <td>8</td>\n",
              "      <td>3</td>\n",
              "    </tr>\n",
              "    <tr>\n",
              "      <th>7</th>\n",
              "      <td>Добавить форму подписки на все основные страницы, чтобы собрать базу клиентов для email-рассылок</td>\n",
              "      <td>10</td>\n",
              "      <td>7</td>\n",
              "      <td>8</td>\n",
              "      <td>5</td>\n",
              "    </tr>\n",
              "    <tr>\n",
              "      <th>8</th>\n",
              "      <td>Запустить акцию, дающую скидку на товар в день рождения</td>\n",
              "      <td>1</td>\n",
              "      <td>9</td>\n",
              "      <td>9</td>\n",
              "      <td>5</td>\n",
              "    </tr>\n",
              "  </tbody>\n",
              "</table>\n",
              "</div>\n",
              "    <div class=\"colab-df-buttons\">\n",
              "\n",
              "  <div class=\"colab-df-container\">\n",
              "    <button class=\"colab-df-convert\" onclick=\"convertToInteractive('df-a16de7e1-2c7c-4351-8abd-37ae29fd7466')\"\n",
              "            title=\"Convert this dataframe to an interactive table.\"\n",
              "            style=\"display:none;\">\n",
              "\n",
              "  <svg xmlns=\"http://www.w3.org/2000/svg\" height=\"24px\" viewBox=\"0 -960 960 960\">\n",
              "    <path d=\"M120-120v-720h720v720H120Zm60-500h600v-160H180v160Zm220 220h160v-160H400v160Zm0 220h160v-160H400v160ZM180-400h160v-160H180v160Zm440 0h160v-160H620v160ZM180-180h160v-160H180v160Zm440 0h160v-160H620v160Z\"/>\n",
              "  </svg>\n",
              "    </button>\n",
              "\n",
              "  <style>\n",
              "    .colab-df-container {\n",
              "      display:flex;\n",
              "      gap: 12px;\n",
              "    }\n",
              "\n",
              "    .colab-df-convert {\n",
              "      background-color: #E8F0FE;\n",
              "      border: none;\n",
              "      border-radius: 50%;\n",
              "      cursor: pointer;\n",
              "      display: none;\n",
              "      fill: #1967D2;\n",
              "      height: 32px;\n",
              "      padding: 0 0 0 0;\n",
              "      width: 32px;\n",
              "    }\n",
              "\n",
              "    .colab-df-convert:hover {\n",
              "      background-color: #E2EBFA;\n",
              "      box-shadow: 0px 1px 2px rgba(60, 64, 67, 0.3), 0px 1px 3px 1px rgba(60, 64, 67, 0.15);\n",
              "      fill: #174EA6;\n",
              "    }\n",
              "\n",
              "    .colab-df-buttons div {\n",
              "      margin-bottom: 4px;\n",
              "    }\n",
              "\n",
              "    [theme=dark] .colab-df-convert {\n",
              "      background-color: #3B4455;\n",
              "      fill: #D2E3FC;\n",
              "    }\n",
              "\n",
              "    [theme=dark] .colab-df-convert:hover {\n",
              "      background-color: #434B5C;\n",
              "      box-shadow: 0px 1px 3px 1px rgba(0, 0, 0, 0.15);\n",
              "      filter: drop-shadow(0px 1px 2px rgba(0, 0, 0, 0.3));\n",
              "      fill: #FFFFFF;\n",
              "    }\n",
              "  </style>\n",
              "\n",
              "    <script>\n",
              "      const buttonEl =\n",
              "        document.querySelector('#df-a16de7e1-2c7c-4351-8abd-37ae29fd7466 button.colab-df-convert');\n",
              "      buttonEl.style.display =\n",
              "        google.colab.kernel.accessAllowed ? 'block' : 'none';\n",
              "\n",
              "      async function convertToInteractive(key) {\n",
              "        const element = document.querySelector('#df-a16de7e1-2c7c-4351-8abd-37ae29fd7466');\n",
              "        const dataTable =\n",
              "          await google.colab.kernel.invokeFunction('convertToInteractive',\n",
              "                                                    [key], {});\n",
              "        if (!dataTable) return;\n",
              "\n",
              "        const docLinkHtml = 'Like what you see? Visit the ' +\n",
              "          '<a target=\"_blank\" href=https://colab.research.google.com/notebooks/data_table.ipynb>data table notebook</a>'\n",
              "          + ' to learn more about interactive tables.';\n",
              "        element.innerHTML = '';\n",
              "        dataTable['output_type'] = 'display_data';\n",
              "        await google.colab.output.renderOutput(dataTable, element);\n",
              "        const docLink = document.createElement('div');\n",
              "        docLink.innerHTML = docLinkHtml;\n",
              "        element.appendChild(docLink);\n",
              "      }\n",
              "    </script>\n",
              "  </div>\n",
              "\n",
              "\n",
              "<div id=\"df-2535d160-3020-48ed-b453-e6ecd62e11cc\">\n",
              "  <button class=\"colab-df-quickchart\" onclick=\"quickchart('df-2535d160-3020-48ed-b453-e6ecd62e11cc')\"\n",
              "            title=\"Suggest charts\"\n",
              "            style=\"display:none;\">\n",
              "\n",
              "<svg xmlns=\"http://www.w3.org/2000/svg\" height=\"24px\"viewBox=\"0 0 24 24\"\n",
              "     width=\"24px\">\n",
              "    <g>\n",
              "        <path d=\"M19 3H5c-1.1 0-2 .9-2 2v14c0 1.1.9 2 2 2h14c1.1 0 2-.9 2-2V5c0-1.1-.9-2-2-2zM9 17H7v-7h2v7zm4 0h-2V7h2v10zm4 0h-2v-4h2v4z\"/>\n",
              "    </g>\n",
              "</svg>\n",
              "  </button>\n",
              "\n",
              "<style>\n",
              "  .colab-df-quickchart {\n",
              "      --bg-color: #E8F0FE;\n",
              "      --fill-color: #1967D2;\n",
              "      --hover-bg-color: #E2EBFA;\n",
              "      --hover-fill-color: #174EA6;\n",
              "      --disabled-fill-color: #AAA;\n",
              "      --disabled-bg-color: #DDD;\n",
              "  }\n",
              "\n",
              "  [theme=dark] .colab-df-quickchart {\n",
              "      --bg-color: #3B4455;\n",
              "      --fill-color: #D2E3FC;\n",
              "      --hover-bg-color: #434B5C;\n",
              "      --hover-fill-color: #FFFFFF;\n",
              "      --disabled-bg-color: #3B4455;\n",
              "      --disabled-fill-color: #666;\n",
              "  }\n",
              "\n",
              "  .colab-df-quickchart {\n",
              "    background-color: var(--bg-color);\n",
              "    border: none;\n",
              "    border-radius: 50%;\n",
              "    cursor: pointer;\n",
              "    display: none;\n",
              "    fill: var(--fill-color);\n",
              "    height: 32px;\n",
              "    padding: 0;\n",
              "    width: 32px;\n",
              "  }\n",
              "\n",
              "  .colab-df-quickchart:hover {\n",
              "    background-color: var(--hover-bg-color);\n",
              "    box-shadow: 0 1px 2px rgba(60, 64, 67, 0.3), 0 1px 3px 1px rgba(60, 64, 67, 0.15);\n",
              "    fill: var(--button-hover-fill-color);\n",
              "  }\n",
              "\n",
              "  .colab-df-quickchart-complete:disabled,\n",
              "  .colab-df-quickchart-complete:disabled:hover {\n",
              "    background-color: var(--disabled-bg-color);\n",
              "    fill: var(--disabled-fill-color);\n",
              "    box-shadow: none;\n",
              "  }\n",
              "\n",
              "  .colab-df-spinner {\n",
              "    border: 2px solid var(--fill-color);\n",
              "    border-color: transparent;\n",
              "    border-bottom-color: var(--fill-color);\n",
              "    animation:\n",
              "      spin 1s steps(1) infinite;\n",
              "  }\n",
              "\n",
              "  @keyframes spin {\n",
              "    0% {\n",
              "      border-color: transparent;\n",
              "      border-bottom-color: var(--fill-color);\n",
              "      border-left-color: var(--fill-color);\n",
              "    }\n",
              "    20% {\n",
              "      border-color: transparent;\n",
              "      border-left-color: var(--fill-color);\n",
              "      border-top-color: var(--fill-color);\n",
              "    }\n",
              "    30% {\n",
              "      border-color: transparent;\n",
              "      border-left-color: var(--fill-color);\n",
              "      border-top-color: var(--fill-color);\n",
              "      border-right-color: var(--fill-color);\n",
              "    }\n",
              "    40% {\n",
              "      border-color: transparent;\n",
              "      border-right-color: var(--fill-color);\n",
              "      border-top-color: var(--fill-color);\n",
              "    }\n",
              "    60% {\n",
              "      border-color: transparent;\n",
              "      border-right-color: var(--fill-color);\n",
              "    }\n",
              "    80% {\n",
              "      border-color: transparent;\n",
              "      border-right-color: var(--fill-color);\n",
              "      border-bottom-color: var(--fill-color);\n",
              "    }\n",
              "    90% {\n",
              "      border-color: transparent;\n",
              "      border-bottom-color: var(--fill-color);\n",
              "    }\n",
              "  }\n",
              "</style>\n",
              "\n",
              "  <script>\n",
              "    async function quickchart(key) {\n",
              "      const quickchartButtonEl =\n",
              "        document.querySelector('#' + key + ' button');\n",
              "      quickchartButtonEl.disabled = true;  // To prevent multiple clicks.\n",
              "      quickchartButtonEl.classList.add('colab-df-spinner');\n",
              "      try {\n",
              "        const charts = await google.colab.kernel.invokeFunction(\n",
              "            'suggestCharts', [key], {});\n",
              "      } catch (error) {\n",
              "        console.error('Error during call to suggestCharts:', error);\n",
              "      }\n",
              "      quickchartButtonEl.classList.remove('colab-df-spinner');\n",
              "      quickchartButtonEl.classList.add('colab-df-quickchart-complete');\n",
              "    }\n",
              "    (() => {\n",
              "      let quickchartButtonEl =\n",
              "        document.querySelector('#df-2535d160-3020-48ed-b453-e6ecd62e11cc button');\n",
              "      quickchartButtonEl.style.display =\n",
              "        google.colab.kernel.accessAllowed ? 'block' : 'none';\n",
              "    })();\n",
              "  </script>\n",
              "</div>\n",
              "    </div>\n",
              "  </div>\n"
            ]
          },
          "metadata": {}
        }
      ],
      "source": [
        "display(hyp.head(10))"
      ]
    },
    {
      "cell_type": "code",
      "execution_count": 4,
      "metadata": {
        "colab": {
          "base_uri": "https://localhost:8080/"
        },
        "id": "MRQIpWF_4Ait",
        "outputId": "c9682713-160c-4359-f7ad-0aa96647d685"
      },
      "outputs": [
        {
          "output_type": "stream",
          "name": "stdout",
          "text": [
            "<class 'pandas.core.frame.DataFrame'>\n",
            "RangeIndex: 9 entries, 0 to 8\n",
            "Data columns (total 5 columns):\n",
            " #   Column      Non-Null Count  Dtype \n",
            "---  ------      --------------  ----- \n",
            " 0   Hypothesis  9 non-null      object\n",
            " 1   Reach       9 non-null      int64 \n",
            " 2   Impact      9 non-null      int64 \n",
            " 3   Confidence  9 non-null      int64 \n",
            " 4   Efforts     9 non-null      int64 \n",
            "dtypes: int64(4), object(1)\n",
            "memory usage: 488.0+ bytes\n"
          ]
        }
      ],
      "source": [
        "hyp.info()"
      ]
    },
    {
      "cell_type": "code",
      "execution_count": 5,
      "metadata": {
        "colab": {
          "base_uri": "https://localhost:8080/",
          "height": 331
        },
        "id": "m4RDVZr94Aiu",
        "outputId": "5776e2ba-03e9-4869-8e23-361fb186d02b"
      },
      "outputs": [
        {
          "output_type": "display_data",
          "data": {
            "text/plain": [
              "                                                                                                     Hypothesis  \\\n",
              "8                                                       Запустить акцию, дающую скидку на товар в день рождения   \n",
              "0            Добавить два новых канала привлечения трафика, что позволит привлекать на 30% больше пользователей   \n",
              "7              Добавить форму подписки на все основные страницы, чтобы собрать базу клиентов для email-рассылок   \n",
              "6          Показать на главной странице баннеры с актуальными акциями и распродажами, чтобы увеличить конверсию   \n",
              "2  Добавить блоки рекомендаций товаров на сайт интернет магазина, чтобы повысить конверсию и средний чек заказа   \n",
              "1                                     Запустить собственную службу доставки, что сократит срок доставки заказов   \n",
              "5                      Добавить страницу отзывов клиентов о магазине, что позволит увеличить количество заказов   \n",
              "3           Изменить структура категорий, что увеличит конверсию, т.к. пользователи быстрее найдут нужный товар   \n",
              "4                              Изменить цвет фона главной страницы, чтобы увеличить вовлеченность пользователей   \n",
              "\n",
              "   Reach  Impact  Confidence  Efforts    ICE  \n",
              "8      1       9           9        5  16.20  \n",
              "0      3      10           8        6  13.33  \n",
              "7     10       7           8        5  11.20  \n",
              "6      5       3           8        3   8.00  \n",
              "2      8       3           7        3   7.00  \n",
              "1      2       5           4       10   2.00  \n",
              "5      3       2           2        3   1.33  \n",
              "3      8       3           3        8   1.12  \n",
              "4      3       1           1        1   1.00  "
            ],
            "text/html": [
              "\n",
              "  <div id=\"df-00053320-31ab-4c03-aae1-0f23e4683c95\" class=\"colab-df-container\">\n",
              "    <div>\n",
              "<style scoped>\n",
              "    .dataframe tbody tr th:only-of-type {\n",
              "        vertical-align: middle;\n",
              "    }\n",
              "\n",
              "    .dataframe tbody tr th {\n",
              "        vertical-align: top;\n",
              "    }\n",
              "\n",
              "    .dataframe thead th {\n",
              "        text-align: right;\n",
              "    }\n",
              "</style>\n",
              "<table border=\"1\" class=\"dataframe\">\n",
              "  <thead>\n",
              "    <tr style=\"text-align: right;\">\n",
              "      <th></th>\n",
              "      <th>Hypothesis</th>\n",
              "      <th>Reach</th>\n",
              "      <th>Impact</th>\n",
              "      <th>Confidence</th>\n",
              "      <th>Efforts</th>\n",
              "      <th>ICE</th>\n",
              "    </tr>\n",
              "  </thead>\n",
              "  <tbody>\n",
              "    <tr>\n",
              "      <th>8</th>\n",
              "      <td>Запустить акцию, дающую скидку на товар в день рождения</td>\n",
              "      <td>1</td>\n",
              "      <td>9</td>\n",
              "      <td>9</td>\n",
              "      <td>5</td>\n",
              "      <td>16.20</td>\n",
              "    </tr>\n",
              "    <tr>\n",
              "      <th>0</th>\n",
              "      <td>Добавить два новых канала привлечения трафика, что позволит привлекать на 30% больше пользователей</td>\n",
              "      <td>3</td>\n",
              "      <td>10</td>\n",
              "      <td>8</td>\n",
              "      <td>6</td>\n",
              "      <td>13.33</td>\n",
              "    </tr>\n",
              "    <tr>\n",
              "      <th>7</th>\n",
              "      <td>Добавить форму подписки на все основные страницы, чтобы собрать базу клиентов для email-рассылок</td>\n",
              "      <td>10</td>\n",
              "      <td>7</td>\n",
              "      <td>8</td>\n",
              "      <td>5</td>\n",
              "      <td>11.20</td>\n",
              "    </tr>\n",
              "    <tr>\n",
              "      <th>6</th>\n",
              "      <td>Показать на главной странице баннеры с актуальными акциями и распродажами, чтобы увеличить конверсию</td>\n",
              "      <td>5</td>\n",
              "      <td>3</td>\n",
              "      <td>8</td>\n",
              "      <td>3</td>\n",
              "      <td>8.00</td>\n",
              "    </tr>\n",
              "    <tr>\n",
              "      <th>2</th>\n",
              "      <td>Добавить блоки рекомендаций товаров на сайт интернет магазина, чтобы повысить конверсию и средний чек заказа</td>\n",
              "      <td>8</td>\n",
              "      <td>3</td>\n",
              "      <td>7</td>\n",
              "      <td>3</td>\n",
              "      <td>7.00</td>\n",
              "    </tr>\n",
              "    <tr>\n",
              "      <th>1</th>\n",
              "      <td>Запустить собственную службу доставки, что сократит срок доставки заказов</td>\n",
              "      <td>2</td>\n",
              "      <td>5</td>\n",
              "      <td>4</td>\n",
              "      <td>10</td>\n",
              "      <td>2.00</td>\n",
              "    </tr>\n",
              "    <tr>\n",
              "      <th>5</th>\n",
              "      <td>Добавить страницу отзывов клиентов о магазине, что позволит увеличить количество заказов</td>\n",
              "      <td>3</td>\n",
              "      <td>2</td>\n",
              "      <td>2</td>\n",
              "      <td>3</td>\n",
              "      <td>1.33</td>\n",
              "    </tr>\n",
              "    <tr>\n",
              "      <th>3</th>\n",
              "      <td>Изменить структура категорий, что увеличит конверсию, т.к. пользователи быстрее найдут нужный товар</td>\n",
              "      <td>8</td>\n",
              "      <td>3</td>\n",
              "      <td>3</td>\n",
              "      <td>8</td>\n",
              "      <td>1.12</td>\n",
              "    </tr>\n",
              "    <tr>\n",
              "      <th>4</th>\n",
              "      <td>Изменить цвет фона главной страницы, чтобы увеличить вовлеченность пользователей</td>\n",
              "      <td>3</td>\n",
              "      <td>1</td>\n",
              "      <td>1</td>\n",
              "      <td>1</td>\n",
              "      <td>1.00</td>\n",
              "    </tr>\n",
              "  </tbody>\n",
              "</table>\n",
              "</div>\n",
              "    <div class=\"colab-df-buttons\">\n",
              "\n",
              "  <div class=\"colab-df-container\">\n",
              "    <button class=\"colab-df-convert\" onclick=\"convertToInteractive('df-00053320-31ab-4c03-aae1-0f23e4683c95')\"\n",
              "            title=\"Convert this dataframe to an interactive table.\"\n",
              "            style=\"display:none;\">\n",
              "\n",
              "  <svg xmlns=\"http://www.w3.org/2000/svg\" height=\"24px\" viewBox=\"0 -960 960 960\">\n",
              "    <path d=\"M120-120v-720h720v720H120Zm60-500h600v-160H180v160Zm220 220h160v-160H400v160Zm0 220h160v-160H400v160ZM180-400h160v-160H180v160Zm440 0h160v-160H620v160ZM180-180h160v-160H180v160Zm440 0h160v-160H620v160Z\"/>\n",
              "  </svg>\n",
              "    </button>\n",
              "\n",
              "  <style>\n",
              "    .colab-df-container {\n",
              "      display:flex;\n",
              "      gap: 12px;\n",
              "    }\n",
              "\n",
              "    .colab-df-convert {\n",
              "      background-color: #E8F0FE;\n",
              "      border: none;\n",
              "      border-radius: 50%;\n",
              "      cursor: pointer;\n",
              "      display: none;\n",
              "      fill: #1967D2;\n",
              "      height: 32px;\n",
              "      padding: 0 0 0 0;\n",
              "      width: 32px;\n",
              "    }\n",
              "\n",
              "    .colab-df-convert:hover {\n",
              "      background-color: #E2EBFA;\n",
              "      box-shadow: 0px 1px 2px rgba(60, 64, 67, 0.3), 0px 1px 3px 1px rgba(60, 64, 67, 0.15);\n",
              "      fill: #174EA6;\n",
              "    }\n",
              "\n",
              "    .colab-df-buttons div {\n",
              "      margin-bottom: 4px;\n",
              "    }\n",
              "\n",
              "    [theme=dark] .colab-df-convert {\n",
              "      background-color: #3B4455;\n",
              "      fill: #D2E3FC;\n",
              "    }\n",
              "\n",
              "    [theme=dark] .colab-df-convert:hover {\n",
              "      background-color: #434B5C;\n",
              "      box-shadow: 0px 1px 3px 1px rgba(0, 0, 0, 0.15);\n",
              "      filter: drop-shadow(0px 1px 2px rgba(0, 0, 0, 0.3));\n",
              "      fill: #FFFFFF;\n",
              "    }\n",
              "  </style>\n",
              "\n",
              "    <script>\n",
              "      const buttonEl =\n",
              "        document.querySelector('#df-00053320-31ab-4c03-aae1-0f23e4683c95 button.colab-df-convert');\n",
              "      buttonEl.style.display =\n",
              "        google.colab.kernel.accessAllowed ? 'block' : 'none';\n",
              "\n",
              "      async function convertToInteractive(key) {\n",
              "        const element = document.querySelector('#df-00053320-31ab-4c03-aae1-0f23e4683c95');\n",
              "        const dataTable =\n",
              "          await google.colab.kernel.invokeFunction('convertToInteractive',\n",
              "                                                    [key], {});\n",
              "        if (!dataTable) return;\n",
              "\n",
              "        const docLinkHtml = 'Like what you see? Visit the ' +\n",
              "          '<a target=\"_blank\" href=https://colab.research.google.com/notebooks/data_table.ipynb>data table notebook</a>'\n",
              "          + ' to learn more about interactive tables.';\n",
              "        element.innerHTML = '';\n",
              "        dataTable['output_type'] = 'display_data';\n",
              "        await google.colab.output.renderOutput(dataTable, element);\n",
              "        const docLink = document.createElement('div');\n",
              "        docLink.innerHTML = docLinkHtml;\n",
              "        element.appendChild(docLink);\n",
              "      }\n",
              "    </script>\n",
              "  </div>\n",
              "\n",
              "\n",
              "<div id=\"df-580c5580-2333-4119-9490-8c0d059e56e4\">\n",
              "  <button class=\"colab-df-quickchart\" onclick=\"quickchart('df-580c5580-2333-4119-9490-8c0d059e56e4')\"\n",
              "            title=\"Suggest charts\"\n",
              "            style=\"display:none;\">\n",
              "\n",
              "<svg xmlns=\"http://www.w3.org/2000/svg\" height=\"24px\"viewBox=\"0 0 24 24\"\n",
              "     width=\"24px\">\n",
              "    <g>\n",
              "        <path d=\"M19 3H5c-1.1 0-2 .9-2 2v14c0 1.1.9 2 2 2h14c1.1 0 2-.9 2-2V5c0-1.1-.9-2-2-2zM9 17H7v-7h2v7zm4 0h-2V7h2v10zm4 0h-2v-4h2v4z\"/>\n",
              "    </g>\n",
              "</svg>\n",
              "  </button>\n",
              "\n",
              "<style>\n",
              "  .colab-df-quickchart {\n",
              "      --bg-color: #E8F0FE;\n",
              "      --fill-color: #1967D2;\n",
              "      --hover-bg-color: #E2EBFA;\n",
              "      --hover-fill-color: #174EA6;\n",
              "      --disabled-fill-color: #AAA;\n",
              "      --disabled-bg-color: #DDD;\n",
              "  }\n",
              "\n",
              "  [theme=dark] .colab-df-quickchart {\n",
              "      --bg-color: #3B4455;\n",
              "      --fill-color: #D2E3FC;\n",
              "      --hover-bg-color: #434B5C;\n",
              "      --hover-fill-color: #FFFFFF;\n",
              "      --disabled-bg-color: #3B4455;\n",
              "      --disabled-fill-color: #666;\n",
              "  }\n",
              "\n",
              "  .colab-df-quickchart {\n",
              "    background-color: var(--bg-color);\n",
              "    border: none;\n",
              "    border-radius: 50%;\n",
              "    cursor: pointer;\n",
              "    display: none;\n",
              "    fill: var(--fill-color);\n",
              "    height: 32px;\n",
              "    padding: 0;\n",
              "    width: 32px;\n",
              "  }\n",
              "\n",
              "  .colab-df-quickchart:hover {\n",
              "    background-color: var(--hover-bg-color);\n",
              "    box-shadow: 0 1px 2px rgba(60, 64, 67, 0.3), 0 1px 3px 1px rgba(60, 64, 67, 0.15);\n",
              "    fill: var(--button-hover-fill-color);\n",
              "  }\n",
              "\n",
              "  .colab-df-quickchart-complete:disabled,\n",
              "  .colab-df-quickchart-complete:disabled:hover {\n",
              "    background-color: var(--disabled-bg-color);\n",
              "    fill: var(--disabled-fill-color);\n",
              "    box-shadow: none;\n",
              "  }\n",
              "\n",
              "  .colab-df-spinner {\n",
              "    border: 2px solid var(--fill-color);\n",
              "    border-color: transparent;\n",
              "    border-bottom-color: var(--fill-color);\n",
              "    animation:\n",
              "      spin 1s steps(1) infinite;\n",
              "  }\n",
              "\n",
              "  @keyframes spin {\n",
              "    0% {\n",
              "      border-color: transparent;\n",
              "      border-bottom-color: var(--fill-color);\n",
              "      border-left-color: var(--fill-color);\n",
              "    }\n",
              "    20% {\n",
              "      border-color: transparent;\n",
              "      border-left-color: var(--fill-color);\n",
              "      border-top-color: var(--fill-color);\n",
              "    }\n",
              "    30% {\n",
              "      border-color: transparent;\n",
              "      border-left-color: var(--fill-color);\n",
              "      border-top-color: var(--fill-color);\n",
              "      border-right-color: var(--fill-color);\n",
              "    }\n",
              "    40% {\n",
              "      border-color: transparent;\n",
              "      border-right-color: var(--fill-color);\n",
              "      border-top-color: var(--fill-color);\n",
              "    }\n",
              "    60% {\n",
              "      border-color: transparent;\n",
              "      border-right-color: var(--fill-color);\n",
              "    }\n",
              "    80% {\n",
              "      border-color: transparent;\n",
              "      border-right-color: var(--fill-color);\n",
              "      border-bottom-color: var(--fill-color);\n",
              "    }\n",
              "    90% {\n",
              "      border-color: transparent;\n",
              "      border-bottom-color: var(--fill-color);\n",
              "    }\n",
              "  }\n",
              "</style>\n",
              "\n",
              "  <script>\n",
              "    async function quickchart(key) {\n",
              "      const quickchartButtonEl =\n",
              "        document.querySelector('#' + key + ' button');\n",
              "      quickchartButtonEl.disabled = true;  // To prevent multiple clicks.\n",
              "      quickchartButtonEl.classList.add('colab-df-spinner');\n",
              "      try {\n",
              "        const charts = await google.colab.kernel.invokeFunction(\n",
              "            'suggestCharts', [key], {});\n",
              "      } catch (error) {\n",
              "        console.error('Error during call to suggestCharts:', error);\n",
              "      }\n",
              "      quickchartButtonEl.classList.remove('colab-df-spinner');\n",
              "      quickchartButtonEl.classList.add('colab-df-quickchart-complete');\n",
              "    }\n",
              "    (() => {\n",
              "      let quickchartButtonEl =\n",
              "        document.querySelector('#df-580c5580-2333-4119-9490-8c0d059e56e4 button');\n",
              "      quickchartButtonEl.style.display =\n",
              "        google.colab.kernel.accessAllowed ? 'block' : 'none';\n",
              "    })();\n",
              "  </script>\n",
              "</div>\n",
              "    </div>\n",
              "  </div>\n"
            ]
          },
          "metadata": {}
        }
      ],
      "source": [
        "hyp['ICE'] = round((hyp['Impact'] * hyp ['Confidence']) / hyp['Efforts'], 2)\n",
        "\n",
        "display(hyp.sort_values(by = 'ICE', ascending = False))"
      ]
    },
    {
      "cell_type": "markdown",
      "metadata": {
        "id": "wvNyLUUD4Aiu"
      },
      "source": [
        "<div class=\"alert alert-info\"> <b>Комментарий студента:</b> Округлил. </div>"
      ]
    },
    {
      "cell_type": "code",
      "execution_count": 6,
      "metadata": {
        "colab": {
          "base_uri": "https://localhost:8080/",
          "height": 331
        },
        "id": "ZG-ebXwk4Aiu",
        "outputId": "bb5d3e84-ed42-4238-9462-c11a4e5ba6a1"
      },
      "outputs": [
        {
          "output_type": "display_data",
          "data": {
            "text/plain": [
              "                                                                                                     Hypothesis  \\\n",
              "7              Добавить форму подписки на все основные страницы, чтобы собрать базу клиентов для email-рассылок   \n",
              "2  Добавить блоки рекомендаций товаров на сайт интернет магазина, чтобы повысить конверсию и средний чек заказа   \n",
              "0            Добавить два новых канала привлечения трафика, что позволит привлекать на 30% больше пользователей   \n",
              "6          Показать на главной странице баннеры с актуальными акциями и распродажами, чтобы увеличить конверсию   \n",
              "8                                                       Запустить акцию, дающую скидку на товар в день рождения   \n",
              "3           Изменить структура категорий, что увеличит конверсию, т.к. пользователи быстрее найдут нужный товар   \n",
              "1                                     Запустить собственную службу доставки, что сократит срок доставки заказов   \n",
              "5                      Добавить страницу отзывов клиентов о магазине, что позволит увеличить количество заказов   \n",
              "4                              Изменить цвет фона главной страницы, чтобы увеличить вовлеченность пользователей   \n",
              "\n",
              "   Reach  Impact  Confidence  Efforts    ICE   RICE  \n",
              "7     10       7           8        5  11.20  112.0  \n",
              "2      8       3           7        3   7.00   56.0  \n",
              "0      3      10           8        6  13.33   40.0  \n",
              "6      5       3           8        3   8.00   40.0  \n",
              "8      1       9           9        5  16.20   16.2  \n",
              "3      8       3           3        8   1.12    9.0  \n",
              "1      2       5           4       10   2.00    4.0  \n",
              "5      3       2           2        3   1.33    4.0  \n",
              "4      3       1           1        1   1.00    3.0  "
            ],
            "text/html": [
              "\n",
              "  <div id=\"df-626e888b-9cd5-44a5-9da4-5b8dd0e312d1\" class=\"colab-df-container\">\n",
              "    <div>\n",
              "<style scoped>\n",
              "    .dataframe tbody tr th:only-of-type {\n",
              "        vertical-align: middle;\n",
              "    }\n",
              "\n",
              "    .dataframe tbody tr th {\n",
              "        vertical-align: top;\n",
              "    }\n",
              "\n",
              "    .dataframe thead th {\n",
              "        text-align: right;\n",
              "    }\n",
              "</style>\n",
              "<table border=\"1\" class=\"dataframe\">\n",
              "  <thead>\n",
              "    <tr style=\"text-align: right;\">\n",
              "      <th></th>\n",
              "      <th>Hypothesis</th>\n",
              "      <th>Reach</th>\n",
              "      <th>Impact</th>\n",
              "      <th>Confidence</th>\n",
              "      <th>Efforts</th>\n",
              "      <th>ICE</th>\n",
              "      <th>RICE</th>\n",
              "    </tr>\n",
              "  </thead>\n",
              "  <tbody>\n",
              "    <tr>\n",
              "      <th>7</th>\n",
              "      <td>Добавить форму подписки на все основные страницы, чтобы собрать базу клиентов для email-рассылок</td>\n",
              "      <td>10</td>\n",
              "      <td>7</td>\n",
              "      <td>8</td>\n",
              "      <td>5</td>\n",
              "      <td>11.20</td>\n",
              "      <td>112.0</td>\n",
              "    </tr>\n",
              "    <tr>\n",
              "      <th>2</th>\n",
              "      <td>Добавить блоки рекомендаций товаров на сайт интернет магазина, чтобы повысить конверсию и средний чек заказа</td>\n",
              "      <td>8</td>\n",
              "      <td>3</td>\n",
              "      <td>7</td>\n",
              "      <td>3</td>\n",
              "      <td>7.00</td>\n",
              "      <td>56.0</td>\n",
              "    </tr>\n",
              "    <tr>\n",
              "      <th>0</th>\n",
              "      <td>Добавить два новых канала привлечения трафика, что позволит привлекать на 30% больше пользователей</td>\n",
              "      <td>3</td>\n",
              "      <td>10</td>\n",
              "      <td>8</td>\n",
              "      <td>6</td>\n",
              "      <td>13.33</td>\n",
              "      <td>40.0</td>\n",
              "    </tr>\n",
              "    <tr>\n",
              "      <th>6</th>\n",
              "      <td>Показать на главной странице баннеры с актуальными акциями и распродажами, чтобы увеличить конверсию</td>\n",
              "      <td>5</td>\n",
              "      <td>3</td>\n",
              "      <td>8</td>\n",
              "      <td>3</td>\n",
              "      <td>8.00</td>\n",
              "      <td>40.0</td>\n",
              "    </tr>\n",
              "    <tr>\n",
              "      <th>8</th>\n",
              "      <td>Запустить акцию, дающую скидку на товар в день рождения</td>\n",
              "      <td>1</td>\n",
              "      <td>9</td>\n",
              "      <td>9</td>\n",
              "      <td>5</td>\n",
              "      <td>16.20</td>\n",
              "      <td>16.2</td>\n",
              "    </tr>\n",
              "    <tr>\n",
              "      <th>3</th>\n",
              "      <td>Изменить структура категорий, что увеличит конверсию, т.к. пользователи быстрее найдут нужный товар</td>\n",
              "      <td>8</td>\n",
              "      <td>3</td>\n",
              "      <td>3</td>\n",
              "      <td>8</td>\n",
              "      <td>1.12</td>\n",
              "      <td>9.0</td>\n",
              "    </tr>\n",
              "    <tr>\n",
              "      <th>1</th>\n",
              "      <td>Запустить собственную службу доставки, что сократит срок доставки заказов</td>\n",
              "      <td>2</td>\n",
              "      <td>5</td>\n",
              "      <td>4</td>\n",
              "      <td>10</td>\n",
              "      <td>2.00</td>\n",
              "      <td>4.0</td>\n",
              "    </tr>\n",
              "    <tr>\n",
              "      <th>5</th>\n",
              "      <td>Добавить страницу отзывов клиентов о магазине, что позволит увеличить количество заказов</td>\n",
              "      <td>3</td>\n",
              "      <td>2</td>\n",
              "      <td>2</td>\n",
              "      <td>3</td>\n",
              "      <td>1.33</td>\n",
              "      <td>4.0</td>\n",
              "    </tr>\n",
              "    <tr>\n",
              "      <th>4</th>\n",
              "      <td>Изменить цвет фона главной страницы, чтобы увеличить вовлеченность пользователей</td>\n",
              "      <td>3</td>\n",
              "      <td>1</td>\n",
              "      <td>1</td>\n",
              "      <td>1</td>\n",
              "      <td>1.00</td>\n",
              "      <td>3.0</td>\n",
              "    </tr>\n",
              "  </tbody>\n",
              "</table>\n",
              "</div>\n",
              "    <div class=\"colab-df-buttons\">\n",
              "\n",
              "  <div class=\"colab-df-container\">\n",
              "    <button class=\"colab-df-convert\" onclick=\"convertToInteractive('df-626e888b-9cd5-44a5-9da4-5b8dd0e312d1')\"\n",
              "            title=\"Convert this dataframe to an interactive table.\"\n",
              "            style=\"display:none;\">\n",
              "\n",
              "  <svg xmlns=\"http://www.w3.org/2000/svg\" height=\"24px\" viewBox=\"0 -960 960 960\">\n",
              "    <path d=\"M120-120v-720h720v720H120Zm60-500h600v-160H180v160Zm220 220h160v-160H400v160Zm0 220h160v-160H400v160ZM180-400h160v-160H180v160Zm440 0h160v-160H620v160ZM180-180h160v-160H180v160Zm440 0h160v-160H620v160Z\"/>\n",
              "  </svg>\n",
              "    </button>\n",
              "\n",
              "  <style>\n",
              "    .colab-df-container {\n",
              "      display:flex;\n",
              "      gap: 12px;\n",
              "    }\n",
              "\n",
              "    .colab-df-convert {\n",
              "      background-color: #E8F0FE;\n",
              "      border: none;\n",
              "      border-radius: 50%;\n",
              "      cursor: pointer;\n",
              "      display: none;\n",
              "      fill: #1967D2;\n",
              "      height: 32px;\n",
              "      padding: 0 0 0 0;\n",
              "      width: 32px;\n",
              "    }\n",
              "\n",
              "    .colab-df-convert:hover {\n",
              "      background-color: #E2EBFA;\n",
              "      box-shadow: 0px 1px 2px rgba(60, 64, 67, 0.3), 0px 1px 3px 1px rgba(60, 64, 67, 0.15);\n",
              "      fill: #174EA6;\n",
              "    }\n",
              "\n",
              "    .colab-df-buttons div {\n",
              "      margin-bottom: 4px;\n",
              "    }\n",
              "\n",
              "    [theme=dark] .colab-df-convert {\n",
              "      background-color: #3B4455;\n",
              "      fill: #D2E3FC;\n",
              "    }\n",
              "\n",
              "    [theme=dark] .colab-df-convert:hover {\n",
              "      background-color: #434B5C;\n",
              "      box-shadow: 0px 1px 3px 1px rgba(0, 0, 0, 0.15);\n",
              "      filter: drop-shadow(0px 1px 2px rgba(0, 0, 0, 0.3));\n",
              "      fill: #FFFFFF;\n",
              "    }\n",
              "  </style>\n",
              "\n",
              "    <script>\n",
              "      const buttonEl =\n",
              "        document.querySelector('#df-626e888b-9cd5-44a5-9da4-5b8dd0e312d1 button.colab-df-convert');\n",
              "      buttonEl.style.display =\n",
              "        google.colab.kernel.accessAllowed ? 'block' : 'none';\n",
              "\n",
              "      async function convertToInteractive(key) {\n",
              "        const element = document.querySelector('#df-626e888b-9cd5-44a5-9da4-5b8dd0e312d1');\n",
              "        const dataTable =\n",
              "          await google.colab.kernel.invokeFunction('convertToInteractive',\n",
              "                                                    [key], {});\n",
              "        if (!dataTable) return;\n",
              "\n",
              "        const docLinkHtml = 'Like what you see? Visit the ' +\n",
              "          '<a target=\"_blank\" href=https://colab.research.google.com/notebooks/data_table.ipynb>data table notebook</a>'\n",
              "          + ' to learn more about interactive tables.';\n",
              "        element.innerHTML = '';\n",
              "        dataTable['output_type'] = 'display_data';\n",
              "        await google.colab.output.renderOutput(dataTable, element);\n",
              "        const docLink = document.createElement('div');\n",
              "        docLink.innerHTML = docLinkHtml;\n",
              "        element.appendChild(docLink);\n",
              "      }\n",
              "    </script>\n",
              "  </div>\n",
              "\n",
              "\n",
              "<div id=\"df-a213cdea-5de0-409b-ad20-3112ea1cd6c2\">\n",
              "  <button class=\"colab-df-quickchart\" onclick=\"quickchart('df-a213cdea-5de0-409b-ad20-3112ea1cd6c2')\"\n",
              "            title=\"Suggest charts\"\n",
              "            style=\"display:none;\">\n",
              "\n",
              "<svg xmlns=\"http://www.w3.org/2000/svg\" height=\"24px\"viewBox=\"0 0 24 24\"\n",
              "     width=\"24px\">\n",
              "    <g>\n",
              "        <path d=\"M19 3H5c-1.1 0-2 .9-2 2v14c0 1.1.9 2 2 2h14c1.1 0 2-.9 2-2V5c0-1.1-.9-2-2-2zM9 17H7v-7h2v7zm4 0h-2V7h2v10zm4 0h-2v-4h2v4z\"/>\n",
              "    </g>\n",
              "</svg>\n",
              "  </button>\n",
              "\n",
              "<style>\n",
              "  .colab-df-quickchart {\n",
              "      --bg-color: #E8F0FE;\n",
              "      --fill-color: #1967D2;\n",
              "      --hover-bg-color: #E2EBFA;\n",
              "      --hover-fill-color: #174EA6;\n",
              "      --disabled-fill-color: #AAA;\n",
              "      --disabled-bg-color: #DDD;\n",
              "  }\n",
              "\n",
              "  [theme=dark] .colab-df-quickchart {\n",
              "      --bg-color: #3B4455;\n",
              "      --fill-color: #D2E3FC;\n",
              "      --hover-bg-color: #434B5C;\n",
              "      --hover-fill-color: #FFFFFF;\n",
              "      --disabled-bg-color: #3B4455;\n",
              "      --disabled-fill-color: #666;\n",
              "  }\n",
              "\n",
              "  .colab-df-quickchart {\n",
              "    background-color: var(--bg-color);\n",
              "    border: none;\n",
              "    border-radius: 50%;\n",
              "    cursor: pointer;\n",
              "    display: none;\n",
              "    fill: var(--fill-color);\n",
              "    height: 32px;\n",
              "    padding: 0;\n",
              "    width: 32px;\n",
              "  }\n",
              "\n",
              "  .colab-df-quickchart:hover {\n",
              "    background-color: var(--hover-bg-color);\n",
              "    box-shadow: 0 1px 2px rgba(60, 64, 67, 0.3), 0 1px 3px 1px rgba(60, 64, 67, 0.15);\n",
              "    fill: var(--button-hover-fill-color);\n",
              "  }\n",
              "\n",
              "  .colab-df-quickchart-complete:disabled,\n",
              "  .colab-df-quickchart-complete:disabled:hover {\n",
              "    background-color: var(--disabled-bg-color);\n",
              "    fill: var(--disabled-fill-color);\n",
              "    box-shadow: none;\n",
              "  }\n",
              "\n",
              "  .colab-df-spinner {\n",
              "    border: 2px solid var(--fill-color);\n",
              "    border-color: transparent;\n",
              "    border-bottom-color: var(--fill-color);\n",
              "    animation:\n",
              "      spin 1s steps(1) infinite;\n",
              "  }\n",
              "\n",
              "  @keyframes spin {\n",
              "    0% {\n",
              "      border-color: transparent;\n",
              "      border-bottom-color: var(--fill-color);\n",
              "      border-left-color: var(--fill-color);\n",
              "    }\n",
              "    20% {\n",
              "      border-color: transparent;\n",
              "      border-left-color: var(--fill-color);\n",
              "      border-top-color: var(--fill-color);\n",
              "    }\n",
              "    30% {\n",
              "      border-color: transparent;\n",
              "      border-left-color: var(--fill-color);\n",
              "      border-top-color: var(--fill-color);\n",
              "      border-right-color: var(--fill-color);\n",
              "    }\n",
              "    40% {\n",
              "      border-color: transparent;\n",
              "      border-right-color: var(--fill-color);\n",
              "      border-top-color: var(--fill-color);\n",
              "    }\n",
              "    60% {\n",
              "      border-color: transparent;\n",
              "      border-right-color: var(--fill-color);\n",
              "    }\n",
              "    80% {\n",
              "      border-color: transparent;\n",
              "      border-right-color: var(--fill-color);\n",
              "      border-bottom-color: var(--fill-color);\n",
              "    }\n",
              "    90% {\n",
              "      border-color: transparent;\n",
              "      border-bottom-color: var(--fill-color);\n",
              "    }\n",
              "  }\n",
              "</style>\n",
              "\n",
              "  <script>\n",
              "    async function quickchart(key) {\n",
              "      const quickchartButtonEl =\n",
              "        document.querySelector('#' + key + ' button');\n",
              "      quickchartButtonEl.disabled = true;  // To prevent multiple clicks.\n",
              "      quickchartButtonEl.classList.add('colab-df-spinner');\n",
              "      try {\n",
              "        const charts = await google.colab.kernel.invokeFunction(\n",
              "            'suggestCharts', [key], {});\n",
              "      } catch (error) {\n",
              "        console.error('Error during call to suggestCharts:', error);\n",
              "      }\n",
              "      quickchartButtonEl.classList.remove('colab-df-spinner');\n",
              "      quickchartButtonEl.classList.add('colab-df-quickchart-complete');\n",
              "    }\n",
              "    (() => {\n",
              "      let quickchartButtonEl =\n",
              "        document.querySelector('#df-a213cdea-5de0-409b-ad20-3112ea1cd6c2 button');\n",
              "      quickchartButtonEl.style.display =\n",
              "        google.colab.kernel.accessAllowed ? 'block' : 'none';\n",
              "    })();\n",
              "  </script>\n",
              "</div>\n",
              "    </div>\n",
              "  </div>\n"
            ]
          },
          "metadata": {}
        }
      ],
      "source": [
        "hyp['RICE'] = (hyp['Reach'] * hyp['Impact'] * hyp ['Confidence']) / hyp['Efforts']\n",
        "\n",
        "display(hyp.sort_values(by = 'RICE', ascending = False))"
      ]
    },
    {
      "cell_type": "markdown",
      "metadata": {
        "id": "oDk_FB_f4Aiu"
      },
      "source": [
        "Выше была осуществлена оценка приоритетов гипотез методами ICE и RICE, и применена сортировка по убыванию приоритета. При этом, после применения метода RICE порядок сортировки изменился, так как к расчету был добавлен параметр Reach - охват пользователей, соответственно, больший приоритет получили гипотезы, предполагающие больший охват."
      ]
    },
    {
      "cell_type": "markdown",
      "metadata": {
        "id": "WzQ9-FJs4Aiu"
      },
      "source": [
        "\n",
        "\n",
        "## Анализ A/B-теста"
      ]
    },
    {
      "cell_type": "markdown",
      "source": [
        "### Изучим и подготовим данные"
      ],
      "metadata": {
        "id": "S0WTL5c95Pnw"
      }
    },
    {
      "cell_type": "code",
      "execution_count": 7,
      "metadata": {
        "id": "kLoGP_664Aiu"
      },
      "outputs": [],
      "source": [
        "orders = pd.read_csv('/datasets/e_com_orders.csv')\n",
        "visitors = pd.read_csv('/datasets/e_com_visitors.csv')"
      ]
    },
    {
      "cell_type": "code",
      "execution_count": 8,
      "metadata": {
        "colab": {
          "base_uri": "https://localhost:8080/",
          "height": 206
        },
        "id": "3OK4utvy4Aiu",
        "outputId": "612be2b4-73e9-4392-bf86-0e67c3df064f"
      },
      "outputs": [
        {
          "output_type": "display_data",
          "data": {
            "text/plain": [
              "   transactionId   visitorId        date  revenue group\n",
              "0     3667963787  3312258926  2019-08-15     1650     B\n",
              "1     2804400009  3642806036  2019-08-15      730     B\n",
              "2     2961555356  4069496402  2019-08-15      400     A\n",
              "3     3797467345  1196621759  2019-08-15     9759     B\n",
              "4     2282983706  2322279887  2019-08-15     2308     B"
            ],
            "text/html": [
              "\n",
              "  <div id=\"df-440827e1-499f-4940-bde0-b294dcba5290\" class=\"colab-df-container\">\n",
              "    <div>\n",
              "<style scoped>\n",
              "    .dataframe tbody tr th:only-of-type {\n",
              "        vertical-align: middle;\n",
              "    }\n",
              "\n",
              "    .dataframe tbody tr th {\n",
              "        vertical-align: top;\n",
              "    }\n",
              "\n",
              "    .dataframe thead th {\n",
              "        text-align: right;\n",
              "    }\n",
              "</style>\n",
              "<table border=\"1\" class=\"dataframe\">\n",
              "  <thead>\n",
              "    <tr style=\"text-align: right;\">\n",
              "      <th></th>\n",
              "      <th>transactionId</th>\n",
              "      <th>visitorId</th>\n",
              "      <th>date</th>\n",
              "      <th>revenue</th>\n",
              "      <th>group</th>\n",
              "    </tr>\n",
              "  </thead>\n",
              "  <tbody>\n",
              "    <tr>\n",
              "      <th>0</th>\n",
              "      <td>3667963787</td>\n",
              "      <td>3312258926</td>\n",
              "      <td>2019-08-15</td>\n",
              "      <td>1650</td>\n",
              "      <td>B</td>\n",
              "    </tr>\n",
              "    <tr>\n",
              "      <th>1</th>\n",
              "      <td>2804400009</td>\n",
              "      <td>3642806036</td>\n",
              "      <td>2019-08-15</td>\n",
              "      <td>730</td>\n",
              "      <td>B</td>\n",
              "    </tr>\n",
              "    <tr>\n",
              "      <th>2</th>\n",
              "      <td>2961555356</td>\n",
              "      <td>4069496402</td>\n",
              "      <td>2019-08-15</td>\n",
              "      <td>400</td>\n",
              "      <td>A</td>\n",
              "    </tr>\n",
              "    <tr>\n",
              "      <th>3</th>\n",
              "      <td>3797467345</td>\n",
              "      <td>1196621759</td>\n",
              "      <td>2019-08-15</td>\n",
              "      <td>9759</td>\n",
              "      <td>B</td>\n",
              "    </tr>\n",
              "    <tr>\n",
              "      <th>4</th>\n",
              "      <td>2282983706</td>\n",
              "      <td>2322279887</td>\n",
              "      <td>2019-08-15</td>\n",
              "      <td>2308</td>\n",
              "      <td>B</td>\n",
              "    </tr>\n",
              "  </tbody>\n",
              "</table>\n",
              "</div>\n",
              "    <div class=\"colab-df-buttons\">\n",
              "\n",
              "  <div class=\"colab-df-container\">\n",
              "    <button class=\"colab-df-convert\" onclick=\"convertToInteractive('df-440827e1-499f-4940-bde0-b294dcba5290')\"\n",
              "            title=\"Convert this dataframe to an interactive table.\"\n",
              "            style=\"display:none;\">\n",
              "\n",
              "  <svg xmlns=\"http://www.w3.org/2000/svg\" height=\"24px\" viewBox=\"0 -960 960 960\">\n",
              "    <path d=\"M120-120v-720h720v720H120Zm60-500h600v-160H180v160Zm220 220h160v-160H400v160Zm0 220h160v-160H400v160ZM180-400h160v-160H180v160Zm440 0h160v-160H620v160ZM180-180h160v-160H180v160Zm440 0h160v-160H620v160Z\"/>\n",
              "  </svg>\n",
              "    </button>\n",
              "\n",
              "  <style>\n",
              "    .colab-df-container {\n",
              "      display:flex;\n",
              "      gap: 12px;\n",
              "    }\n",
              "\n",
              "    .colab-df-convert {\n",
              "      background-color: #E8F0FE;\n",
              "      border: none;\n",
              "      border-radius: 50%;\n",
              "      cursor: pointer;\n",
              "      display: none;\n",
              "      fill: #1967D2;\n",
              "      height: 32px;\n",
              "      padding: 0 0 0 0;\n",
              "      width: 32px;\n",
              "    }\n",
              "\n",
              "    .colab-df-convert:hover {\n",
              "      background-color: #E2EBFA;\n",
              "      box-shadow: 0px 1px 2px rgba(60, 64, 67, 0.3), 0px 1px 3px 1px rgba(60, 64, 67, 0.15);\n",
              "      fill: #174EA6;\n",
              "    }\n",
              "\n",
              "    .colab-df-buttons div {\n",
              "      margin-bottom: 4px;\n",
              "    }\n",
              "\n",
              "    [theme=dark] .colab-df-convert {\n",
              "      background-color: #3B4455;\n",
              "      fill: #D2E3FC;\n",
              "    }\n",
              "\n",
              "    [theme=dark] .colab-df-convert:hover {\n",
              "      background-color: #434B5C;\n",
              "      box-shadow: 0px 1px 3px 1px rgba(0, 0, 0, 0.15);\n",
              "      filter: drop-shadow(0px 1px 2px rgba(0, 0, 0, 0.3));\n",
              "      fill: #FFFFFF;\n",
              "    }\n",
              "  </style>\n",
              "\n",
              "    <script>\n",
              "      const buttonEl =\n",
              "        document.querySelector('#df-440827e1-499f-4940-bde0-b294dcba5290 button.colab-df-convert');\n",
              "      buttonEl.style.display =\n",
              "        google.colab.kernel.accessAllowed ? 'block' : 'none';\n",
              "\n",
              "      async function convertToInteractive(key) {\n",
              "        const element = document.querySelector('#df-440827e1-499f-4940-bde0-b294dcba5290');\n",
              "        const dataTable =\n",
              "          await google.colab.kernel.invokeFunction('convertToInteractive',\n",
              "                                                    [key], {});\n",
              "        if (!dataTable) return;\n",
              "\n",
              "        const docLinkHtml = 'Like what you see? Visit the ' +\n",
              "          '<a target=\"_blank\" href=https://colab.research.google.com/notebooks/data_table.ipynb>data table notebook</a>'\n",
              "          + ' to learn more about interactive tables.';\n",
              "        element.innerHTML = '';\n",
              "        dataTable['output_type'] = 'display_data';\n",
              "        await google.colab.output.renderOutput(dataTable, element);\n",
              "        const docLink = document.createElement('div');\n",
              "        docLink.innerHTML = docLinkHtml;\n",
              "        element.appendChild(docLink);\n",
              "      }\n",
              "    </script>\n",
              "  </div>\n",
              "\n",
              "\n",
              "<div id=\"df-dc1ba0fb-a2b6-4215-9ed0-e09398cb507d\">\n",
              "  <button class=\"colab-df-quickchart\" onclick=\"quickchart('df-dc1ba0fb-a2b6-4215-9ed0-e09398cb507d')\"\n",
              "            title=\"Suggest charts\"\n",
              "            style=\"display:none;\">\n",
              "\n",
              "<svg xmlns=\"http://www.w3.org/2000/svg\" height=\"24px\"viewBox=\"0 0 24 24\"\n",
              "     width=\"24px\">\n",
              "    <g>\n",
              "        <path d=\"M19 3H5c-1.1 0-2 .9-2 2v14c0 1.1.9 2 2 2h14c1.1 0 2-.9 2-2V5c0-1.1-.9-2-2-2zM9 17H7v-7h2v7zm4 0h-2V7h2v10zm4 0h-2v-4h2v4z\"/>\n",
              "    </g>\n",
              "</svg>\n",
              "  </button>\n",
              "\n",
              "<style>\n",
              "  .colab-df-quickchart {\n",
              "      --bg-color: #E8F0FE;\n",
              "      --fill-color: #1967D2;\n",
              "      --hover-bg-color: #E2EBFA;\n",
              "      --hover-fill-color: #174EA6;\n",
              "      --disabled-fill-color: #AAA;\n",
              "      --disabled-bg-color: #DDD;\n",
              "  }\n",
              "\n",
              "  [theme=dark] .colab-df-quickchart {\n",
              "      --bg-color: #3B4455;\n",
              "      --fill-color: #D2E3FC;\n",
              "      --hover-bg-color: #434B5C;\n",
              "      --hover-fill-color: #FFFFFF;\n",
              "      --disabled-bg-color: #3B4455;\n",
              "      --disabled-fill-color: #666;\n",
              "  }\n",
              "\n",
              "  .colab-df-quickchart {\n",
              "    background-color: var(--bg-color);\n",
              "    border: none;\n",
              "    border-radius: 50%;\n",
              "    cursor: pointer;\n",
              "    display: none;\n",
              "    fill: var(--fill-color);\n",
              "    height: 32px;\n",
              "    padding: 0;\n",
              "    width: 32px;\n",
              "  }\n",
              "\n",
              "  .colab-df-quickchart:hover {\n",
              "    background-color: var(--hover-bg-color);\n",
              "    box-shadow: 0 1px 2px rgba(60, 64, 67, 0.3), 0 1px 3px 1px rgba(60, 64, 67, 0.15);\n",
              "    fill: var(--button-hover-fill-color);\n",
              "  }\n",
              "\n",
              "  .colab-df-quickchart-complete:disabled,\n",
              "  .colab-df-quickchart-complete:disabled:hover {\n",
              "    background-color: var(--disabled-bg-color);\n",
              "    fill: var(--disabled-fill-color);\n",
              "    box-shadow: none;\n",
              "  }\n",
              "\n",
              "  .colab-df-spinner {\n",
              "    border: 2px solid var(--fill-color);\n",
              "    border-color: transparent;\n",
              "    border-bottom-color: var(--fill-color);\n",
              "    animation:\n",
              "      spin 1s steps(1) infinite;\n",
              "  }\n",
              "\n",
              "  @keyframes spin {\n",
              "    0% {\n",
              "      border-color: transparent;\n",
              "      border-bottom-color: var(--fill-color);\n",
              "      border-left-color: var(--fill-color);\n",
              "    }\n",
              "    20% {\n",
              "      border-color: transparent;\n",
              "      border-left-color: var(--fill-color);\n",
              "      border-top-color: var(--fill-color);\n",
              "    }\n",
              "    30% {\n",
              "      border-color: transparent;\n",
              "      border-left-color: var(--fill-color);\n",
              "      border-top-color: var(--fill-color);\n",
              "      border-right-color: var(--fill-color);\n",
              "    }\n",
              "    40% {\n",
              "      border-color: transparent;\n",
              "      border-right-color: var(--fill-color);\n",
              "      border-top-color: var(--fill-color);\n",
              "    }\n",
              "    60% {\n",
              "      border-color: transparent;\n",
              "      border-right-color: var(--fill-color);\n",
              "    }\n",
              "    80% {\n",
              "      border-color: transparent;\n",
              "      border-right-color: var(--fill-color);\n",
              "      border-bottom-color: var(--fill-color);\n",
              "    }\n",
              "    90% {\n",
              "      border-color: transparent;\n",
              "      border-bottom-color: var(--fill-color);\n",
              "    }\n",
              "  }\n",
              "</style>\n",
              "\n",
              "  <script>\n",
              "    async function quickchart(key) {\n",
              "      const quickchartButtonEl =\n",
              "        document.querySelector('#' + key + ' button');\n",
              "      quickchartButtonEl.disabled = true;  // To prevent multiple clicks.\n",
              "      quickchartButtonEl.classList.add('colab-df-spinner');\n",
              "      try {\n",
              "        const charts = await google.colab.kernel.invokeFunction(\n",
              "            'suggestCharts', [key], {});\n",
              "      } catch (error) {\n",
              "        console.error('Error during call to suggestCharts:', error);\n",
              "      }\n",
              "      quickchartButtonEl.classList.remove('colab-df-spinner');\n",
              "      quickchartButtonEl.classList.add('colab-df-quickchart-complete');\n",
              "    }\n",
              "    (() => {\n",
              "      let quickchartButtonEl =\n",
              "        document.querySelector('#df-dc1ba0fb-a2b6-4215-9ed0-e09398cb507d button');\n",
              "      quickchartButtonEl.style.display =\n",
              "        google.colab.kernel.accessAllowed ? 'block' : 'none';\n",
              "    })();\n",
              "  </script>\n",
              "</div>\n",
              "    </div>\n",
              "  </div>\n"
            ]
          },
          "metadata": {}
        }
      ],
      "source": [
        "display(orders.head(5))"
      ]
    },
    {
      "cell_type": "code",
      "execution_count": 9,
      "metadata": {
        "colab": {
          "base_uri": "https://localhost:8080/",
          "height": 206
        },
        "id": "T66pH7lF4Aiv",
        "outputId": "c7150be7-5890-465b-9ae7-6dd4bfc109c4"
      },
      "outputs": [
        {
          "output_type": "display_data",
          "data": {
            "text/plain": [
              "         date group  visitors\n",
              "0  2019-08-01     A       719\n",
              "1  2019-08-02     A       619\n",
              "2  2019-08-03     A       507\n",
              "3  2019-08-04     A       717\n",
              "4  2019-08-05     A       756"
            ],
            "text/html": [
              "\n",
              "  <div id=\"df-a4abbaf7-6525-4d6c-9cfc-97138fc7faea\" class=\"colab-df-container\">\n",
              "    <div>\n",
              "<style scoped>\n",
              "    .dataframe tbody tr th:only-of-type {\n",
              "        vertical-align: middle;\n",
              "    }\n",
              "\n",
              "    .dataframe tbody tr th {\n",
              "        vertical-align: top;\n",
              "    }\n",
              "\n",
              "    .dataframe thead th {\n",
              "        text-align: right;\n",
              "    }\n",
              "</style>\n",
              "<table border=\"1\" class=\"dataframe\">\n",
              "  <thead>\n",
              "    <tr style=\"text-align: right;\">\n",
              "      <th></th>\n",
              "      <th>date</th>\n",
              "      <th>group</th>\n",
              "      <th>visitors</th>\n",
              "    </tr>\n",
              "  </thead>\n",
              "  <tbody>\n",
              "    <tr>\n",
              "      <th>0</th>\n",
              "      <td>2019-08-01</td>\n",
              "      <td>A</td>\n",
              "      <td>719</td>\n",
              "    </tr>\n",
              "    <tr>\n",
              "      <th>1</th>\n",
              "      <td>2019-08-02</td>\n",
              "      <td>A</td>\n",
              "      <td>619</td>\n",
              "    </tr>\n",
              "    <tr>\n",
              "      <th>2</th>\n",
              "      <td>2019-08-03</td>\n",
              "      <td>A</td>\n",
              "      <td>507</td>\n",
              "    </tr>\n",
              "    <tr>\n",
              "      <th>3</th>\n",
              "      <td>2019-08-04</td>\n",
              "      <td>A</td>\n",
              "      <td>717</td>\n",
              "    </tr>\n",
              "    <tr>\n",
              "      <th>4</th>\n",
              "      <td>2019-08-05</td>\n",
              "      <td>A</td>\n",
              "      <td>756</td>\n",
              "    </tr>\n",
              "  </tbody>\n",
              "</table>\n",
              "</div>\n",
              "    <div class=\"colab-df-buttons\">\n",
              "\n",
              "  <div class=\"colab-df-container\">\n",
              "    <button class=\"colab-df-convert\" onclick=\"convertToInteractive('df-a4abbaf7-6525-4d6c-9cfc-97138fc7faea')\"\n",
              "            title=\"Convert this dataframe to an interactive table.\"\n",
              "            style=\"display:none;\">\n",
              "\n",
              "  <svg xmlns=\"http://www.w3.org/2000/svg\" height=\"24px\" viewBox=\"0 -960 960 960\">\n",
              "    <path d=\"M120-120v-720h720v720H120Zm60-500h600v-160H180v160Zm220 220h160v-160H400v160Zm0 220h160v-160H400v160ZM180-400h160v-160H180v160Zm440 0h160v-160H620v160ZM180-180h160v-160H180v160Zm440 0h160v-160H620v160Z\"/>\n",
              "  </svg>\n",
              "    </button>\n",
              "\n",
              "  <style>\n",
              "    .colab-df-container {\n",
              "      display:flex;\n",
              "      gap: 12px;\n",
              "    }\n",
              "\n",
              "    .colab-df-convert {\n",
              "      background-color: #E8F0FE;\n",
              "      border: none;\n",
              "      border-radius: 50%;\n",
              "      cursor: pointer;\n",
              "      display: none;\n",
              "      fill: #1967D2;\n",
              "      height: 32px;\n",
              "      padding: 0 0 0 0;\n",
              "      width: 32px;\n",
              "    }\n",
              "\n",
              "    .colab-df-convert:hover {\n",
              "      background-color: #E2EBFA;\n",
              "      box-shadow: 0px 1px 2px rgba(60, 64, 67, 0.3), 0px 1px 3px 1px rgba(60, 64, 67, 0.15);\n",
              "      fill: #174EA6;\n",
              "    }\n",
              "\n",
              "    .colab-df-buttons div {\n",
              "      margin-bottom: 4px;\n",
              "    }\n",
              "\n",
              "    [theme=dark] .colab-df-convert {\n",
              "      background-color: #3B4455;\n",
              "      fill: #D2E3FC;\n",
              "    }\n",
              "\n",
              "    [theme=dark] .colab-df-convert:hover {\n",
              "      background-color: #434B5C;\n",
              "      box-shadow: 0px 1px 3px 1px rgba(0, 0, 0, 0.15);\n",
              "      filter: drop-shadow(0px 1px 2px rgba(0, 0, 0, 0.3));\n",
              "      fill: #FFFFFF;\n",
              "    }\n",
              "  </style>\n",
              "\n",
              "    <script>\n",
              "      const buttonEl =\n",
              "        document.querySelector('#df-a4abbaf7-6525-4d6c-9cfc-97138fc7faea button.colab-df-convert');\n",
              "      buttonEl.style.display =\n",
              "        google.colab.kernel.accessAllowed ? 'block' : 'none';\n",
              "\n",
              "      async function convertToInteractive(key) {\n",
              "        const element = document.querySelector('#df-a4abbaf7-6525-4d6c-9cfc-97138fc7faea');\n",
              "        const dataTable =\n",
              "          await google.colab.kernel.invokeFunction('convertToInteractive',\n",
              "                                                    [key], {});\n",
              "        if (!dataTable) return;\n",
              "\n",
              "        const docLinkHtml = 'Like what you see? Visit the ' +\n",
              "          '<a target=\"_blank\" href=https://colab.research.google.com/notebooks/data_table.ipynb>data table notebook</a>'\n",
              "          + ' to learn more about interactive tables.';\n",
              "        element.innerHTML = '';\n",
              "        dataTable['output_type'] = 'display_data';\n",
              "        await google.colab.output.renderOutput(dataTable, element);\n",
              "        const docLink = document.createElement('div');\n",
              "        docLink.innerHTML = docLinkHtml;\n",
              "        element.appendChild(docLink);\n",
              "      }\n",
              "    </script>\n",
              "  </div>\n",
              "\n",
              "\n",
              "<div id=\"df-f8909000-75d2-4961-afab-6c379b8588fd\">\n",
              "  <button class=\"colab-df-quickchart\" onclick=\"quickchart('df-f8909000-75d2-4961-afab-6c379b8588fd')\"\n",
              "            title=\"Suggest charts\"\n",
              "            style=\"display:none;\">\n",
              "\n",
              "<svg xmlns=\"http://www.w3.org/2000/svg\" height=\"24px\"viewBox=\"0 0 24 24\"\n",
              "     width=\"24px\">\n",
              "    <g>\n",
              "        <path d=\"M19 3H5c-1.1 0-2 .9-2 2v14c0 1.1.9 2 2 2h14c1.1 0 2-.9 2-2V5c0-1.1-.9-2-2-2zM9 17H7v-7h2v7zm4 0h-2V7h2v10zm4 0h-2v-4h2v4z\"/>\n",
              "    </g>\n",
              "</svg>\n",
              "  </button>\n",
              "\n",
              "<style>\n",
              "  .colab-df-quickchart {\n",
              "      --bg-color: #E8F0FE;\n",
              "      --fill-color: #1967D2;\n",
              "      --hover-bg-color: #E2EBFA;\n",
              "      --hover-fill-color: #174EA6;\n",
              "      --disabled-fill-color: #AAA;\n",
              "      --disabled-bg-color: #DDD;\n",
              "  }\n",
              "\n",
              "  [theme=dark] .colab-df-quickchart {\n",
              "      --bg-color: #3B4455;\n",
              "      --fill-color: #D2E3FC;\n",
              "      --hover-bg-color: #434B5C;\n",
              "      --hover-fill-color: #FFFFFF;\n",
              "      --disabled-bg-color: #3B4455;\n",
              "      --disabled-fill-color: #666;\n",
              "  }\n",
              "\n",
              "  .colab-df-quickchart {\n",
              "    background-color: var(--bg-color);\n",
              "    border: none;\n",
              "    border-radius: 50%;\n",
              "    cursor: pointer;\n",
              "    display: none;\n",
              "    fill: var(--fill-color);\n",
              "    height: 32px;\n",
              "    padding: 0;\n",
              "    width: 32px;\n",
              "  }\n",
              "\n",
              "  .colab-df-quickchart:hover {\n",
              "    background-color: var(--hover-bg-color);\n",
              "    box-shadow: 0 1px 2px rgba(60, 64, 67, 0.3), 0 1px 3px 1px rgba(60, 64, 67, 0.15);\n",
              "    fill: var(--button-hover-fill-color);\n",
              "  }\n",
              "\n",
              "  .colab-df-quickchart-complete:disabled,\n",
              "  .colab-df-quickchart-complete:disabled:hover {\n",
              "    background-color: var(--disabled-bg-color);\n",
              "    fill: var(--disabled-fill-color);\n",
              "    box-shadow: none;\n",
              "  }\n",
              "\n",
              "  .colab-df-spinner {\n",
              "    border: 2px solid var(--fill-color);\n",
              "    border-color: transparent;\n",
              "    border-bottom-color: var(--fill-color);\n",
              "    animation:\n",
              "      spin 1s steps(1) infinite;\n",
              "  }\n",
              "\n",
              "  @keyframes spin {\n",
              "    0% {\n",
              "      border-color: transparent;\n",
              "      border-bottom-color: var(--fill-color);\n",
              "      border-left-color: var(--fill-color);\n",
              "    }\n",
              "    20% {\n",
              "      border-color: transparent;\n",
              "      border-left-color: var(--fill-color);\n",
              "      border-top-color: var(--fill-color);\n",
              "    }\n",
              "    30% {\n",
              "      border-color: transparent;\n",
              "      border-left-color: var(--fill-color);\n",
              "      border-top-color: var(--fill-color);\n",
              "      border-right-color: var(--fill-color);\n",
              "    }\n",
              "    40% {\n",
              "      border-color: transparent;\n",
              "      border-right-color: var(--fill-color);\n",
              "      border-top-color: var(--fill-color);\n",
              "    }\n",
              "    60% {\n",
              "      border-color: transparent;\n",
              "      border-right-color: var(--fill-color);\n",
              "    }\n",
              "    80% {\n",
              "      border-color: transparent;\n",
              "      border-right-color: var(--fill-color);\n",
              "      border-bottom-color: var(--fill-color);\n",
              "    }\n",
              "    90% {\n",
              "      border-color: transparent;\n",
              "      border-bottom-color: var(--fill-color);\n",
              "    }\n",
              "  }\n",
              "</style>\n",
              "\n",
              "  <script>\n",
              "    async function quickchart(key) {\n",
              "      const quickchartButtonEl =\n",
              "        document.querySelector('#' + key + ' button');\n",
              "      quickchartButtonEl.disabled = true;  // To prevent multiple clicks.\n",
              "      quickchartButtonEl.classList.add('colab-df-spinner');\n",
              "      try {\n",
              "        const charts = await google.colab.kernel.invokeFunction(\n",
              "            'suggestCharts', [key], {});\n",
              "      } catch (error) {\n",
              "        console.error('Error during call to suggestCharts:', error);\n",
              "      }\n",
              "      quickchartButtonEl.classList.remove('colab-df-spinner');\n",
              "      quickchartButtonEl.classList.add('colab-df-quickchart-complete');\n",
              "    }\n",
              "    (() => {\n",
              "      let quickchartButtonEl =\n",
              "        document.querySelector('#df-f8909000-75d2-4961-afab-6c379b8588fd button');\n",
              "      quickchartButtonEl.style.display =\n",
              "        google.colab.kernel.accessAllowed ? 'block' : 'none';\n",
              "    })();\n",
              "  </script>\n",
              "</div>\n",
              "    </div>\n",
              "  </div>\n"
            ]
          },
          "metadata": {}
        }
      ],
      "source": [
        "display(visitors.head(5))"
      ]
    },
    {
      "cell_type": "code",
      "execution_count": 10,
      "metadata": {
        "colab": {
          "base_uri": "https://localhost:8080/"
        },
        "id": "C2ivj8an4Aiv",
        "outputId": "41dd6b6f-f0d5-4cbe-aa42-faf3f524cb94"
      },
      "outputs": [
        {
          "output_type": "stream",
          "name": "stdout",
          "text": [
            "<class 'pandas.core.frame.DataFrame'>\n",
            "RangeIndex: 1197 entries, 0 to 1196\n",
            "Data columns (total 5 columns):\n",
            " #   Column         Non-Null Count  Dtype \n",
            "---  ------         --------------  ----- \n",
            " 0   transactionId  1197 non-null   int64 \n",
            " 1   visitorId      1197 non-null   int64 \n",
            " 2   date           1197 non-null   object\n",
            " 3   revenue        1197 non-null   int64 \n",
            " 4   group          1197 non-null   object\n",
            "dtypes: int64(3), object(2)\n",
            "memory usage: 46.9+ KB\n"
          ]
        }
      ],
      "source": [
        "orders.info()"
      ]
    },
    {
      "cell_type": "code",
      "execution_count": 11,
      "metadata": {
        "scrolled": false,
        "colab": {
          "base_uri": "https://localhost:8080/"
        },
        "id": "4w07d-jR4Aiv",
        "outputId": "df227c06-82d0-4c78-e8db-a116ea39a260"
      },
      "outputs": [
        {
          "output_type": "stream",
          "name": "stdout",
          "text": [
            "<class 'pandas.core.frame.DataFrame'>\n",
            "RangeIndex: 62 entries, 0 to 61\n",
            "Data columns (total 3 columns):\n",
            " #   Column    Non-Null Count  Dtype \n",
            "---  ------    --------------  ----- \n",
            " 0   date      62 non-null     object\n",
            " 1   group     62 non-null     object\n",
            " 2   visitors  62 non-null     int64 \n",
            "dtypes: int64(1), object(2)\n",
            "memory usage: 1.6+ KB\n"
          ]
        }
      ],
      "source": [
        "visitors.info()"
      ]
    },
    {
      "cell_type": "markdown",
      "source": [
        "**Приведем данные в формат даты**"
      ],
      "metadata": {
        "id": "GQwMmMaf6qMK"
      }
    },
    {
      "cell_type": "code",
      "execution_count": 12,
      "metadata": {
        "id": "5t6i9B9m4Aiv"
      },
      "outputs": [],
      "source": [
        "orders['date'] = pd.to_datetime(orders['date']).dt.date\n",
        "visitors['date'] = pd.to_datetime(visitors['date']).dt.date"
      ]
    },
    {
      "cell_type": "markdown",
      "source": [
        "**Проверим пропуски и дубликаты**"
      ],
      "metadata": {
        "id": "CAl7Y_4P9KLD"
      }
    },
    {
      "cell_type": "code",
      "execution_count": 13,
      "metadata": {
        "colab": {
          "base_uri": "https://localhost:8080/"
        },
        "id": "1DVz9i1w4Aiv",
        "outputId": "53e52826-88a8-47d5-e74c-07381559f75a"
      },
      "outputs": [
        {
          "output_type": "execute_result",
          "data": {
            "text/plain": [
              "transactionId    0\n",
              "visitorId        0\n",
              "date             0\n",
              "revenue          0\n",
              "group            0\n",
              "dtype: int64"
            ]
          },
          "metadata": {},
          "execution_count": 13
        }
      ],
      "source": [
        "orders.isna().sum()"
      ]
    },
    {
      "cell_type": "code",
      "execution_count": 14,
      "metadata": {
        "colab": {
          "base_uri": "https://localhost:8080/"
        },
        "id": "78Q2lyYS4Aiv",
        "outputId": "975924a7-7763-416e-fa1b-05698c234fb0"
      },
      "outputs": [
        {
          "output_type": "execute_result",
          "data": {
            "text/plain": [
              "date        0\n",
              "group       0\n",
              "visitors    0\n",
              "dtype: int64"
            ]
          },
          "metadata": {},
          "execution_count": 14
        }
      ],
      "source": [
        "visitors.isna().sum()"
      ]
    },
    {
      "cell_type": "code",
      "execution_count": 15,
      "metadata": {
        "colab": {
          "base_uri": "https://localhost:8080/"
        },
        "id": "F95dxJrd4Aiw",
        "outputId": "60007c21-09a7-4624-e1bf-9747bac0b433"
      },
      "outputs": [
        {
          "output_type": "execute_result",
          "data": {
            "text/plain": [
              "0"
            ]
          },
          "metadata": {},
          "execution_count": 15
        }
      ],
      "source": [
        "orders.duplicated().sum()"
      ]
    },
    {
      "cell_type": "code",
      "execution_count": 16,
      "metadata": {
        "colab": {
          "base_uri": "https://localhost:8080/"
        },
        "id": "uy4u46cW4Aiw",
        "outputId": "acd7bc7b-b011-43f0-b1a4-720e67c196de"
      },
      "outputs": [
        {
          "output_type": "execute_result",
          "data": {
            "text/plain": [
              "0"
            ]
          },
          "metadata": {},
          "execution_count": 16
        }
      ],
      "source": [
        "visitors.duplicated().sum()"
      ]
    },
    {
      "cell_type": "markdown",
      "source": [
        "Пропусков и дубликатов нет"
      ],
      "metadata": {
        "id": "vfMzRqUn6x7Q"
      }
    },
    {
      "cell_type": "code",
      "execution_count": 17,
      "metadata": {
        "colab": {
          "base_uri": "https://localhost:8080/"
        },
        "id": "NqYwfP8L4Aiw",
        "outputId": "9dfddc3a-cde9-4f74-a86f-026a1f888084"
      },
      "outputs": [
        {
          "output_type": "execute_result",
          "data": {
            "text/plain": [
              "B    640\n",
              "A    557\n",
              "Name: group, dtype: int64"
            ]
          },
          "metadata": {},
          "execution_count": 17
        }
      ],
      "source": [
        "orders['group'].value_counts()"
      ]
    },
    {
      "cell_type": "code",
      "execution_count": 18,
      "metadata": {
        "colab": {
          "base_uri": "https://localhost:8080/"
        },
        "id": "BezDNI_I4Aiw",
        "outputId": "d9265012-0cb2-47ed-b1be-0d53cc76de7a"
      },
      "outputs": [
        {
          "output_type": "execute_result",
          "data": {
            "text/plain": [
              "A    31\n",
              "B    31\n",
              "Name: group, dtype: int64"
            ]
          },
          "metadata": {},
          "execution_count": 18
        }
      ],
      "source": [
        "visitors['group'].value_counts()"
      ]
    },
    {
      "cell_type": "code",
      "execution_count": 19,
      "metadata": {
        "colab": {
          "base_uri": "https://localhost:8080/"
        },
        "id": "C0GBwmbW4Aiw",
        "outputId": "a1b6939d-58f5-4c6d-e429-52baf34a61f9"
      },
      "outputs": [
        {
          "output_type": "execute_result",
          "data": {
            "text/plain": [
              "(datetime.date(2019, 8, 31), datetime.date(2019, 8, 1))"
            ]
          },
          "metadata": {},
          "execution_count": 19
        }
      ],
      "source": [
        "orders['date'].max(), orders['date'].min()"
      ]
    },
    {
      "cell_type": "code",
      "execution_count": 20,
      "metadata": {
        "colab": {
          "base_uri": "https://localhost:8080/"
        },
        "id": "8cTEQHVI4Ai0",
        "outputId": "df986b76-7bb0-41c3-d113-3387b9f0a3a8"
      },
      "outputs": [
        {
          "output_type": "execute_result",
          "data": {
            "text/plain": [
              "(datetime.date(2019, 8, 31), datetime.date(2019, 8, 1))"
            ]
          },
          "metadata": {},
          "execution_count": 20
        }
      ],
      "source": [
        "visitors['date'].max(), visitors['date'].min()"
      ]
    },
    {
      "cell_type": "code",
      "execution_count": 21,
      "metadata": {
        "colab": {
          "base_uri": "https://localhost:8080/"
        },
        "id": "2RLOQ2cz4Ai0",
        "outputId": "86aed10c-2207-4115-e449-6920a9b451f0"
      },
      "outputs": [
        {
          "output_type": "execute_result",
          "data": {
            "text/plain": [
              "group    58\n",
              "dtype: int64"
            ]
          },
          "metadata": {},
          "execution_count": 21
        }
      ],
      "source": [
        "orders.groupby('visitorId').agg({'group': 'nunique'}).query('group > 1').count()"
      ]
    },
    {
      "cell_type": "markdown",
      "metadata": {
        "id": "ol-Q543b4Ai0"
      },
      "source": [
        "В таблице с заказами имеется 58 пользователей, попавших в обе группы. Для их исключения, требуется внести изменения и в таблицу с посещениями, что в настоящее время не представляется возможным. В связи с этим, учитывая незначительное количество пользователей, принято решение оставить их в таблице."
      ]
    },
    {
      "cell_type": "markdown",
      "metadata": {
        "id": "RtHsKtc74Ai0"
      },
      "source": [
        "### Построим график кумулятивной выручки по группам."
      ]
    },
    {
      "cell_type": "code",
      "execution_count": 22,
      "metadata": {
        "scrolled": true,
        "colab": {
          "base_uri": "https://localhost:8080/",
          "height": 524
        },
        "id": "3vURyJ8Q4Ai1",
        "outputId": "a5983297-724b-4003-ce36-6082fe87d6ca"
      },
      "outputs": [
        {
          "output_type": "display_data",
          "data": {
            "text/plain": [
              "<Figure size 640x480 with 1 Axes>"
            ],
            "image/png": "[encoded data removed]"
          },
          "metadata": {}
        }
      ],
      "source": [
        "register_matplotlib_converters()\n",
        "\n",
        "datesGroups = orders[['date', 'group']].drop_duplicates()\n",
        "\n",
        "ordersAggregated = datesGroups.apply(\n",
        "    lambda x: orders[\n",
        "        np.logical_and(\n",
        "            orders['date'] <= x['date'], orders['group'] == x['group']\n",
        "        )\n",
        "    ].agg(\n",
        "        {\n",
        "            'date': 'max',\n",
        "            'group': 'max',\n",
        "            'transactionId': 'nunique',\n",
        "            'visitorId': 'nunique',\n",
        "            'revenue': 'sum',\n",
        "        }\n",
        "    ),\n",
        "    axis=1,\n",
        ").sort_values(by=['date', 'group'])\n",
        "\n",
        "visitorsAggregated = datesGroups.apply(\n",
        "    lambda x: visitors[\n",
        "        np.logical_and(\n",
        "            visitors['date'] <= x['date'], visitors['group'] == x['group']\n",
        "        )\n",
        "    ].agg({'date': 'max', 'group': 'max', 'visitors': 'sum'}),\n",
        "    axis=1,\n",
        ").sort_values(by=['date', 'group'])\n",
        "\n",
        "cumulativeData = ordersAggregated.merge(\n",
        "    visitorsAggregated, left_on=['date', 'group'], right_on=['date', 'group']\n",
        ")\n",
        "cumulativeData.columns = [\n",
        "    'date',\n",
        "    'group',\n",
        "    'orders',\n",
        "    'buyers',\n",
        "    'revenue',\n",
        "    'visitors',\n",
        "]\n",
        "\n",
        "cumulativeRevenueA = cumulativeData[cumulativeData['group']=='A'][['date','revenue', 'orders']]\n",
        "cumulativeRevenueB = cumulativeData[cumulativeData['group']=='B'][['date','revenue', 'orders']]\n",
        "\n",
        "plt.plot(cumulativeRevenueA['date'], cumulativeRevenueA['revenue'], label='A')\n",
        "\n",
        "plt.plot(cumulativeRevenueB['date'], cumulativeRevenueB['revenue'], label='B')\n",
        "\n",
        "plt.title(\"Кумулятивная выручка по группам во времени\", loc = 'right')\n",
        "plt.xlabel(\"Дата\")\n",
        "plt.ylabel(\"Выручка\")\n",
        "plt.xticks(rotation=45)\n",
        "plt.legend();"
      ]
    },
    {
      "cell_type": "markdown",
      "metadata": {
        "id": "w9C59-OB4Ai2"
      },
      "source": [
        "В середине теста в группе В резко увеличилась выручка и продолжала значительно расти по сравнению с А. Вероятно всплеску способствовали аномально высокие суммы заказов, что будет подробнее изучено далее."
      ]
    },
    {
      "cell_type": "markdown",
      "metadata": {
        "id": "PLdJJzP14Ai2"
      },
      "source": [
        "### Построим график кумулятивного среднего чека по группам"
      ]
    },
    {
      "cell_type": "code",
      "execution_count": 24,
      "metadata": {
        "colab": {
          "base_uri": "https://localhost:8080/",
          "height": 524
        },
        "id": "Q1N33_5h4Ai2",
        "outputId": "ce9bfc87-4907-4d89-f798-4becd8c2b1bd"
      },
      "outputs": [
        {
          "output_type": "display_data",
          "data": {
            "text/plain": [
              "<Figure size 640x480 with 1 Axes>"
            ],
            "image/png": "[encoded data removed]"
          },
          "metadata": {}
        }
      ],
      "source": [
        "plt.plot(cumulativeRevenueA['date'], cumulativeRevenueA['revenue']/cumulativeRevenueA['orders'], label='A')\n",
        "plt.plot(cumulativeRevenueB['date'], cumulativeRevenueB['revenue']/cumulativeRevenueB['orders'], label='B')\n",
        "\n",
        "plt.title(\"Кумулятивный средний чек по группам во времени\", loc = 'right')\n",
        "plt.xlabel(\"Дата\")\n",
        "plt.ylabel(\"Средний чек\")\n",
        "plt.xticks(rotation=45)\n",
        "plt.legend();"
      ]
    },
    {
      "cell_type": "markdown",
      "metadata": {
        "id": "3-5lhNuf4Ai2"
      },
      "source": [
        "На графике видны значительные колебания. В группе В в середине теста средний чек резко увеличивается. Вероятно это связано с выбросами. Выводы будут сделаны после их анализа."
      ]
    },
    {
      "cell_type": "markdown",
      "metadata": {
        "id": "huoMBRFs4Ai2"
      },
      "source": [
        "### Построим график относительного изменения кумулятивного среднего чека группы B к группе A"
      ]
    },
    {
      "cell_type": "code",
      "execution_count": 25,
      "metadata": {
        "colab": {
          "base_uri": "https://localhost:8080/",
          "height": 524
        },
        "id": "fGlWOKuF4Ai2",
        "outputId": "2a576d68-39f5-4882-eb1e-cacd272e2471"
      },
      "outputs": [
        {
          "output_type": "display_data",
          "data": {
            "text/plain": [
              "<Figure size 640x480 with 1 Axes>"
            ],
            "image/png": "[encoded data removed]"
          },
          "metadata": {}
        }
      ],
      "source": [
        "mergedCumulativeRevenue = cumulativeRevenueA.merge(cumulativeRevenueB, left_on='date', right_on='date', how='left', suffixes=['A', 'B'])\n",
        "\n",
        "# cтроим отношение средних чеков\n",
        "plt.plot(mergedCumulativeRevenue['date'], (mergedCumulativeRevenue['revenueB']/mergedCumulativeRevenue['ordersB'])/(mergedCumulativeRevenue['revenueA']/mergedCumulativeRevenue['ordersA'])-1)\n",
        "\n",
        "# добавляем ось X\n",
        "plt.axhline(y=0, color='black', linestyle='--')\n",
        "\n",
        "plt.title(\"Изменения среднего чека группы B к группе A\")\n",
        "plt.xlabel(\"Дата\")\n",
        "plt.ylabel(\"Степень изменений\")\n",
        "plt.xticks(rotation=45);"
      ]
    },
    {
      "cell_type": "markdown",
      "metadata": {
        "id": "RCKHHqGb4Ai2"
      },
      "source": [
        "На графике видно несколько вспелесков кумулятивного среднего чека в группе В по отношению к группе А. Предположительно в дни всплесков были сделаны аномальные заказы."
      ]
    },
    {
      "cell_type": "markdown",
      "metadata": {
        "id": "YRee94zQ4Ai3"
      },
      "source": [
        "### Построим график кумулятивного среднего количества заказов на посетителя по группам"
      ]
    },
    {
      "cell_type": "code",
      "execution_count": 26,
      "metadata": {
        "colab": {
          "base_uri": "https://localhost:8080/",
          "height": 524
        },
        "id": "pkUXlOUm4Ai3",
        "outputId": "2fe5ad38-2d76-407d-e95a-0011270d0af2"
      },
      "outputs": [
        {
          "output_type": "display_data",
          "data": {
            "text/plain": [
              "<Figure size 640x480 with 1 Axes>"
            ],
            "image/png": "[encoded data removed]"
          },
          "metadata": {}
        }
      ],
      "source": [
        "# считаем кумулятивную конверсию\n",
        "cumulativeData['conversion'] = cumulativeData['orders']/cumulativeData['visitors']\n",
        "\n",
        "# отделяем данные по группе A\n",
        "cumulativeDataA = cumulativeData[cumulativeData['group']=='A']\n",
        "\n",
        "# отделяем данные по группе B\n",
        "cumulativeDataB = cumulativeData[cumulativeData['group']=='B']\n",
        "\n",
        "# строим графики\n",
        "plt.plot(cumulativeDataA['date'], cumulativeDataA['conversion'], label='A')\n",
        "plt.plot(cumulativeDataB['date'], cumulativeDataB['conversion'], label='B')\n",
        "\n",
        "plt.title(\"Среднее количество заказов на посетителя по группам во времени\")\n",
        "plt.xlabel(\"Дата\")\n",
        "plt.ylabel(\"Количество заказов\")\n",
        "plt.xticks(rotation=45);\n",
        "plt.legend()\n",
        "\n",
        "# задаем масштаб осей\n",
        "plt.axis(['2019-08-01', '2019-08-31', 0, 0.05]);"
      ]
    },
    {
      "cell_type": "markdown",
      "metadata": {
        "id": "GCP4H4lt4Ai3"
      },
      "source": [
        "В начале теста группа А имела большее количество заказов на посетителя, но в дальнейшем в группе В количество заказов выросло и стабильно было выше чем в А."
      ]
    },
    {
      "cell_type": "markdown",
      "metadata": {
        "id": "pmGIriWb4Ai3"
      },
      "source": [
        "### Построим график относительного изменения кумулятивного среднего количества заказов на посетителя группы B к группе A"
      ]
    },
    {
      "cell_type": "code",
      "execution_count": 27,
      "metadata": {
        "colab": {
          "base_uri": "https://localhost:8080/",
          "height": 524
        },
        "id": "aYGCg_224Ai3",
        "outputId": "579f3500-f827-4624-9af3-c5ae35d9e859"
      },
      "outputs": [
        {
          "output_type": "display_data",
          "data": {
            "text/plain": [
              "<Figure size 640x480 with 1 Axes>"
            ],
            "image/png": "[encoded data removed]"
          },
          "metadata": {}
        }
      ],
      "source": [
        "mergedCumulativeConversions = cumulativeDataA[['date','conversion']].merge(cumulativeDataB[['date','conversion']], left_on='date', right_on='date', how='left', suffixes=['A', 'B'])\n",
        "\n",
        "plt.plot(mergedCumulativeConversions['date'], mergedCumulativeConversions['conversionB']/mergedCumulativeConversions['conversionA']-1)\n",
        "\n",
        "plt.axhline(y=0, color='black', linestyle='--')\n",
        "plt.axhline(y=0.2, color='grey', linestyle='--')\n",
        "plt.axis(['2019-08-01', '2019-08-31', -0.5, 0.5])\n",
        "\n",
        "plt.title(\"Изменения кумулятивного среднего количества заказов на посетителя группы B по сравнению с A\")\n",
        "plt.xlabel(\"Дата\")\n",
        "plt.ylabel(\"Изменения\")\n",
        "plt.xticks(rotation=45);"
      ]
    },
    {
      "cell_type": "markdown",
      "metadata": {
        "id": "xkz2wxQW4Ai4"
      },
      "source": [
        "В начале теста кумулятивное среднее количество заказов на посетителя в группе В по сравнению с А колебалась ниже, но в дальнейшем стало расти и стабилизировалась выше А на 20 %."
      ]
    },
    {
      "cell_type": "markdown",
      "metadata": {
        "id": "4UkYv3B-4Ai4"
      },
      "source": [
        "### Построим точечный график количества заказов по пользователям"
      ]
    },
    {
      "cell_type": "code",
      "execution_count": 28,
      "metadata": {
        "colab": {
          "base_uri": "https://localhost:8080/",
          "height": 472
        },
        "id": "8RmcH3BV4Ai4",
        "outputId": "ac7e3e3c-ec34-4141-efd4-b5ae34857c24"
      },
      "outputs": [
        {
          "output_type": "display_data",
          "data": {
            "text/plain": [
              "<Figure size 640x480 with 1 Axes>"
            ],
            "image/png": "[encoded data removed]"
          },
          "metadata": {}
        }
      ],
      "source": [
        "ordersByUsers = (\n",
        "    orders.groupby('visitorId', as_index=False)\n",
        "    .agg({'transactionId': 'nunique'})\n",
        ")\n",
        "ordersByUsers.columns = ['visitorId', 'orders']\n",
        "\n",
        "# серия из чисел от 0 до количества наблюдений в ordersByUsers\n",
        "x_values = pd.Series(range(0, len(ordersByUsers)))\n",
        "\n",
        "plt.scatter(x_values, ordersByUsers['orders'])\n",
        "\n",
        "plt.title(\"Количество заказов по пользователям\")\n",
        "plt.xlabel(\"Пользователи\")\n",
        "plt.ylabel(\"Заказы\");"
      ]
    },
    {
      "cell_type": "markdown",
      "metadata": {
        "id": "-qUHg-Eu4Ai4"
      },
      "source": [
        "В основном пользователи совершают не более 2 заказов. Имеется небольшое количество пользователей, совершающих больше заказов (чем больше заказов, тем меньше пользователей)."
      ]
    },
    {
      "cell_type": "markdown",
      "metadata": {
        "id": "xuI4U8Xz4Ai4"
      },
      "source": [
        "### Посчитаем 95-й и 99-й перцентили количества заказов на пользователя"
      ]
    },
    {
      "cell_type": "code",
      "execution_count": 29,
      "metadata": {
        "colab": {
          "base_uri": "https://localhost:8080/"
        },
        "id": "04cABVMk4Ai4",
        "outputId": "4e04a927-7ba0-4e10-ff3e-7247f11a0e58"
      },
      "outputs": [
        {
          "output_type": "execute_result",
          "data": {
            "text/plain": [
              "array([2., 4.])"
            ]
          },
          "metadata": {},
          "execution_count": 29
        }
      ],
      "source": [
        "np.percentile(ordersByUsers['orders'], [95, 99])"
      ]
    },
    {
      "cell_type": "markdown",
      "metadata": {
        "id": "moF0zVqS4Ai5"
      },
      "source": [
        "Не более 5 % пользователей совершали заказы более 2 раз и не более 1 % - 4 и больше. Для исключения аномальных явлений допустимо избавиться от 5 % значений. Соответственно, в последующем избавимся от пользователей, совершивших более 2 заказов."
      ]
    },
    {
      "cell_type": "markdown",
      "metadata": {
        "id": "jwg9JPAO4Ai5"
      },
      "source": [
        "### Построим точечный график стоимостей заказов"
      ]
    },
    {
      "cell_type": "code",
      "execution_count": 30,
      "metadata": {
        "colab": {
          "base_uri": "https://localhost:8080/",
          "height": 872
        },
        "id": "N6futi_a4Ai5",
        "outputId": "21dc9792-2ec9-4af0-e4fc-1efee3b73465"
      },
      "outputs": [
        {
          "output_type": "display_data",
          "data": {
            "text/plain": [
              "<Figure size 1500x1000 with 1 Axes>"
            ],
            "image/png": "[encoded data removed]"
          },
          "metadata": {}
        }
      ],
      "source": [
        "plt.figure(figsize =(15, 10))\n",
        "x_values = pd.Series(range(0, len(orders['revenue'])))\n",
        "plt.scatter(x_values, orders['revenue'])\n",
        "plt.title(\"Стоимость заказов\")\n",
        "plt.xlabel(\"Заказы\")\n",
        "plt.ylabel(\"Сумма\");"
      ]
    },
    {
      "cell_type": "markdown",
      "metadata": {
        "id": "0O7w2cOS4Ai5"
      },
      "source": [
        "В основном пользователи делают заказы не более чем на 30 000 рублей. Имеется небольшое количество заказов на большие суммы (чем дороже заказ, тем их меньше)."
      ]
    },
    {
      "cell_type": "markdown",
      "metadata": {
        "id": "T_tiuD2-4Ai5"
      },
      "source": [
        "### Посчитаем 95-й и 99-й перцентили стоимости заказов"
      ]
    },
    {
      "cell_type": "code",
      "execution_count": 31,
      "metadata": {
        "colab": {
          "base_uri": "https://localhost:8080/"
        },
        "id": "bpFXWEW94Ai6",
        "outputId": "e5ecbaa4-40b8-4a76-f546-43c332c997b3"
      },
      "outputs": [
        {
          "output_type": "execute_result",
          "data": {
            "text/plain": [
              "array([28000. , 58233.2])"
            ]
          },
          "metadata": {},
          "execution_count": 31
        }
      ],
      "source": [
        "np.percentile(orders['revenue'], [95, 99])"
      ]
    },
    {
      "cell_type": "markdown",
      "metadata": {
        "id": "KaCnTo2L4Ai6"
      },
      "source": [
        "Не более 5 % пользователей совершали заказы на сумму 28000 рублей и не более 1 % на 58233 и больше. Для исключения аномальных значений допустимо избавиться от 5 % данных. Соответственно, в последующем избавимся от заказов на сумму более 28000 рублей."
      ]
    },
    {
      "cell_type": "markdown",
      "metadata": {
        "id": "eUigtI844Ai6"
      },
      "source": [
        "### Посчитаем статистическую значимость различий в среднем количестве заказов на посетителя между группами по «сырым» данным."
      ]
    },
    {
      "cell_type": "markdown",
      "metadata": {
        "id": "bZuFnK574Ai6"
      },
      "source": [
        "Нулевая гипотеза: Между группами А и В нет различий в среднем количестве заказов на посетителя.\n",
        "\n",
        "Альтернативная гипотеза: Между группами А и В есть различия в среднем количестве заказов на посетителя.\n",
        "\n",
        "Для проверки гипотез используем непараметрический тест Уилкоксона-Манна-Уитни. Уровень значимости зададим 0.05"
      ]
    },
    {
      "cell_type": "code",
      "execution_count": 32,
      "metadata": {
        "colab": {
          "base_uri": "https://localhost:8080/"
        },
        "id": "xG3FGcnr4Ai6",
        "outputId": "e3b5b560-96c7-4b32-f367-c04106d04819"
      },
      "outputs": [
        {
          "output_type": "stream",
          "name": "stdout",
          "text": [
            "0.01679\n",
            "0.138\n"
          ]
        }
      ],
      "source": [
        "visitorsADaily = visitors[visitors['group'] == 'A'][['date', 'visitors']]\n",
        "visitorsADaily.columns = ['date', 'visitorsPerDateA']\n",
        "\n",
        "visitorsACummulative = visitorsADaily.apply(\n",
        "    lambda x: visitorsADaily[visitorsADaily['date'] <= x['date']].agg(\n",
        "        {'date': 'max', 'visitorsPerDateA': 'sum'}\n",
        "    ),\n",
        "    axis=1,\n",
        ")\n",
        "visitorsACummulative.columns = ['date', 'visitorsCummulativeA']\n",
        "\n",
        "visitorsBDaily = visitors[visitors['group'] == 'B'][['date', 'visitors']]\n",
        "visitorsBDaily.columns = ['date', 'visitorsPerDateB']\n",
        "\n",
        "visitorsBCummulative = visitorsBDaily.apply(\n",
        "    lambda x: visitorsBDaily[visitorsBDaily['date'] <= x['date']].agg(\n",
        "        {'date': 'max', 'visitorsPerDateB': 'sum'}\n",
        "    ),\n",
        "    axis=1,\n",
        ")\n",
        "visitorsBCummulative.columns = ['date', 'visitorsCummulativeB']\n",
        "\n",
        "ordersADaily = (\n",
        "    orders[orders['group'] == 'A'][['date', 'transactionId', 'visitorId', 'revenue']]\n",
        "    .groupby('date', as_index=False)\n",
        "    .agg({'transactionId': pd.Series.nunique, 'revenue': 'sum'})\n",
        ")\n",
        "ordersADaily.columns = ['date', 'ordersPerDateA', 'revenuePerDateA']\n",
        "\n",
        "ordersACummulative = ordersADaily.apply(\n",
        "    lambda x: ordersADaily[ordersADaily['date'] <= x['date']].agg(\n",
        "        {'date': 'max', 'ordersPerDateA': 'sum', 'revenuePerDateA': 'sum'}\n",
        "    ),\n",
        "    axis=1,\n",
        ").sort_values(by=['date'])\n",
        "ordersACummulative.columns = [\n",
        "    'date',\n",
        "    'ordersCummulativeA',\n",
        "    'revenueCummulativeA',\n",
        "]\n",
        "\n",
        "ordersBDaily = (\n",
        "    orders[orders['group'] == 'B'][['date', 'transactionId', 'visitorId', 'revenue']]\n",
        "    .groupby('date', as_index=False)\n",
        "    .agg({'transactionId': pd.Series.nunique, 'revenue': 'sum'})\n",
        ")\n",
        "ordersBDaily.columns = ['date', 'ordersPerDateB', 'revenuePerDateB']\n",
        "\n",
        "ordersBCummulative = ordersBDaily.apply(\n",
        "    lambda x: ordersBDaily[ordersBDaily['date'] <= x['date']].agg(\n",
        "        {'date': 'max', 'ordersPerDateB': 'sum', 'revenuePerDateB': 'sum'}\n",
        "    ),\n",
        "    axis=1,\n",
        ").sort_values(by=['date'])\n",
        "ordersBCummulative.columns = [\n",
        "    'date',\n",
        "    'ordersCummulativeB',\n",
        "    'revenueCummulativeB',\n",
        "]\n",
        "\n",
        "data = (\n",
        "    ordersADaily.merge(\n",
        "        ordersBDaily, left_on='date', right_on='date', how='left'\n",
        "    )\n",
        "    .merge(ordersACummulative, left_on='date', right_on='date', how='left')\n",
        "    .merge(ordersBCummulative, left_on='date', right_on='date', how='left')\n",
        "    .merge(visitorsADaily, left_on='date', right_on='date', how='left')\n",
        "    .merge(visitorsBDaily, left_on='date', right_on='date', how='left')\n",
        "    .merge(visitorsACummulative, left_on='date', right_on='date', how='left')\n",
        "    .merge(visitorsBCummulative, left_on='date', right_on='date', how='left')\n",
        ")\n",
        "\n",
        "\n",
        "ordersByUsersA = (\n",
        "    orders[orders['group'] == 'A']\n",
        "    .groupby('visitorId', as_index=False)\n",
        "    .agg({'transactionId': pd.Series.nunique})\n",
        ")\n",
        "ordersByUsersA.columns = ['visitorId', 'orders']\n",
        "\n",
        "ordersByUsersB = (\n",
        "    orders[orders['group'] == 'B']\n",
        "    .groupby('visitorId', as_index=False)\n",
        "    .agg({'transactionId': pd.Series.nunique})\n",
        ")\n",
        "ordersByUsersB.columns = ['visitorId', 'orders']\n",
        "\n",
        "pd.Series(0, index=np.arange(data['visitorsPerDateA'].sum() - len(ordersByUsersA['orders'])), name='orders')\n",
        "[ordersByUsersA['orders'],pd.Series(0, index=np.arange(data['visitorsPerDateA'].sum() - len(ordersByUsersA['orders'])), name='orders')]\n",
        "\n",
        "sampleA = pd.concat([ordersByUsersA['orders'],pd.Series(0, index=np.arange(data['visitorsPerDateA'].sum() - len(ordersByUsersA['orders'])), name='orders')],axis=0)\n",
        "\n",
        "sampleB = pd.concat([ordersByUsersB['orders'],pd.Series(0, index=np.arange(data['visitorsPerDateB'].sum() - len(ordersByUsersB['orders'])), name='orders')],axis=0)\n",
        "\n",
        "ordersByUsersA = (\n",
        "    orders[orders['group'] == 'A']\n",
        "    .groupby('visitorId', as_index=False)\n",
        "    .agg({'transactionId': pd.Series.nunique})\n",
        ")\n",
        "ordersByUsersA.columns = ['visitorId', 'orders']\n",
        "\n",
        "ordersByUsersB = (\n",
        "    orders[orders['group'] == 'B']\n",
        "    .groupby('visitorId', as_index=False)\n",
        "    .agg({'transactionId': pd.Series.nunique})\n",
        ")\n",
        "ordersByUsersB.columns = ['visitorId', 'orders']\n",
        "\n",
        "sampleA = pd.concat(\n",
        "    [\n",
        "        ordersByUsersA['orders'],\n",
        "        pd.Series(\n",
        "            0,\n",
        "            index=np.arange(\n",
        "                data['visitorsPerDateA'].sum() - len(ordersByUsersA['orders'])\n",
        "            ),\n",
        "            name='orders',\n",
        "        ),\n",
        "    ],\n",
        "    axis=0,\n",
        ")\n",
        "\n",
        "sampleB = pd.concat(\n",
        "    [\n",
        "        ordersByUsersB['orders'],\n",
        "        pd.Series(\n",
        "            0,\n",
        "            index=np.arange(\n",
        "                data['visitorsPerDateB'].sum() - len(ordersByUsersB['orders'])\n",
        "            ),\n",
        "            name='orders',\n",
        "        ),\n",
        "    ],\n",
        "    axis=0,\n",
        ")\n",
        "\n",
        "print(\"{0:.5f}\".format(st.mannwhitneyu(sampleA, sampleB)[1]))\n",
        "\n",
        "print(\"{0:.3f}\".format(sampleB.mean() / sampleA.mean() - 1))"
      ]
    },
    {
      "cell_type": "markdown",
      "metadata": {
        "id": "W72x3SR94Ai7"
      },
      "source": [
        "Отвергаем нулевую гипотезу. В среднем количестве заказов на посетителя между группами есть статистически значимые различия (P-value меньше 0.05). Среднее группы В больше А на 13.8%."
      ]
    },
    {
      "cell_type": "markdown",
      "metadata": {
        "id": "QQ2eGOzO4Ai7"
      },
      "source": [
        "### Посчитаем статистическую значимость различий в среднем чеке заказа между группами по «сырым» данным"
      ]
    },
    {
      "cell_type": "markdown",
      "metadata": {
        "id": "VIJ7Bk054Ai7"
      },
      "source": [
        "Нулевая гипотеза: Между группами А и В нет различий в среднем в среднем чеке заказа.\n",
        "\n",
        "Альтернативная гипотеза: Между группами А и В есть различия в св среднем чеке заказа.\n",
        "\n",
        "Для проверки гипотез используем непараметрический тест Уилкоксона-Манна-Уитни. Уровень значимости зададим 0.05."
      ]
    },
    {
      "cell_type": "code",
      "execution_count": 33,
      "metadata": {
        "colab": {
          "base_uri": "https://localhost:8080/"
        },
        "id": "_M5GG_WZ4Ai7",
        "outputId": "39794425-6d3f-4382-be90-c583bcc0c197"
      },
      "outputs": [
        {
          "output_type": "stream",
          "name": "stdout",
          "text": [
            "0.729\n",
            "0.259\n"
          ]
        }
      ],
      "source": [
        "print('{0:.3f}'.format(st.mannwhitneyu(orders[orders['group']=='A']['revenue'], orders[orders['group']=='B']['revenue'])[1]))\n",
        "print('{0:.3f}'.format(orders[orders['group']=='B']['revenue'].mean()/orders[orders['group']=='A']['revenue'].mean()-1))"
      ]
    },
    {
      "cell_type": "markdown",
      "metadata": {
        "id": "y9YuYvb_4Ai7"
      },
      "source": [
        "Нулевая гипотеза подтвердилась. В среднем чеке заказов между группами статистически значимых отличий нет (P-value больше 0.05). Однако, среднее группы В больше А на 25%, что, вероятно обусловлено аномальными заказами."
      ]
    },
    {
      "cell_type": "markdown",
      "metadata": {
        "id": "CVYi44-G4Ai7"
      },
      "source": [
        "### Посчитаем статистическую значимость различий в среднем количестве заказов на посетителя между группами по «очищенным» данным"
      ]
    },
    {
      "cell_type": "code",
      "execution_count": 34,
      "metadata": {
        "scrolled": true,
        "colab": {
          "base_uri": "https://localhost:8080/"
        },
        "id": "Qev744Z34Ai8",
        "outputId": "4671f56c-c185-4767-9246-f05f125c8318"
      },
      "outputs": [
        {
          "output_type": "stream",
          "name": "stdout",
          "text": [
            "0.01334\n",
            "0.172\n"
          ]
        }
      ],
      "source": [
        "usersWithManyOrders = pd.concat(\n",
        "    [\n",
        "        ordersByUsersA[ordersByUsersA['orders'] > 2]['visitorId'],\n",
        "        ordersByUsersB[ordersByUsersB['orders'] > 2]['visitorId'],\n",
        "    ],\n",
        "    axis=0,\n",
        ")\n",
        "usersWithExpensiveOrders = orders[orders['revenue'] > 30000]['visitorId']\n",
        "abnormalUsers = (\n",
        "    pd.concat([usersWithManyOrders, usersWithExpensiveOrders], axis=0)\n",
        "    .drop_duplicates()\n",
        "    .sort_values()\n",
        ")\n",
        "\n",
        "\n",
        "sampleAFiltered = pd.concat(\n",
        "    [\n",
        "        ordersByUsersA[\n",
        "            np.logical_not(ordersByUsersA['visitorId'].isin(abnormalUsers))\n",
        "        ]['orders'],\n",
        "        pd.Series(\n",
        "            0,\n",
        "            index=np.arange(\n",
        "                data['visitorsPerDateA'].sum() - len(ordersByUsersA['orders'])\n",
        "            ),\n",
        "            name='orders',\n",
        "        ),\n",
        "    ],\n",
        "    axis=0,\n",
        ")\n",
        "\n",
        "sampleBFiltered = pd.concat(\n",
        "    [\n",
        "        ordersByUsersB[\n",
        "            np.logical_not(ordersByUsersB['visitorId'].isin(abnormalUsers))\n",
        "        ]['orders'],\n",
        "        pd.Series(\n",
        "            0,\n",
        "            index=np.arange(\n",
        "                data['visitorsPerDateB'].sum() - len(ordersByUsersB['orders'])\n",
        "            ),\n",
        "            name='orders',\n",
        "        ),\n",
        "    ],\n",
        "    axis=0,\n",
        ")\n",
        "print('{0:.5f}'.format(st.mannwhitneyu(sampleAFiltered, sampleBFiltered)[1]))\n",
        "print('{0:.3f}'.format(sampleBFiltered.mean()/sampleAFiltered.mean()-1))"
      ]
    },
    {
      "cell_type": "markdown",
      "metadata": {
        "id": "lviAD1ET4Ai8"
      },
      "source": [
        "Отвергаем нулевую гипотезу. В среднем количестве заказов на посетителя между группами по прежнему есть статистически значимые различия (P-value меньше 0.05). Среднее группы В больше А на 17.2%."
      ]
    },
    {
      "cell_type": "markdown",
      "metadata": {
        "id": "H6WXih2Z4Ai8"
      },
      "source": [
        "### Посчитаем статистическую значимость различий в среднем чеке заказа между группами по «очищенным» данным."
      ]
    },
    {
      "cell_type": "code",
      "execution_count": 35,
      "metadata": {
        "colab": {
          "base_uri": "https://localhost:8080/"
        },
        "id": "upetUz9a4Ai8",
        "outputId": "b323afb5-8eb8-4b65-f0d4-f0be76f84cbb"
      },
      "outputs": [
        {
          "output_type": "stream",
          "name": "stdout",
          "text": [
            "0.720\n",
            "-0.023\n"
          ]
        }
      ],
      "source": [
        "print(\n",
        "    '{0:.3f}'.format(\n",
        "        st.mannwhitneyu(\n",
        "            orders[\n",
        "                np.logical_and(\n",
        "                    orders['group'] == 'A',\n",
        "                    np.logical_not(orders['visitorId'].isin(abnormalUsers)),\n",
        "                )\n",
        "            ]['revenue'],\n",
        "            orders[\n",
        "                np.logical_and(\n",
        "                    orders['group'] == 'B',\n",
        "                    np.logical_not(orders['visitorId'].isin(abnormalUsers)),\n",
        "                )\n",
        "            ]['revenue'],\n",
        "        )[1]\n",
        "    )\n",
        ")\n",
        "\n",
        "print(\n",
        "    \"{0:.3f}\".format(\n",
        "        orders[\n",
        "            np.logical_and(\n",
        "                orders['group'] == 'B',\n",
        "                np.logical_not(orders['visitorId'].isin(abnormalUsers)),\n",
        "            )\n",
        "        ]['revenue'].mean()\n",
        "        / orders[\n",
        "            np.logical_and(\n",
        "                orders['group'] == 'A',\n",
        "                np.logical_not(orders['visitorId'].isin(abnormalUsers)),\n",
        "            )\n",
        "        ]['revenue'].mean()\n",
        "        - 1\n",
        "    )\n",
        ")"
      ]
    },
    {
      "cell_type": "markdown",
      "metadata": {
        "id": "Q02QbyRL4Ai8"
      },
      "source": [
        "Нулевая гипотеза подтвердилась. В среднем чеке заказов между группами статистически значимых отличий по прежнему нет (P-value больше 0.05). Среднее группы В ниже А на 2.3%."
      ]
    },
    {
      "cell_type": "markdown",
      "metadata": {
        "id": "SfDEC2SI4Ai8"
      },
      "source": [
        "### Выводы"
      ]
    },
    {
      "cell_type": "markdown",
      "metadata": {
        "id": "5iK5k1zw4Ai9"
      },
      "source": [
        "Было принято решение остановить тест и признать его успешным.\n",
        "\n",
        "Есть статистически значимое различие по конверсии между группами как по сырым данным, так и после фильтрации аномалий.\n",
        "\n",
        "Нет статистически значимого различия по среднему чеку между группами по сырым данным. Тем не менее по сырым данным группа В больше А на 25%. Однако после фильтрации разницы почти нет.\n",
        "\n",
        "По графику различия конверсии между группами видно, что результаты группы B лучше группы A: имеют тенденцию к росту, либо зафиксировались около среднего значения.\n",
        "\n",
        "График различия среднего чека колеблется что свидетельствует об аномалиях. Сделать однозначные выводы по графику нельзя. Но расчет статистической значимости различий в среднем чеке между группами указывает на то, что значительных различий нет."
      ]
    }
  ],
  "metadata": {
    "ExecuteTimeLog": [
      {
        "duration": 1436,
        "start_time": "2023-05-12T07:03:02.575Z"
      },
      {
        "duration": 4,
        "start_time": "2023-05-12T07:03:09.453Z"
      },
      {
        "duration": 83,
        "start_time": "2023-05-12T07:03:55.420Z"
      },
      {
        "duration": 15,
        "start_time": "2023-05-12T07:06:15.683Z"
      },
      {
        "duration": 13,
        "start_time": "2023-05-12T07:06:35.836Z"
      },
      {
        "duration": 1700,
        "start_time": "2023-05-12T07:14:51.625Z"
      },
      {
        "duration": 10,
        "start_time": "2023-05-12T07:16:04.758Z"
      },
      {
        "duration": 11,
        "start_time": "2023-05-12T07:16:25.592Z"
      },
      {
        "duration": 11,
        "start_time": "2023-05-12T07:18:26.096Z"
      },
      {
        "duration": 10,
        "start_time": "2023-05-12T07:18:54.042Z"
      },
      {
        "duration": 13,
        "start_time": "2023-05-12T07:19:07.200Z"
      },
      {
        "duration": 3,
        "start_time": "2023-05-12T07:40:16.651Z"
      },
      {
        "duration": 128,
        "start_time": "2023-05-12T07:58:22.919Z"
      },
      {
        "duration": 169,
        "start_time": "2023-05-12T08:06:31.431Z"
      },
      {
        "duration": 64,
        "start_time": "2023-05-12T08:07:19.287Z"
      },
      {
        "duration": 8,
        "start_time": "2023-05-12T08:07:20.595Z"
      },
      {
        "duration": 9,
        "start_time": "2023-05-12T08:07:26.492Z"
      },
      {
        "duration": 9,
        "start_time": "2023-05-12T08:07:44.343Z"
      },
      {
        "duration": 9,
        "start_time": "2023-05-12T08:07:55.685Z"
      },
      {
        "duration": 8,
        "start_time": "2023-05-12T08:07:57.599Z"
      },
      {
        "duration": 13,
        "start_time": "2023-05-12T08:08:50.142Z"
      },
      {
        "duration": 12,
        "start_time": "2023-05-12T08:09:11.626Z"
      },
      {
        "duration": 331,
        "start_time": "2023-05-12T08:14:51.584Z"
      },
      {
        "duration": 460,
        "start_time": "2023-05-12T08:15:41.465Z"
      },
      {
        "duration": 4,
        "start_time": "2023-05-12T08:19:46.522Z"
      },
      {
        "duration": 27,
        "start_time": "2023-05-12T08:19:51.256Z"
      },
      {
        "duration": 9,
        "start_time": "2023-05-12T08:19:52.526Z"
      },
      {
        "duration": 12,
        "start_time": "2023-05-12T08:19:57.422Z"
      },
      {
        "duration": 14,
        "start_time": "2023-05-12T08:19:59.421Z"
      },
      {
        "duration": 14,
        "start_time": "2023-05-12T08:20:02.105Z"
      },
      {
        "duration": 6,
        "start_time": "2023-05-12T08:24:37.357Z"
      },
      {
        "duration": 15,
        "start_time": "2023-05-12T08:24:48.853Z"
      },
      {
        "duration": 10,
        "start_time": "2023-05-12T08:25:18.719Z"
      },
      {
        "duration": 632,
        "start_time": "2023-05-12T08:25:23.008Z"
      },
      {
        "duration": 398,
        "start_time": "2023-05-12T08:26:11.473Z"
      },
      {
        "duration": 134,
        "start_time": "2023-05-12T08:26:26.608Z"
      },
      {
        "duration": 398,
        "start_time": "2023-05-12T08:26:37.280Z"
      },
      {
        "duration": 790,
        "start_time": "2023-05-12T08:28:28.146Z"
      },
      {
        "duration": 321,
        "start_time": "2023-05-12T08:28:56.932Z"
      },
      {
        "duration": 540,
        "start_time": "2023-05-12T08:29:10.809Z"
      },
      {
        "duration": 4,
        "start_time": "2023-05-12T08:29:42.736Z"
      },
      {
        "duration": 391,
        "start_time": "2023-05-12T08:29:47.648Z"
      },
      {
        "duration": 4,
        "start_time": "2023-05-12T08:55:12.491Z"
      },
      {
        "duration": 1002,
        "start_time": "2023-05-12T08:55:51.129Z"
      },
      {
        "duration": 185,
        "start_time": "2023-05-12T09:05:02.878Z"
      },
      {
        "duration": 320,
        "start_time": "2023-05-12T09:41:13.599Z"
      },
      {
        "duration": 178,
        "start_time": "2023-05-12T12:34:07.480Z"
      },
      {
        "duration": 194,
        "start_time": "2023-05-12T12:35:15.998Z"
      },
      {
        "duration": 177,
        "start_time": "2023-05-12T12:35:23.088Z"
      },
      {
        "duration": 267,
        "start_time": "2023-05-12T12:35:31.376Z"
      },
      {
        "duration": 168,
        "start_time": "2023-05-12T12:36:15.517Z"
      },
      {
        "duration": 187,
        "start_time": "2023-05-12T12:37:29.035Z"
      },
      {
        "duration": 177,
        "start_time": "2023-05-12T12:39:49.613Z"
      },
      {
        "duration": 173,
        "start_time": "2023-05-12T12:39:55.497Z"
      },
      {
        "duration": 177,
        "start_time": "2023-05-12T12:40:19.311Z"
      },
      {
        "duration": 237,
        "start_time": "2023-05-12T12:40:26.892Z"
      },
      {
        "duration": 182,
        "start_time": "2023-05-12T12:41:35.521Z"
      },
      {
        "duration": 262,
        "start_time": "2023-05-12T12:43:26.439Z"
      },
      {
        "duration": 210,
        "start_time": "2023-05-12T12:44:41.297Z"
      },
      {
        "duration": 174,
        "start_time": "2023-05-12T12:45:26.356Z"
      },
      {
        "duration": 195,
        "start_time": "2023-05-12T12:46:48.604Z"
      },
      {
        "duration": 273,
        "start_time": "2023-05-12T12:46:54.135Z"
      },
      {
        "duration": 203,
        "start_time": "2023-05-12T12:47:29.097Z"
      },
      {
        "duration": 176,
        "start_time": "2023-05-12T12:51:06.964Z"
      },
      {
        "duration": 5,
        "start_time": "2023-05-12T12:51:19.971Z"
      },
      {
        "duration": 193,
        "start_time": "2023-05-12T12:51:33.910Z"
      },
      {
        "duration": 199,
        "start_time": "2023-05-12T12:51:54.492Z"
      },
      {
        "duration": 266,
        "start_time": "2023-05-12T12:54:03.620Z"
      },
      {
        "duration": 262,
        "start_time": "2023-05-12T12:55:00.446Z"
      },
      {
        "duration": 279,
        "start_time": "2023-05-12T12:55:39.394Z"
      },
      {
        "duration": 325,
        "start_time": "2023-05-12T12:57:16.994Z"
      },
      {
        "duration": 254,
        "start_time": "2023-05-12T12:57:29.349Z"
      },
      {
        "duration": 285,
        "start_time": "2023-05-12T12:57:39.089Z"
      },
      {
        "duration": 172,
        "start_time": "2023-05-12T12:57:51.960Z"
      },
      {
        "duration": 385,
        "start_time": "2023-05-12T13:07:02.332Z"
      },
      {
        "duration": 305,
        "start_time": "2023-05-12T13:07:08.171Z"
      },
      {
        "duration": 185,
        "start_time": "2023-05-12T13:07:59.753Z"
      },
      {
        "duration": 173,
        "start_time": "2023-05-12T13:08:37.671Z"
      },
      {
        "duration": 159,
        "start_time": "2023-05-12T13:08:58.068Z"
      },
      {
        "duration": 188,
        "start_time": "2023-05-12T13:09:18.895Z"
      },
      {
        "duration": 168,
        "start_time": "2023-05-12T13:10:46.935Z"
      },
      {
        "duration": 162,
        "start_time": "2023-05-12T13:10:50.747Z"
      },
      {
        "duration": 100,
        "start_time": "2023-05-12T13:14:48.396Z"
      },
      {
        "duration": 13,
        "start_time": "2023-05-12T13:21:43.703Z"
      },
      {
        "duration": 17,
        "start_time": "2023-05-12T13:22:01.394Z"
      },
      {
        "duration": 16,
        "start_time": "2023-05-12T13:23:06.526Z"
      },
      {
        "duration": 15,
        "start_time": "2023-05-12T13:23:29.115Z"
      },
      {
        "duration": 13,
        "start_time": "2023-05-12T13:24:13.813Z"
      },
      {
        "duration": 11,
        "start_time": "2023-05-12T13:26:17.803Z"
      },
      {
        "duration": 13,
        "start_time": "2023-05-12T13:28:55.512Z"
      },
      {
        "duration": 12,
        "start_time": "2023-05-12T13:29:50.561Z"
      },
      {
        "duration": 133,
        "start_time": "2023-05-12T13:30:50.949Z"
      },
      {
        "duration": 125,
        "start_time": "2023-05-12T13:31:43.603Z"
      },
      {
        "duration": 5,
        "start_time": "2023-05-12T13:36:16.683Z"
      },
      {
        "duration": 1370,
        "start_time": "2023-05-13T06:49:34.040Z"
      },
      {
        "duration": 97,
        "start_time": "2023-05-13T06:49:35.412Z"
      },
      {
        "duration": 14,
        "start_time": "2023-05-13T06:49:35.510Z"
      },
      {
        "duration": 39,
        "start_time": "2023-05-13T06:49:35.526Z"
      },
      {
        "duration": 24,
        "start_time": "2023-05-13T06:49:35.567Z"
      },
      {
        "duration": 14,
        "start_time": "2023-05-13T06:49:35.592Z"
      },
      {
        "duration": 170,
        "start_time": "2023-05-13T06:49:35.608Z"
      },
      {
        "duration": 11,
        "start_time": "2023-05-13T06:49:35.780Z"
      },
      {
        "duration": 17,
        "start_time": "2023-05-13T06:49:35.793Z"
      },
      {
        "duration": 26,
        "start_time": "2023-05-13T06:49:35.813Z"
      },
      {
        "duration": 16,
        "start_time": "2023-05-13T06:49:35.841Z"
      },
      {
        "duration": 25,
        "start_time": "2023-05-13T06:49:35.859Z"
      },
      {
        "duration": 932,
        "start_time": "2023-05-13T06:49:35.886Z"
      },
      {
        "duration": 205,
        "start_time": "2023-05-13T06:49:36.821Z"
      },
      {
        "duration": 353,
        "start_time": "2023-05-13T06:49:37.028Z"
      },
      {
        "duration": 185,
        "start_time": "2023-05-13T06:49:37.384Z"
      },
      {
        "duration": 300,
        "start_time": "2023-05-13T06:49:37.571Z"
      },
      {
        "duration": 160,
        "start_time": "2023-05-13T06:49:37.873Z"
      },
      {
        "duration": 5,
        "start_time": "2023-05-13T06:49:38.035Z"
      },
      {
        "duration": 13,
        "start_time": "2023-05-13T06:52:42.031Z"
      },
      {
        "duration": 167,
        "start_time": "2023-05-13T06:53:09.577Z"
      },
      {
        "duration": 193,
        "start_time": "2023-05-13T06:59:55.647Z"
      },
      {
        "duration": 128,
        "start_time": "2023-05-13T07:00:49.321Z"
      },
      {
        "duration": 97,
        "start_time": "2023-05-13T07:00:59.798Z"
      },
      {
        "duration": 117,
        "start_time": "2023-05-13T07:01:12.595Z"
      },
      {
        "duration": 458,
        "start_time": "2023-05-13T07:01:19.463Z"
      },
      {
        "duration": 237,
        "start_time": "2023-05-13T07:01:28.946Z"
      },
      {
        "duration": 206,
        "start_time": "2023-05-13T07:01:50.241Z"
      },
      {
        "duration": 188,
        "start_time": "2023-05-13T07:01:59.359Z"
      },
      {
        "duration": 228,
        "start_time": "2023-05-13T07:02:21.477Z"
      },
      {
        "duration": 6,
        "start_time": "2023-05-13T07:09:19.362Z"
      },
      {
        "duration": 684,
        "start_time": "2023-05-13T07:22:02.133Z"
      },
      {
        "duration": 586,
        "start_time": "2023-05-13T07:22:36.935Z"
      },
      {
        "duration": 874,
        "start_time": "2023-05-13T07:34:28.598Z"
      },
      {
        "duration": 875,
        "start_time": "2023-05-13T07:35:19.493Z"
      },
      {
        "duration": 875,
        "start_time": "2023-05-13T07:35:48.861Z"
      },
      {
        "duration": 1211,
        "start_time": "2023-05-13T10:58:09.706Z"
      },
      {
        "duration": 66,
        "start_time": "2023-05-13T10:58:10.920Z"
      },
      {
        "duration": 12,
        "start_time": "2023-05-13T10:58:10.987Z"
      },
      {
        "duration": 16,
        "start_time": "2023-05-13T10:58:11.000Z"
      },
      {
        "duration": 13,
        "start_time": "2023-05-13T10:58:11.018Z"
      },
      {
        "duration": 11,
        "start_time": "2023-05-13T10:58:11.032Z"
      },
      {
        "duration": 126,
        "start_time": "2023-05-13T10:58:11.045Z"
      },
      {
        "duration": 7,
        "start_time": "2023-05-13T10:58:11.173Z"
      },
      {
        "duration": 14,
        "start_time": "2023-05-13T10:58:11.182Z"
      },
      {
        "duration": 10,
        "start_time": "2023-05-13T10:58:11.199Z"
      },
      {
        "duration": 10,
        "start_time": "2023-05-13T10:58:11.211Z"
      },
      {
        "duration": 8,
        "start_time": "2023-05-13T10:58:11.223Z"
      },
      {
        "duration": 788,
        "start_time": "2023-05-13T10:58:11.232Z"
      },
      {
        "duration": 159,
        "start_time": "2023-05-13T10:58:12.021Z"
      },
      {
        "duration": 277,
        "start_time": "2023-05-13T10:58:12.182Z"
      },
      {
        "duration": 175,
        "start_time": "2023-05-13T10:58:12.461Z"
      },
      {
        "duration": 287,
        "start_time": "2023-05-13T10:58:12.637Z"
      },
      {
        "duration": 137,
        "start_time": "2023-05-13T10:58:12.926Z"
      },
      {
        "duration": 4,
        "start_time": "2023-05-13T10:58:13.065Z"
      },
      {
        "duration": 197,
        "start_time": "2023-05-13T10:58:13.071Z"
      },
      {
        "duration": 5,
        "start_time": "2023-05-13T10:58:13.270Z"
      },
      {
        "duration": 845,
        "start_time": "2023-05-13T10:58:13.276Z"
      },
      {
        "duration": 515,
        "start_time": "2023-05-13T10:58:14.123Z"
      },
      {
        "duration": 96,
        "start_time": "2023-05-13T11:05:59.710Z"
      },
      {
        "duration": 13,
        "start_time": "2023-05-13T11:06:11.098Z"
      },
      {
        "duration": 19,
        "start_time": "2023-05-13T11:11:09.122Z"
      },
      {
        "duration": 39,
        "start_time": "2023-05-13T11:11:15.154Z"
      },
      {
        "duration": 10,
        "start_time": "2023-05-13T11:16:26.614Z"
      },
      {
        "duration": 16,
        "start_time": "2023-05-13T11:16:42.974Z"
      },
      {
        "duration": 3,
        "start_time": "2023-05-13T11:29:14.357Z"
      },
      {
        "duration": 200,
        "start_time": "2023-05-13T11:36:02.786Z"
      },
      {
        "duration": 1150,
        "start_time": "2023-05-13T13:47:33.841Z"
      },
      {
        "duration": 80,
        "start_time": "2023-05-13T13:47:34.994Z"
      },
      {
        "duration": 11,
        "start_time": "2023-05-13T13:47:35.076Z"
      },
      {
        "duration": 12,
        "start_time": "2023-05-13T13:47:35.089Z"
      },
      {
        "duration": 12,
        "start_time": "2023-05-13T13:47:35.103Z"
      },
      {
        "duration": 12,
        "start_time": "2023-05-13T13:47:35.116Z"
      },
      {
        "duration": 203,
        "start_time": "2023-05-13T13:47:35.129Z"
      },
      {
        "duration": 8,
        "start_time": "2023-05-13T13:47:35.333Z"
      },
      {
        "duration": 14,
        "start_time": "2023-05-13T13:47:35.343Z"
      },
      {
        "duration": 12,
        "start_time": "2023-05-13T13:47:35.358Z"
      },
      {
        "duration": 24,
        "start_time": "2023-05-13T13:47:35.372Z"
      },
      {
        "duration": 11,
        "start_time": "2023-05-13T13:47:35.398Z"
      },
      {
        "duration": 848,
        "start_time": "2023-05-13T13:47:35.410Z"
      },
      {
        "duration": 165,
        "start_time": "2023-05-13T13:47:36.261Z"
      },
      {
        "duration": 254,
        "start_time": "2023-05-13T13:47:36.428Z"
      },
      {
        "duration": 163,
        "start_time": "2023-05-13T13:47:36.684Z"
      },
      {
        "duration": 251,
        "start_time": "2023-05-13T13:47:36.848Z"
      },
      {
        "duration": 140,
        "start_time": "2023-05-13T13:47:37.101Z"
      },
      {
        "duration": 4,
        "start_time": "2023-05-13T13:47:37.243Z"
      },
      {
        "duration": 205,
        "start_time": "2023-05-13T13:47:37.249Z"
      },
      {
        "duration": 4,
        "start_time": "2023-05-13T13:47:37.457Z"
      },
      {
        "duration": 780,
        "start_time": "2023-05-13T13:47:37.463Z"
      },
      {
        "duration": 13,
        "start_time": "2023-05-13T13:47:38.244Z"
      },
      {
        "duration": 38,
        "start_time": "2023-05-13T13:47:38.259Z"
      },
      {
        "duration": 34,
        "start_time": "2023-05-13T13:47:38.298Z"
      },
      {
        "duration": 1249,
        "start_time": "2023-05-13T15:04:06.724Z"
      },
      {
        "duration": 65,
        "start_time": "2023-05-14T09:38:25.390Z"
      },
      {
        "duration": 56,
        "start_time": "2023-05-14T09:39:22.549Z"
      },
      {
        "duration": 50,
        "start_time": "2023-05-14T09:40:35.307Z"
      },
      {
        "duration": 40,
        "start_time": "2023-05-14T09:43:47.389Z"
      },
      {
        "duration": 1290,
        "start_time": "2023-05-14T09:43:54.661Z"
      },
      {
        "duration": 63,
        "start_time": "2023-05-14T09:43:55.952Z"
      },
      {
        "duration": 13,
        "start_time": "2023-05-14T09:43:56.017Z"
      },
      {
        "duration": 10,
        "start_time": "2023-05-14T09:43:56.031Z"
      },
      {
        "duration": 11,
        "start_time": "2023-05-14T09:43:56.043Z"
      },
      {
        "duration": 11,
        "start_time": "2023-05-14T09:43:56.055Z"
      },
      {
        "duration": 132,
        "start_time": "2023-05-14T09:43:56.068Z"
      },
      {
        "duration": 8,
        "start_time": "2023-05-14T09:43:56.202Z"
      },
      {
        "duration": 9,
        "start_time": "2023-05-14T09:43:56.212Z"
      },
      {
        "duration": 12,
        "start_time": "2023-05-14T09:43:56.222Z"
      },
      {
        "duration": 10,
        "start_time": "2023-05-14T09:43:56.235Z"
      },
      {
        "duration": 9,
        "start_time": "2023-05-14T09:43:56.246Z"
      },
      {
        "duration": 848,
        "start_time": "2023-05-14T09:43:56.256Z"
      },
      {
        "duration": 163,
        "start_time": "2023-05-14T09:43:57.107Z"
      },
      {
        "duration": 325,
        "start_time": "2023-05-14T09:43:57.278Z"
      },
      {
        "duration": 200,
        "start_time": "2023-05-14T09:43:57.605Z"
      },
      {
        "duration": 291,
        "start_time": "2023-05-14T09:43:57.807Z"
      },
      {
        "duration": 149,
        "start_time": "2023-05-14T09:43:58.100Z"
      },
      {
        "duration": 5,
        "start_time": "2023-05-14T09:43:58.251Z"
      },
      {
        "duration": 230,
        "start_time": "2023-05-14T09:43:58.258Z"
      },
      {
        "duration": 5,
        "start_time": "2023-05-14T09:43:58.491Z"
      },
      {
        "duration": 882,
        "start_time": "2023-05-14T09:43:58.498Z"
      },
      {
        "duration": 18,
        "start_time": "2023-05-14T09:43:59.382Z"
      },
      {
        "duration": 48,
        "start_time": "2023-05-14T09:43:59.402Z"
      },
      {
        "duration": 44,
        "start_time": "2023-05-14T09:43:59.452Z"
      },
      {
        "duration": 12,
        "start_time": "2023-05-14T09:44:08.324Z"
      },
      {
        "duration": 11,
        "start_time": "2023-05-14T09:44:28.721Z"
      },
      {
        "duration": 72,
        "start_time": "2023-05-14T09:45:03.122Z"
      },
      {
        "duration": 288,
        "start_time": "2023-05-14T09:47:09.294Z"
      },
      {
        "duration": 605,
        "start_time": "2023-05-14T09:47:39.303Z"
      },
      {
        "duration": 161,
        "start_time": "2023-05-14T09:48:32.355Z"
      },
      {
        "duration": 268,
        "start_time": "2023-05-14T09:48:35.253Z"
      },
      {
        "duration": 152,
        "start_time": "2023-05-14T09:48:37.993Z"
      },
      {
        "duration": 248,
        "start_time": "2023-05-14T09:48:40.501Z"
      },
      {
        "duration": 125,
        "start_time": "2023-05-14T09:48:45.301Z"
      },
      {
        "duration": 6,
        "start_time": "2023-05-14T09:48:47.693Z"
      },
      {
        "duration": 179,
        "start_time": "2023-05-14T09:48:48.904Z"
      },
      {
        "duration": 760,
        "start_time": "2023-05-14T09:49:12.269Z"
      },
      {
        "duration": 13,
        "start_time": "2023-05-14T09:49:15.593Z"
      },
      {
        "duration": 43,
        "start_time": "2023-05-14T09:49:21.548Z"
      },
      {
        "duration": 19,
        "start_time": "2023-05-14T09:49:24.709Z"
      },
      {
        "duration": 11,
        "start_time": "2023-05-14T09:52:34.055Z"
      },
      {
        "duration": 8,
        "start_time": "2023-05-14T09:52:55.655Z"
      },
      {
        "duration": 7,
        "start_time": "2023-05-14T09:53:02.313Z"
      },
      {
        "duration": 7,
        "start_time": "2023-05-14T09:54:54.920Z"
      },
      {
        "duration": 8,
        "start_time": "2023-05-14T09:55:06.581Z"
      },
      {
        "duration": 6,
        "start_time": "2023-05-14T09:55:16.213Z"
      },
      {
        "duration": 9,
        "start_time": "2023-05-14T09:55:20.309Z"
      },
      {
        "duration": 9,
        "start_time": "2023-05-14T09:55:44.545Z"
      },
      {
        "duration": 12,
        "start_time": "2023-05-14T09:56:48.418Z"
      },
      {
        "duration": 10,
        "start_time": "2023-05-14T09:56:56.562Z"
      },
      {
        "duration": 10,
        "start_time": "2023-05-14T09:57:05.362Z"
      },
      {
        "duration": 1008,
        "start_time": "2023-05-14T09:57:21.422Z"
      },
      {
        "duration": 23,
        "start_time": "2023-05-14T09:57:22.432Z"
      },
      {
        "duration": 10,
        "start_time": "2023-05-14T09:57:22.456Z"
      },
      {
        "duration": 12,
        "start_time": "2023-05-14T09:57:22.468Z"
      },
      {
        "duration": 15,
        "start_time": "2023-05-14T09:57:22.482Z"
      },
      {
        "duration": 13,
        "start_time": "2023-05-14T09:57:22.498Z"
      },
      {
        "duration": 43,
        "start_time": "2023-05-14T09:57:22.512Z"
      },
      {
        "duration": 8,
        "start_time": "2023-05-14T09:57:22.556Z"
      },
      {
        "duration": 12,
        "start_time": "2023-05-14T09:57:22.566Z"
      },
      {
        "duration": 14,
        "start_time": "2023-05-14T09:57:22.581Z"
      },
      {
        "duration": 21,
        "start_time": "2023-05-14T09:57:22.596Z"
      },
      {
        "duration": 9,
        "start_time": "2023-05-14T09:57:22.618Z"
      },
      {
        "duration": 12,
        "start_time": "2023-05-14T09:57:22.628Z"
      },
      {
        "duration": 9,
        "start_time": "2023-05-14T09:57:22.646Z"
      },
      {
        "duration": 31,
        "start_time": "2023-05-14T09:57:22.657Z"
      },
      {
        "duration": 7,
        "start_time": "2023-05-14T09:57:22.690Z"
      },
      {
        "duration": 156,
        "start_time": "2023-05-14T09:57:22.699Z"
      },
      {
        "duration": 0,
        "start_time": "2023-05-14T09:57:22.856Z"
      },
      {
        "duration": 0,
        "start_time": "2023-05-14T09:57:22.858Z"
      },
      {
        "duration": 0,
        "start_time": "2023-05-14T09:57:22.859Z"
      },
      {
        "duration": 0,
        "start_time": "2023-05-14T09:57:22.874Z"
      },
      {
        "duration": 0,
        "start_time": "2023-05-14T09:57:22.876Z"
      },
      {
        "duration": 0,
        "start_time": "2023-05-14T09:57:22.877Z"
      },
      {
        "duration": 0,
        "start_time": "2023-05-14T09:57:22.878Z"
      },
      {
        "duration": 0,
        "start_time": "2023-05-14T09:57:22.879Z"
      },
      {
        "duration": 0,
        "start_time": "2023-05-14T09:57:22.880Z"
      },
      {
        "duration": 0,
        "start_time": "2023-05-14T09:57:22.881Z"
      },
      {
        "duration": 0,
        "start_time": "2023-05-14T09:57:22.882Z"
      },
      {
        "duration": 0,
        "start_time": "2023-05-14T09:57:22.883Z"
      },
      {
        "duration": 10,
        "start_time": "2023-05-14T09:58:02.942Z"
      },
      {
        "duration": 6,
        "start_time": "2023-05-14T09:58:07.803Z"
      },
      {
        "duration": 532,
        "start_time": "2023-05-14T09:59:37.555Z"
      },
      {
        "duration": 261,
        "start_time": "2023-05-14T10:03:04.915Z"
      },
      {
        "duration": 175,
        "start_time": "2023-05-14T10:03:08.516Z"
      },
      {
        "duration": 154,
        "start_time": "2023-05-14T10:03:28.541Z"
      },
      {
        "duration": 148,
        "start_time": "2023-05-14T10:03:47.414Z"
      },
      {
        "duration": 179,
        "start_time": "2023-05-14T10:04:01.085Z"
      },
      {
        "duration": 295,
        "start_time": "2023-05-14T10:04:10.497Z"
      },
      {
        "duration": 18,
        "start_time": "2023-05-14T10:04:14.585Z"
      },
      {
        "duration": 127,
        "start_time": "2023-05-14T10:05:08.761Z"
      },
      {
        "duration": 201,
        "start_time": "2023-05-14T10:05:33.488Z"
      },
      {
        "duration": 107,
        "start_time": "2023-05-14T10:06:57.061Z"
      },
      {
        "duration": 117,
        "start_time": "2023-05-14T10:07:18.224Z"
      },
      {
        "duration": 128,
        "start_time": "2023-05-14T10:07:28.054Z"
      },
      {
        "duration": 480,
        "start_time": "2023-05-14T10:09:37.824Z"
      },
      {
        "duration": 173,
        "start_time": "2023-05-14T10:09:41.198Z"
      },
      {
        "duration": 300,
        "start_time": "2023-05-14T10:09:44.045Z"
      },
      {
        "duration": 156,
        "start_time": "2023-05-14T10:09:47.425Z"
      },
      {
        "duration": 167,
        "start_time": "2023-05-14T10:10:00.243Z"
      },
      {
        "duration": 179,
        "start_time": "2023-05-14T10:10:08.658Z"
      },
      {
        "duration": 224,
        "start_time": "2023-05-14T10:10:12.327Z"
      },
      {
        "duration": 121,
        "start_time": "2023-05-14T10:10:14.722Z"
      },
      {
        "duration": 5,
        "start_time": "2023-05-14T10:10:16.897Z"
      },
      {
        "duration": 163,
        "start_time": "2023-05-14T10:10:18.693Z"
      },
      {
        "duration": 7,
        "start_time": "2023-05-14T10:10:25.610Z"
      },
      {
        "duration": 112,
        "start_time": "2023-05-14T10:10:30.243Z"
      },
      {
        "duration": 11,
        "start_time": "2023-05-14T10:10:34.916Z"
      },
      {
        "duration": 12,
        "start_time": "2023-05-14T10:10:37.747Z"
      },
      {
        "duration": 12,
        "start_time": "2023-05-14T10:10:51.000Z"
      },
      {
        "duration": 458,
        "start_time": "2023-05-14T10:12:02.154Z"
      },
      {
        "duration": 492,
        "start_time": "2023-05-14T10:12:10.340Z"
      },
      {
        "duration": 163,
        "start_time": "2023-05-14T10:12:14.705Z"
      },
      {
        "duration": 264,
        "start_time": "2023-05-14T10:12:17.147Z"
      },
      {
        "duration": 147,
        "start_time": "2023-05-14T10:12:19.785Z"
      },
      {
        "duration": 5,
        "start_time": "2023-05-14T10:12:53.643Z"
      },
      {
        "duration": 5,
        "start_time": "2023-05-14T10:13:33.030Z"
      },
      {
        "duration": 165,
        "start_time": "2023-05-14T10:13:40.997Z"
      },
      {
        "duration": 262,
        "start_time": "2023-05-14T10:14:01.800Z"
      },
      {
        "duration": 286,
        "start_time": "2023-05-14T10:15:25.559Z"
      },
      {
        "duration": 110,
        "start_time": "2023-05-14T10:16:05.485Z"
      },
      {
        "duration": 4,
        "start_time": "2023-05-14T10:16:13.158Z"
      },
      {
        "duration": 158,
        "start_time": "2023-05-14T10:16:48.504Z"
      },
      {
        "duration": 5,
        "start_time": "2023-05-14T10:17:04.701Z"
      },
      {
        "duration": 506,
        "start_time": "2023-05-14T10:18:03.462Z"
      },
      {
        "duration": 9,
        "start_time": "2023-05-14T10:26:39.792Z"
      },
      {
        "duration": 34,
        "start_time": "2023-05-14T10:26:56.334Z"
      },
      {
        "duration": 30,
        "start_time": "2023-05-14T10:27:08.484Z"
      },
      {
        "duration": 13,
        "start_time": "2023-05-14T10:27:34.604Z"
      },
      {
        "duration": 15,
        "start_time": "2023-05-14T11:08:21.528Z"
      },
      {
        "duration": 5,
        "start_time": "2023-05-14T11:13:13.871Z"
      },
      {
        "duration": 5,
        "start_time": "2023-05-14T11:13:35.459Z"
      },
      {
        "duration": 5,
        "start_time": "2023-05-14T11:14:57.336Z"
      },
      {
        "duration": 6,
        "start_time": "2023-05-14T11:15:07.343Z"
      },
      {
        "duration": 5,
        "start_time": "2023-05-14T11:15:28.258Z"
      },
      {
        "duration": 5,
        "start_time": "2023-05-14T11:15:30.407Z"
      },
      {
        "duration": 5,
        "start_time": "2023-05-14T11:16:33.691Z"
      },
      {
        "duration": 6,
        "start_time": "2023-05-14T11:16:58.799Z"
      },
      {
        "duration": 12,
        "start_time": "2023-05-14T11:20:05.443Z"
      },
      {
        "duration": 7,
        "start_time": "2023-05-14T11:21:00.149Z"
      },
      {
        "duration": 12,
        "start_time": "2023-05-14T11:21:26.059Z"
      },
      {
        "duration": 10,
        "start_time": "2023-05-14T11:22:05.079Z"
      },
      {
        "duration": 12,
        "start_time": "2023-05-14T11:23:16.155Z"
      },
      {
        "duration": 10,
        "start_time": "2023-05-14T11:23:47.983Z"
      },
      {
        "duration": 416,
        "start_time": "2023-05-14T11:28:13.136Z"
      },
      {
        "duration": 195,
        "start_time": "2023-05-14T11:28:44.147Z"
      },
      {
        "duration": 1019,
        "start_time": "2023-05-14T11:30:54.107Z"
      },
      {
        "duration": 23,
        "start_time": "2023-05-14T11:30:55.128Z"
      },
      {
        "duration": 12,
        "start_time": "2023-05-14T11:30:55.152Z"
      },
      {
        "duration": 14,
        "start_time": "2023-05-14T11:30:55.166Z"
      },
      {
        "duration": 16,
        "start_time": "2023-05-14T11:30:55.182Z"
      },
      {
        "duration": 22,
        "start_time": "2023-05-14T11:30:55.200Z"
      },
      {
        "duration": 40,
        "start_time": "2023-05-14T11:30:55.224Z"
      },
      {
        "duration": 7,
        "start_time": "2023-05-14T11:30:55.266Z"
      },
      {
        "duration": 16,
        "start_time": "2023-05-14T11:30:55.274Z"
      },
      {
        "duration": 21,
        "start_time": "2023-05-14T11:30:55.292Z"
      },
      {
        "duration": 15,
        "start_time": "2023-05-14T11:30:55.315Z"
      },
      {
        "duration": 11,
        "start_time": "2023-05-14T11:30:55.332Z"
      },
      {
        "duration": 17,
        "start_time": "2023-05-14T11:30:55.344Z"
      },
      {
        "duration": 20,
        "start_time": "2023-05-14T11:30:55.364Z"
      },
      {
        "duration": 20,
        "start_time": "2023-05-14T11:30:55.386Z"
      },
      {
        "duration": 22,
        "start_time": "2023-05-14T11:30:55.407Z"
      },
      {
        "duration": 14,
        "start_time": "2023-05-14T11:30:55.430Z"
      },
      {
        "duration": 16,
        "start_time": "2023-05-14T11:30:55.445Z"
      },
      {
        "duration": 14,
        "start_time": "2023-05-14T11:30:55.463Z"
      },
      {
        "duration": 18,
        "start_time": "2023-05-14T11:30:55.479Z"
      },
      {
        "duration": 305,
        "start_time": "2023-05-14T11:30:55.499Z"
      },
      {
        "duration": 0,
        "start_time": "2023-05-14T11:30:55.806Z"
      },
      {
        "duration": 0,
        "start_time": "2023-05-14T11:30:55.807Z"
      },
      {
        "duration": 0,
        "start_time": "2023-05-14T11:30:55.808Z"
      },
      {
        "duration": 0,
        "start_time": "2023-05-14T11:30:55.810Z"
      },
      {
        "duration": 0,
        "start_time": "2023-05-14T11:30:55.811Z"
      },
      {
        "duration": 0,
        "start_time": "2023-05-14T11:30:55.812Z"
      },
      {
        "duration": 0,
        "start_time": "2023-05-14T11:30:55.813Z"
      },
      {
        "duration": 0,
        "start_time": "2023-05-14T11:30:55.815Z"
      },
      {
        "duration": 0,
        "start_time": "2023-05-14T11:30:55.816Z"
      },
      {
        "duration": 0,
        "start_time": "2023-05-14T11:30:55.817Z"
      },
      {
        "duration": 0,
        "start_time": "2023-05-14T11:30:55.818Z"
      },
      {
        "duration": 0,
        "start_time": "2023-05-14T11:30:55.819Z"
      },
      {
        "duration": 0,
        "start_time": "2023-05-14T11:30:55.821Z"
      },
      {
        "duration": 0,
        "start_time": "2023-05-14T11:30:55.822Z"
      },
      {
        "duration": 242,
        "start_time": "2023-05-14T11:31:28.656Z"
      },
      {
        "duration": 183,
        "start_time": "2023-05-14T11:32:12.855Z"
      },
      {
        "duration": 13,
        "start_time": "2023-05-14T11:32:37.107Z"
      },
      {
        "duration": 187,
        "start_time": "2023-05-14T11:32:39.637Z"
      },
      {
        "duration": 190,
        "start_time": "2023-05-14T11:32:47.787Z"
      },
      {
        "duration": 8,
        "start_time": "2023-05-14T11:36:28.633Z"
      },
      {
        "duration": 184,
        "start_time": "2023-05-14T11:36:48.495Z"
      },
      {
        "duration": 6,
        "start_time": "2023-05-14T11:38:18.048Z"
      },
      {
        "duration": 1085,
        "start_time": "2023-05-14T11:38:26.348Z"
      },
      {
        "duration": 22,
        "start_time": "2023-05-14T11:38:27.435Z"
      },
      {
        "duration": 12,
        "start_time": "2023-05-14T11:38:27.459Z"
      },
      {
        "duration": 10,
        "start_time": "2023-05-14T11:38:27.473Z"
      },
      {
        "duration": 14,
        "start_time": "2023-05-14T11:38:27.485Z"
      },
      {
        "duration": 12,
        "start_time": "2023-05-14T11:38:27.500Z"
      },
      {
        "duration": 44,
        "start_time": "2023-05-14T11:38:27.514Z"
      },
      {
        "duration": 7,
        "start_time": "2023-05-14T11:38:27.560Z"
      },
      {
        "duration": 10,
        "start_time": "2023-05-14T11:38:27.569Z"
      },
      {
        "duration": 11,
        "start_time": "2023-05-14T11:38:27.581Z"
      },
      {
        "duration": 10,
        "start_time": "2023-05-14T11:38:27.594Z"
      },
      {
        "duration": 6,
        "start_time": "2023-05-14T11:38:27.606Z"
      },
      {
        "duration": 7,
        "start_time": "2023-05-14T11:38:27.614Z"
      },
      {
        "duration": 6,
        "start_time": "2023-05-14T11:38:27.624Z"
      },
      {
        "duration": 7,
        "start_time": "2023-05-14T11:38:27.632Z"
      },
      {
        "duration": 6,
        "start_time": "2023-05-14T11:38:27.675Z"
      },
      {
        "duration": 9,
        "start_time": "2023-05-14T11:38:27.682Z"
      },
      {
        "duration": 5,
        "start_time": "2023-05-14T11:38:27.693Z"
      },
      {
        "duration": 7,
        "start_time": "2023-05-14T11:38:27.700Z"
      },
      {
        "duration": 7,
        "start_time": "2023-05-14T11:38:27.708Z"
      },
      {
        "duration": 20,
        "start_time": "2023-05-14T11:38:27.717Z"
      },
      {
        "duration": 609,
        "start_time": "2023-05-14T11:38:27.739Z"
      },
      {
        "duration": 318,
        "start_time": "2023-05-14T11:38:28.351Z"
      },
      {
        "duration": 0,
        "start_time": "2023-05-14T11:38:28.671Z"
      },
      {
        "duration": 0,
        "start_time": "2023-05-14T11:38:28.672Z"
      },
      {
        "duration": 0,
        "start_time": "2023-05-14T11:38:28.674Z"
      },
      {
        "duration": 0,
        "start_time": "2023-05-14T11:38:28.676Z"
      },
      {
        "duration": 0,
        "start_time": "2023-05-14T11:38:28.677Z"
      },
      {
        "duration": 0,
        "start_time": "2023-05-14T11:38:28.678Z"
      },
      {
        "duration": 0,
        "start_time": "2023-05-14T11:38:28.679Z"
      },
      {
        "duration": 0,
        "start_time": "2023-05-14T11:38:28.680Z"
      },
      {
        "duration": 0,
        "start_time": "2023-05-14T11:38:28.681Z"
      },
      {
        "duration": 0,
        "start_time": "2023-05-14T11:38:28.682Z"
      },
      {
        "duration": 0,
        "start_time": "2023-05-14T11:38:28.683Z"
      },
      {
        "duration": 0,
        "start_time": "2023-05-14T11:38:28.684Z"
      },
      {
        "duration": 0,
        "start_time": "2023-05-14T11:38:28.685Z"
      },
      {
        "duration": 18,
        "start_time": "2023-05-14T11:41:35.544Z"
      },
      {
        "duration": 10,
        "start_time": "2023-05-14T11:41:41.453Z"
      },
      {
        "duration": 3,
        "start_time": "2023-05-14T11:41:50.858Z"
      },
      {
        "duration": 182,
        "start_time": "2023-05-14T11:42:03.146Z"
      },
      {
        "duration": 434,
        "start_time": "2023-05-14T11:51:15.150Z"
      },
      {
        "duration": 454,
        "start_time": "2023-05-14T11:53:03.540Z"
      },
      {
        "duration": 427,
        "start_time": "2023-05-14T11:53:20.400Z"
      },
      {
        "duration": 439,
        "start_time": "2023-05-14T11:58:11.904Z"
      },
      {
        "duration": 447,
        "start_time": "2023-05-14T11:58:20.762Z"
      },
      {
        "duration": 433,
        "start_time": "2023-05-14T11:59:56.346Z"
      },
      {
        "duration": 413,
        "start_time": "2023-05-14T12:01:41.746Z"
      },
      {
        "duration": 344,
        "start_time": "2023-05-14T12:02:07.054Z"
      },
      {
        "duration": 406,
        "start_time": "2023-05-14T12:02:13.742Z"
      },
      {
        "duration": 49,
        "start_time": "2023-05-14T12:02:27.042Z"
      },
      {
        "duration": 430,
        "start_time": "2023-05-14T12:02:32.907Z"
      },
      {
        "duration": 429,
        "start_time": "2023-05-14T12:02:39.750Z"
      },
      {
        "duration": 424,
        "start_time": "2023-05-14T12:02:52.492Z"
      },
      {
        "duration": 430,
        "start_time": "2023-05-14T12:06:21.466Z"
      },
      {
        "duration": 449,
        "start_time": "2023-05-14T12:06:33.006Z"
      },
      {
        "duration": 432,
        "start_time": "2023-05-14T12:06:45.151Z"
      },
      {
        "duration": 430,
        "start_time": "2023-05-14T12:06:52.964Z"
      },
      {
        "duration": 475,
        "start_time": "2023-05-14T12:07:01.115Z"
      },
      {
        "duration": 472,
        "start_time": "2023-05-14T12:07:14.741Z"
      },
      {
        "duration": 533,
        "start_time": "2023-05-14T12:08:06.611Z"
      },
      {
        "duration": 175,
        "start_time": "2023-05-14T12:08:13.407Z"
      },
      {
        "duration": 175,
        "start_time": "2023-05-14T12:08:51.404Z"
      },
      {
        "duration": 291,
        "start_time": "2023-05-14T12:09:10.548Z"
      },
      {
        "duration": 265,
        "start_time": "2023-05-14T12:10:42.713Z"
      },
      {
        "duration": 268,
        "start_time": "2023-05-14T12:10:58.807Z"
      },
      {
        "duration": 160,
        "start_time": "2023-05-14T12:11:23.100Z"
      },
      {
        "duration": 182,
        "start_time": "2023-05-14T12:13:30.216Z"
      },
      {
        "duration": 170,
        "start_time": "2023-05-14T12:13:36.587Z"
      },
      {
        "duration": 279,
        "start_time": "2023-05-14T12:13:57.412Z"
      },
      {
        "duration": 313,
        "start_time": "2023-05-14T12:15:10.043Z"
      },
      {
        "duration": 119,
        "start_time": "2023-05-14T12:15:19.322Z"
      },
      {
        "duration": 135,
        "start_time": "2023-05-14T12:16:26.131Z"
      },
      {
        "duration": 116,
        "start_time": "2023-05-14T12:16:40.456Z"
      },
      {
        "duration": 6,
        "start_time": "2023-05-14T12:16:44.948Z"
      },
      {
        "duration": 5,
        "start_time": "2023-05-14T12:16:46.992Z"
      },
      {
        "duration": 557,
        "start_time": "2023-05-14T12:16:51.748Z"
      },
      {
        "duration": 11,
        "start_time": "2023-05-14T12:16:56.388Z"
      },
      {
        "duration": 52,
        "start_time": "2023-05-14T12:17:39.092Z"
      },
      {
        "duration": 15,
        "start_time": "2023-05-14T12:17:44.500Z"
      },
      {
        "duration": 162,
        "start_time": "2023-05-14T12:21:06.722Z"
      },
      {
        "duration": 183,
        "start_time": "2023-05-14T12:22:30.612Z"
      },
      {
        "duration": 175,
        "start_time": "2023-05-14T12:22:45.488Z"
      },
      {
        "duration": 156,
        "start_time": "2023-05-14T12:22:57.598Z"
      },
      {
        "duration": 144,
        "start_time": "2023-05-14T12:23:01.916Z"
      },
      {
        "duration": 5,
        "start_time": "2023-05-14T12:24:18.804Z"
      },
      {
        "duration": 6,
        "start_time": "2023-05-14T12:24:20.613Z"
      },
      {
        "duration": 8,
        "start_time": "2023-05-14T12:26:40.004Z"
      },
      {
        "duration": 6,
        "start_time": "2023-05-14T12:26:41.804Z"
      },
      {
        "duration": 7,
        "start_time": "2023-05-14T12:26:42.662Z"
      },
      {
        "duration": 11,
        "start_time": "2023-05-14T12:26:50.218Z"
      },
      {
        "duration": 7,
        "start_time": "2023-05-14T12:27:00.147Z"
      },
      {
        "duration": 6,
        "start_time": "2023-05-14T12:27:20.100Z"
      },
      {
        "duration": 5,
        "start_time": "2023-05-14T12:27:23.360Z"
      },
      {
        "duration": 196,
        "start_time": "2023-05-14T12:28:47.708Z"
      },
      {
        "duration": 7,
        "start_time": "2023-05-14T12:29:05.062Z"
      },
      {
        "duration": 6,
        "start_time": "2023-05-14T12:29:06.562Z"
      },
      {
        "duration": 6,
        "start_time": "2023-05-14T12:29:08.161Z"
      },
      {
        "duration": 6,
        "start_time": "2023-05-14T12:29:09.180Z"
      },
      {
        "duration": 6,
        "start_time": "2023-05-14T12:29:11.218Z"
      },
      {
        "duration": 7,
        "start_time": "2023-05-14T12:29:12.534Z"
      },
      {
        "duration": 5,
        "start_time": "2023-05-14T12:29:14.739Z"
      },
      {
        "duration": 4,
        "start_time": "2023-05-14T12:29:16.192Z"
      },
      {
        "duration": 11,
        "start_time": "2023-05-14T12:29:25.413Z"
      },
      {
        "duration": 483,
        "start_time": "2023-05-14T12:29:31.420Z"
      },
      {
        "duration": 175,
        "start_time": "2023-05-14T12:29:55.725Z"
      },
      {
        "duration": 282,
        "start_time": "2023-05-14T12:30:00.088Z"
      },
      {
        "duration": 203,
        "start_time": "2023-05-14T12:30:02.726Z"
      },
      {
        "duration": 168,
        "start_time": "2023-05-14T12:30:18.033Z"
      },
      {
        "duration": 274,
        "start_time": "2023-05-14T12:30:33.496Z"
      },
      {
        "duration": 256,
        "start_time": "2023-05-14T12:30:45.832Z"
      },
      {
        "duration": 193,
        "start_time": "2023-05-14T12:30:49.952Z"
      },
      {
        "duration": 1147,
        "start_time": "2023-05-15T05:38:55.624Z"
      },
      {
        "duration": 94,
        "start_time": "2023-05-15T05:38:56.773Z"
      },
      {
        "duration": 13,
        "start_time": "2023-05-15T05:38:56.869Z"
      },
      {
        "duration": 14,
        "start_time": "2023-05-15T05:38:56.884Z"
      },
      {
        "duration": 17,
        "start_time": "2023-05-15T05:38:56.900Z"
      },
      {
        "duration": 22,
        "start_time": "2023-05-15T05:38:56.919Z"
      },
      {
        "duration": 174,
        "start_time": "2023-05-15T05:38:56.943Z"
      },
      {
        "duration": 16,
        "start_time": "2023-05-15T05:38:57.119Z"
      },
      {
        "duration": 22,
        "start_time": "2023-05-15T05:38:57.137Z"
      },
      {
        "duration": 17,
        "start_time": "2023-05-15T05:38:57.162Z"
      },
      {
        "duration": 12,
        "start_time": "2023-05-15T05:38:57.181Z"
      },
      {
        "duration": 10,
        "start_time": "2023-05-15T05:38:57.195Z"
      },
      {
        "duration": 15,
        "start_time": "2023-05-15T05:38:57.207Z"
      },
      {
        "duration": 29,
        "start_time": "2023-05-15T05:38:57.223Z"
      },
      {
        "duration": 11,
        "start_time": "2023-05-15T05:38:57.254Z"
      },
      {
        "duration": 6,
        "start_time": "2023-05-15T05:38:57.268Z"
      },
      {
        "duration": 21,
        "start_time": "2023-05-15T05:38:57.276Z"
      },
      {
        "duration": 6,
        "start_time": "2023-05-15T05:38:57.299Z"
      },
      {
        "duration": 10,
        "start_time": "2023-05-15T05:38:57.306Z"
      },
      {
        "duration": 20,
        "start_time": "2023-05-15T05:38:57.318Z"
      },
      {
        "duration": 23,
        "start_time": "2023-05-15T05:38:57.339Z"
      },
      {
        "duration": 636,
        "start_time": "2023-05-15T05:38:57.364Z"
      },
      {
        "duration": 579,
        "start_time": "2023-05-15T05:38:58.002Z"
      },
      {
        "duration": 0,
        "start_time": "2023-05-15T05:38:58.583Z"
      },
      {
        "duration": 0,
        "start_time": "2023-05-15T05:38:58.586Z"
      },
      {
        "duration": 0,
        "start_time": "2023-05-15T05:38:58.587Z"
      },
      {
        "duration": 0,
        "start_time": "2023-05-15T05:38:58.587Z"
      },
      {
        "duration": 0,
        "start_time": "2023-05-15T05:38:58.589Z"
      },
      {
        "duration": 0,
        "start_time": "2023-05-15T05:38:58.590Z"
      },
      {
        "duration": 0,
        "start_time": "2023-05-15T05:38:58.592Z"
      },
      {
        "duration": 0,
        "start_time": "2023-05-15T05:38:58.593Z"
      },
      {
        "duration": 0,
        "start_time": "2023-05-15T05:38:58.595Z"
      },
      {
        "duration": 0,
        "start_time": "2023-05-15T05:38:58.596Z"
      },
      {
        "duration": 0,
        "start_time": "2023-05-15T05:38:58.597Z"
      },
      {
        "duration": 0,
        "start_time": "2023-05-15T05:38:58.599Z"
      },
      {
        "duration": 1443,
        "start_time": "2023-05-15T05:43:28.750Z"
      },
      {
        "duration": 35,
        "start_time": "2023-05-15T05:43:30.197Z"
      },
      {
        "duration": 36,
        "start_time": "2023-05-15T05:43:30.234Z"
      },
      {
        "duration": 20,
        "start_time": "2023-05-15T05:43:30.273Z"
      },
      {
        "duration": 43,
        "start_time": "2023-05-15T05:43:30.296Z"
      },
      {
        "duration": 34,
        "start_time": "2023-05-15T05:43:30.350Z"
      },
      {
        "duration": 81,
        "start_time": "2023-05-15T05:43:30.386Z"
      },
      {
        "duration": 10,
        "start_time": "2023-05-15T05:43:30.469Z"
      },
      {
        "duration": 36,
        "start_time": "2023-05-15T05:43:30.483Z"
      },
      {
        "duration": 62,
        "start_time": "2023-05-15T05:43:30.520Z"
      },
      {
        "duration": 24,
        "start_time": "2023-05-15T05:43:30.584Z"
      },
      {
        "duration": 46,
        "start_time": "2023-05-15T05:43:30.610Z"
      },
      {
        "duration": 33,
        "start_time": "2023-05-15T05:43:30.658Z"
      },
      {
        "duration": 34,
        "start_time": "2023-05-15T05:43:30.695Z"
      },
      {
        "duration": 45,
        "start_time": "2023-05-15T05:43:30.739Z"
      },
      {
        "duration": 30,
        "start_time": "2023-05-15T05:43:30.786Z"
      },
      {
        "duration": 65,
        "start_time": "2023-05-15T05:43:30.818Z"
      },
      {
        "duration": 63,
        "start_time": "2023-05-15T05:43:30.886Z"
      },
      {
        "duration": 35,
        "start_time": "2023-05-15T05:43:30.951Z"
      },
      {
        "duration": 73,
        "start_time": "2023-05-15T05:43:30.989Z"
      },
      {
        "duration": 44,
        "start_time": "2023-05-15T05:43:31.064Z"
      },
      {
        "duration": 812,
        "start_time": "2023-05-15T05:43:31.112Z"
      },
      {
        "duration": 30,
        "start_time": "2023-05-15T05:43:31.933Z"
      },
      {
        "duration": 431,
        "start_time": "2023-05-15T05:43:31.965Z"
      },
      {
        "duration": 492,
        "start_time": "2023-05-15T05:43:32.398Z"
      },
      {
        "duration": 321,
        "start_time": "2023-05-15T05:43:32.892Z"
      },
      {
        "duration": 506,
        "start_time": "2023-05-15T05:43:33.215Z"
      },
      {
        "duration": 161,
        "start_time": "2023-05-15T05:43:33.730Z"
      },
      {
        "duration": 5,
        "start_time": "2023-05-15T05:43:33.893Z"
      },
      {
        "duration": 278,
        "start_time": "2023-05-15T05:43:33.900Z"
      },
      {
        "duration": 7,
        "start_time": "2023-05-15T05:43:34.182Z"
      },
      {
        "duration": 1161,
        "start_time": "2023-05-15T05:43:34.192Z"
      },
      {
        "duration": 13,
        "start_time": "2023-05-15T05:43:35.355Z"
      },
      {
        "duration": 34,
        "start_time": "2023-05-15T05:43:35.370Z"
      },
      {
        "duration": 28,
        "start_time": "2023-05-15T05:43:35.427Z"
      },
      {
        "duration": 15,
        "start_time": "2023-05-15T05:44:06.509Z"
      },
      {
        "duration": 1229,
        "start_time": "2023-05-15T05:44:53.612Z"
      },
      {
        "duration": 33,
        "start_time": "2023-05-15T05:44:54.844Z"
      },
      {
        "duration": 15,
        "start_time": "2023-05-15T05:44:54.883Z"
      },
      {
        "duration": 34,
        "start_time": "2023-05-15T05:44:54.901Z"
      },
      {
        "duration": 54,
        "start_time": "2023-05-15T05:44:54.938Z"
      },
      {
        "duration": 19,
        "start_time": "2023-05-15T05:44:54.995Z"
      },
      {
        "duration": 100,
        "start_time": "2023-05-15T05:44:55.017Z"
      },
      {
        "duration": 17,
        "start_time": "2023-05-15T05:44:55.119Z"
      },
      {
        "duration": 98,
        "start_time": "2023-05-15T05:44:55.138Z"
      },
      {
        "duration": 25,
        "start_time": "2023-05-15T05:44:55.245Z"
      },
      {
        "duration": 42,
        "start_time": "2023-05-15T05:44:55.273Z"
      },
      {
        "duration": 44,
        "start_time": "2023-05-15T05:44:55.317Z"
      },
      {
        "duration": 33,
        "start_time": "2023-05-15T05:44:55.363Z"
      },
      {
        "duration": 17,
        "start_time": "2023-05-15T05:44:55.400Z"
      },
      {
        "duration": 46,
        "start_time": "2023-05-15T05:44:55.419Z"
      },
      {
        "duration": 12,
        "start_time": "2023-05-15T05:44:55.467Z"
      },
      {
        "duration": 12,
        "start_time": "2023-05-15T05:44:55.481Z"
      },
      {
        "duration": 14,
        "start_time": "2023-05-15T05:44:55.494Z"
      },
      {
        "duration": 35,
        "start_time": "2023-05-15T05:44:55.510Z"
      },
      {
        "duration": 10,
        "start_time": "2023-05-15T05:44:55.546Z"
      },
      {
        "duration": 18,
        "start_time": "2023-05-15T05:44:55.558Z"
      },
      {
        "duration": 542,
        "start_time": "2023-05-15T05:44:55.578Z"
      },
      {
        "duration": 522,
        "start_time": "2023-05-15T05:44:56.122Z"
      },
      {
        "duration": 0,
        "start_time": "2023-05-15T05:44:56.646Z"
      },
      {
        "duration": 0,
        "start_time": "2023-05-15T05:44:56.649Z"
      },
      {
        "duration": 0,
        "start_time": "2023-05-15T05:44:56.651Z"
      },
      {
        "duration": 0,
        "start_time": "2023-05-15T05:44:56.652Z"
      },
      {
        "duration": 0,
        "start_time": "2023-05-15T05:44:56.653Z"
      },
      {
        "duration": 0,
        "start_time": "2023-05-15T05:44:56.655Z"
      },
      {
        "duration": 0,
        "start_time": "2023-05-15T05:44:56.656Z"
      },
      {
        "duration": 0,
        "start_time": "2023-05-15T05:44:56.657Z"
      },
      {
        "duration": 0,
        "start_time": "2023-05-15T05:44:56.659Z"
      },
      {
        "duration": 0,
        "start_time": "2023-05-15T05:44:56.661Z"
      },
      {
        "duration": 0,
        "start_time": "2023-05-15T05:44:56.662Z"
      },
      {
        "duration": 0,
        "start_time": "2023-05-15T05:44:56.664Z"
      },
      {
        "duration": 218,
        "start_time": "2023-05-15T05:47:14.219Z"
      },
      {
        "duration": 211,
        "start_time": "2023-05-15T05:47:20.360Z"
      },
      {
        "duration": 309,
        "start_time": "2023-05-15T05:47:20.573Z"
      },
      {
        "duration": 235,
        "start_time": "2023-05-15T05:47:20.884Z"
      },
      {
        "duration": 351,
        "start_time": "2023-05-15T05:47:21.122Z"
      },
      {
        "duration": 174,
        "start_time": "2023-05-15T05:47:21.476Z"
      },
      {
        "duration": 9,
        "start_time": "2023-05-15T05:47:21.651Z"
      },
      {
        "duration": 230,
        "start_time": "2023-05-15T05:47:21.662Z"
      },
      {
        "duration": 6,
        "start_time": "2023-05-15T05:47:21.894Z"
      },
      {
        "duration": 592,
        "start_time": "2023-05-15T05:47:21.902Z"
      },
      {
        "duration": 11,
        "start_time": "2023-05-15T05:47:22.495Z"
      },
      {
        "duration": 55,
        "start_time": "2023-05-15T05:47:22.507Z"
      },
      {
        "duration": 19,
        "start_time": "2023-05-15T05:47:22.564Z"
      },
      {
        "duration": 50,
        "start_time": "2023-05-15T06:26:21.762Z"
      },
      {
        "duration": 1332,
        "start_time": "2023-05-15T06:26:29.797Z"
      },
      {
        "duration": 78,
        "start_time": "2023-05-15T06:26:31.130Z"
      },
      {
        "duration": 11,
        "start_time": "2023-05-15T06:26:31.210Z"
      },
      {
        "duration": 41,
        "start_time": "2023-05-15T06:26:31.222Z"
      },
      {
        "duration": 47,
        "start_time": "2023-05-15T06:26:31.265Z"
      },
      {
        "duration": 35,
        "start_time": "2023-05-15T06:26:31.313Z"
      },
      {
        "duration": 192,
        "start_time": "2023-05-15T06:26:31.349Z"
      },
      {
        "duration": 7,
        "start_time": "2023-05-15T06:26:31.543Z"
      },
      {
        "duration": 35,
        "start_time": "2023-05-15T06:26:31.551Z"
      },
      {
        "duration": 32,
        "start_time": "2023-05-15T06:26:31.587Z"
      },
      {
        "duration": 34,
        "start_time": "2023-05-15T06:26:31.621Z"
      },
      {
        "duration": 61,
        "start_time": "2023-05-15T06:26:31.656Z"
      },
      {
        "duration": 16,
        "start_time": "2023-05-15T06:26:31.718Z"
      },
      {
        "duration": 16,
        "start_time": "2023-05-15T06:26:31.738Z"
      },
      {
        "duration": 15,
        "start_time": "2023-05-15T06:26:31.755Z"
      },
      {
        "duration": 7,
        "start_time": "2023-05-15T06:26:31.772Z"
      },
      {
        "duration": 13,
        "start_time": "2023-05-15T06:26:31.781Z"
      },
      {
        "duration": 14,
        "start_time": "2023-05-15T06:26:31.796Z"
      },
      {
        "duration": 11,
        "start_time": "2023-05-15T06:26:31.811Z"
      },
      {
        "duration": 9,
        "start_time": "2023-05-15T06:26:31.823Z"
      },
      {
        "duration": 15,
        "start_time": "2023-05-15T06:26:31.833Z"
      },
      {
        "duration": 507,
        "start_time": "2023-05-15T06:26:31.850Z"
      },
      {
        "duration": 1500,
        "start_time": "2023-05-15T06:26:32.359Z"
      },
      {
        "duration": 0,
        "start_time": "2023-05-15T06:26:33.861Z"
      },
      {
        "duration": 0,
        "start_time": "2023-05-15T06:26:33.862Z"
      },
      {
        "duration": 0,
        "start_time": "2023-05-15T06:26:33.863Z"
      },
      {
        "duration": 0,
        "start_time": "2023-05-15T06:26:33.864Z"
      },
      {
        "duration": 0,
        "start_time": "2023-05-15T06:26:33.865Z"
      },
      {
        "duration": 0,
        "start_time": "2023-05-15T06:26:33.866Z"
      },
      {
        "duration": 0,
        "start_time": "2023-05-15T06:26:33.867Z"
      },
      {
        "duration": 0,
        "start_time": "2023-05-15T06:26:33.868Z"
      },
      {
        "duration": 0,
        "start_time": "2023-05-15T06:26:33.870Z"
      },
      {
        "duration": 0,
        "start_time": "2023-05-15T06:26:33.871Z"
      },
      {
        "duration": 0,
        "start_time": "2023-05-15T06:26:33.872Z"
      },
      {
        "duration": 0,
        "start_time": "2023-05-15T06:26:33.872Z"
      },
      {
        "duration": 345,
        "start_time": "2023-05-15T06:27:52.751Z"
      },
      {
        "duration": 175,
        "start_time": "2023-05-15T06:27:55.813Z"
      },
      {
        "duration": 314,
        "start_time": "2023-05-15T06:29:51.559Z"
      },
      {
        "duration": 306,
        "start_time": "2023-05-15T06:30:05.154Z"
      },
      {
        "duration": 307,
        "start_time": "2023-05-15T06:30:35.817Z"
      },
      {
        "duration": 307,
        "start_time": "2023-05-15T06:32:00.572Z"
      },
      {
        "duration": 339,
        "start_time": "2023-05-15T06:32:43.763Z"
      },
      {
        "duration": 293,
        "start_time": "2023-05-15T06:33:01.778Z"
      },
      {
        "duration": 125,
        "start_time": "2023-05-15T06:33:17.023Z"
      },
      {
        "duration": 5,
        "start_time": "2023-05-15T06:33:25.510Z"
      },
      {
        "duration": 169,
        "start_time": "2023-05-15T06:33:34.454Z"
      },
      {
        "duration": 1562,
        "start_time": "2023-05-15T20:14:29.201Z"
      },
      {
        "duration": 74,
        "start_time": "2023-05-15T20:14:30.766Z"
      },
      {
        "duration": 16,
        "start_time": "2023-05-15T20:14:30.842Z"
      },
      {
        "duration": 56,
        "start_time": "2023-05-15T20:14:30.859Z"
      },
      {
        "duration": 47,
        "start_time": "2023-05-15T20:14:30.917Z"
      },
      {
        "duration": 37,
        "start_time": "2023-05-15T20:14:30.967Z"
      },
      {
        "duration": 183,
        "start_time": "2023-05-15T20:14:31.007Z"
      },
      {
        "duration": 9,
        "start_time": "2023-05-15T20:14:31.191Z"
      },
      {
        "duration": 35,
        "start_time": "2023-05-15T20:14:31.202Z"
      },
      {
        "duration": 34,
        "start_time": "2023-05-15T20:14:31.239Z"
      },
      {
        "duration": 27,
        "start_time": "2023-05-15T20:14:31.275Z"
      },
      {
        "duration": 51,
        "start_time": "2023-05-15T20:14:31.304Z"
      },
      {
        "duration": 16,
        "start_time": "2023-05-15T20:14:31.357Z"
      },
      {
        "duration": 29,
        "start_time": "2023-05-15T20:14:31.376Z"
      },
      {
        "duration": 24,
        "start_time": "2023-05-15T20:14:31.408Z"
      },
      {
        "duration": 21,
        "start_time": "2023-05-15T20:14:31.435Z"
      },
      {
        "duration": 28,
        "start_time": "2023-05-15T20:14:31.458Z"
      },
      {
        "duration": 30,
        "start_time": "2023-05-15T20:14:31.488Z"
      },
      {
        "duration": 46,
        "start_time": "2023-05-15T20:14:31.520Z"
      },
      {
        "duration": 18,
        "start_time": "2023-05-15T20:14:31.568Z"
      },
      {
        "duration": 43,
        "start_time": "2023-05-15T20:14:31.588Z"
      },
      {
        "duration": 655,
        "start_time": "2023-05-15T20:14:31.634Z"
      },
      {
        "duration": 591,
        "start_time": "2023-05-15T20:14:32.291Z"
      },
      {
        "duration": 0,
        "start_time": "2023-05-15T20:14:32.883Z"
      },
      {
        "duration": 0,
        "start_time": "2023-05-15T20:14:32.885Z"
      },
      {
        "duration": 0,
        "start_time": "2023-05-15T20:14:32.886Z"
      },
      {
        "duration": 0,
        "start_time": "2023-05-15T20:14:32.889Z"
      },
      {
        "duration": 0,
        "start_time": "2023-05-15T20:14:32.892Z"
      },
      {
        "duration": 0,
        "start_time": "2023-05-15T20:14:32.893Z"
      },
      {
        "duration": 0,
        "start_time": "2023-05-15T20:14:32.894Z"
      },
      {
        "duration": 0,
        "start_time": "2023-05-15T20:14:32.895Z"
      },
      {
        "duration": 0,
        "start_time": "2023-05-15T20:14:32.897Z"
      },
      {
        "duration": 0,
        "start_time": "2023-05-15T20:14:32.897Z"
      },
      {
        "duration": 0,
        "start_time": "2023-05-15T20:14:32.898Z"
      },
      {
        "duration": 0,
        "start_time": "2023-05-15T20:14:32.900Z"
      },
      {
        "duration": 208,
        "start_time": "2023-05-15T20:14:53.226Z"
      },
      {
        "duration": 212,
        "start_time": "2023-05-15T20:14:56.037Z"
      },
      {
        "duration": 406,
        "start_time": "2023-05-15T20:14:56.251Z"
      },
      {
        "duration": 239,
        "start_time": "2023-05-15T20:14:56.660Z"
      },
      {
        "duration": 324,
        "start_time": "2023-05-15T20:14:56.901Z"
      },
      {
        "duration": 162,
        "start_time": "2023-05-15T20:14:57.228Z"
      },
      {
        "duration": 5,
        "start_time": "2023-05-15T20:14:57.392Z"
      },
      {
        "duration": 290,
        "start_time": "2023-05-15T20:14:57.399Z"
      },
      {
        "duration": 6,
        "start_time": "2023-05-15T20:14:57.692Z"
      },
      {
        "duration": 536,
        "start_time": "2023-05-15T20:14:57.700Z"
      },
      {
        "duration": 12,
        "start_time": "2023-05-15T20:14:58.238Z"
      },
      {
        "duration": 50,
        "start_time": "2023-05-15T20:14:58.253Z"
      },
      {
        "duration": 17,
        "start_time": "2023-05-15T20:14:58.305Z"
      },
      {
        "duration": 56,
        "start_time": "2023-07-12T08:56:57.878Z"
      },
      {
        "duration": 1111,
        "start_time": "2023-07-12T08:57:04.728Z"
      },
      {
        "duration": 83,
        "start_time": "2023-07-12T08:57:05.841Z"
      },
      {
        "duration": 11,
        "start_time": "2023-07-12T08:57:05.926Z"
      },
      {
        "duration": 38,
        "start_time": "2023-07-12T08:57:05.939Z"
      },
      {
        "duration": 22,
        "start_time": "2023-07-12T08:57:05.979Z"
      },
      {
        "duration": 43,
        "start_time": "2023-07-12T08:57:06.003Z"
      },
      {
        "duration": 151,
        "start_time": "2023-07-12T08:57:06.047Z"
      },
      {
        "duration": 9,
        "start_time": "2023-07-12T08:57:06.199Z"
      },
      {
        "duration": 29,
        "start_time": "2023-07-12T08:57:06.209Z"
      },
      {
        "duration": 33,
        "start_time": "2023-07-12T08:57:06.240Z"
      },
      {
        "duration": 30,
        "start_time": "2023-07-12T08:57:06.275Z"
      },
      {
        "duration": 22,
        "start_time": "2023-07-12T08:57:06.306Z"
      },
      {
        "duration": 15,
        "start_time": "2023-07-12T08:57:06.330Z"
      },
      {
        "duration": 24,
        "start_time": "2023-07-12T08:57:06.348Z"
      },
      {
        "duration": 16,
        "start_time": "2023-07-12T08:57:06.374Z"
      },
      {
        "duration": 16,
        "start_time": "2023-07-12T08:57:06.392Z"
      },
      {
        "duration": 22,
        "start_time": "2023-07-12T08:57:06.410Z"
      },
      {
        "duration": 18,
        "start_time": "2023-07-12T08:57:06.434Z"
      },
      {
        "duration": 24,
        "start_time": "2023-07-12T08:57:06.453Z"
      },
      {
        "duration": 51,
        "start_time": "2023-07-12T08:57:06.479Z"
      },
      {
        "duration": 19,
        "start_time": "2023-07-12T08:57:06.532Z"
      },
      {
        "duration": 595,
        "start_time": "2023-07-12T08:57:06.553Z"
      },
      {
        "duration": 370,
        "start_time": "2023-07-12T08:57:07.150Z"
      },
      {
        "duration": 0,
        "start_time": "2023-07-12T08:57:07.522Z"
      },
      {
        "duration": 0,
        "start_time": "2023-07-12T08:57:07.523Z"
      },
      {
        "duration": 0,
        "start_time": "2023-07-12T08:57:07.524Z"
      },
      {
        "duration": 0,
        "start_time": "2023-07-12T08:57:07.534Z"
      },
      {
        "duration": 0,
        "start_time": "2023-07-12T08:57:07.536Z"
      },
      {
        "duration": 0,
        "start_time": "2023-07-12T08:57:07.538Z"
      },
      {
        "duration": 0,
        "start_time": "2023-07-12T08:57:07.539Z"
      },
      {
        "duration": 0,
        "start_time": "2023-07-12T08:57:07.540Z"
      },
      {
        "duration": 0,
        "start_time": "2023-07-12T08:57:07.542Z"
      },
      {
        "duration": 0,
        "start_time": "2023-07-12T08:57:07.544Z"
      },
      {
        "duration": 0,
        "start_time": "2023-07-12T08:57:07.545Z"
      },
      {
        "duration": 0,
        "start_time": "2023-07-12T08:57:07.547Z"
      },
      {
        "duration": 1306,
        "start_time": "2023-07-12T11:57:00.215Z"
      },
      {
        "duration": 43,
        "start_time": "2023-07-12T11:57:01.524Z"
      },
      {
        "duration": 19,
        "start_time": "2023-07-12T11:57:01.569Z"
      },
      {
        "duration": 76,
        "start_time": "2023-07-12T11:57:01.591Z"
      },
      {
        "duration": 73,
        "start_time": "2023-07-12T11:57:01.671Z"
      },
      {
        "duration": 41,
        "start_time": "2023-07-12T11:57:01.747Z"
      },
      {
        "duration": 95,
        "start_time": "2023-07-12T11:57:01.791Z"
      },
      {
        "duration": 9,
        "start_time": "2023-07-12T11:57:01.888Z"
      },
      {
        "duration": 36,
        "start_time": "2023-07-12T11:57:01.900Z"
      },
      {
        "duration": 44,
        "start_time": "2023-07-12T11:57:01.939Z"
      },
      {
        "duration": 40,
        "start_time": "2023-07-12T11:57:01.985Z"
      },
      {
        "duration": 8,
        "start_time": "2023-07-12T11:57:02.034Z"
      },
      {
        "duration": 39,
        "start_time": "2023-07-12T11:57:02.044Z"
      },
      {
        "duration": 38,
        "start_time": "2023-07-12T11:57:02.086Z"
      },
      {
        "duration": 16,
        "start_time": "2023-07-12T11:57:02.126Z"
      },
      {
        "duration": 19,
        "start_time": "2023-07-12T11:57:02.144Z"
      },
      {
        "duration": 58,
        "start_time": "2023-07-12T11:57:02.165Z"
      },
      {
        "duration": 43,
        "start_time": "2023-07-12T11:57:02.226Z"
      },
      {
        "duration": 46,
        "start_time": "2023-07-12T11:57:02.271Z"
      },
      {
        "duration": 51,
        "start_time": "2023-07-12T11:57:02.319Z"
      },
      {
        "duration": 50,
        "start_time": "2023-07-12T11:57:02.372Z"
      },
      {
        "duration": 702,
        "start_time": "2023-07-12T11:57:02.426Z"
      },
      {
        "duration": 398,
        "start_time": "2023-07-12T11:57:03.130Z"
      },
      {
        "duration": 0,
        "start_time": "2023-07-12T11:57:03.537Z"
      },
      {
        "duration": 0,
        "start_time": "2023-07-12T11:57:03.539Z"
      },
      {
        "duration": 0,
        "start_time": "2023-07-12T11:57:03.540Z"
      },
      {
        "duration": 0,
        "start_time": "2023-07-12T11:57:03.542Z"
      },
      {
        "duration": 0,
        "start_time": "2023-07-12T11:57:03.544Z"
      },
      {
        "duration": 0,
        "start_time": "2023-07-12T11:57:03.546Z"
      },
      {
        "duration": 0,
        "start_time": "2023-07-12T11:57:03.547Z"
      },
      {
        "duration": 0,
        "start_time": "2023-07-12T11:57:03.550Z"
      },
      {
        "duration": 0,
        "start_time": "2023-07-12T11:57:03.552Z"
      },
      {
        "duration": 0,
        "start_time": "2023-07-12T11:57:03.554Z"
      },
      {
        "duration": 0,
        "start_time": "2023-07-12T11:57:03.556Z"
      },
      {
        "duration": 1,
        "start_time": "2023-07-12T11:57:03.557Z"
      },
      {
        "duration": 272,
        "start_time": "2023-07-12T11:57:44.888Z"
      },
      {
        "duration": 385,
        "start_time": "2023-07-12T11:57:48.012Z"
      },
      {
        "duration": 265,
        "start_time": "2023-07-12T11:57:51.600Z"
      },
      {
        "duration": 289,
        "start_time": "2023-07-12T11:57:54.551Z"
      },
      {
        "duration": 157,
        "start_time": "2023-07-12T11:57:58.385Z"
      },
      {
        "duration": 6,
        "start_time": "2023-07-12T11:58:01.163Z"
      },
      {
        "duration": 540,
        "start_time": "2023-07-12T11:58:14.028Z"
      }
    ],
    "kernelspec": {
      "display_name": "Python 3 (ipykernel)",
      "language": "python",
      "name": "python3"
    },
    "language_info": {
      "codemirror_mode": {
        "name": "ipython",
        "version": 3
      },
      "file_extension": ".py",
      "mimetype": "text/x-python",
      "name": "python",
      "nbconvert_exporter": "python",
      "pygments_lexer": "ipython3",
      "version": "3.9.5"
    },
    "toc": {
      "base_numbering": 1,
      "nav_menu": {},
      "number_sections": true,
      "sideBar": true,
      "skip_h1_title": true,
      "title_cell": "Table of Contents",
      "title_sidebar": "Contents",
      "toc_cell": false,
      "toc_position": {},
      "toc_section_display": true,
      "toc_window_display": false
    },
    "colab": {
      "provenance": []
    }
  },
  "nbformat": 4,
  "nbformat_minor": 0
}