{
  "cells": [
    {
      "cell_type": "markdown",
      "metadata": {
        "deletable": false,
        "editable": false,
        "id": "E0vqbgi9ay0H"
      },
      "source": [
        "# Исследование поведения пользователей сервиса \"Яндекс Музыка\" в Москве и Санкт-Петербурге"
      ]
    },
    {
      "cell_type": "markdown",
      "metadata": {
        "deletable": false,
        "editable": false,
        "id": "VUC88oWjTJw2"
      },
      "source": [
        "**Цель исследования** — проверьте три гипотезы:\n",
        "1. Активность пользователей зависит от дня недели. При этом, в Москве и Петербурге это проявляется по-разному.\n",
        "2. В понедельник утром в Москве преобладают одни жанры, а в Петербурге — другие. Так же и вечером пятницы преобладают разные жанры — в зависимости от города.\n",
        "3. Москва и Петербург предпочитают разные жанры музыки. В Москве чаще слушают поп-музыку, в Петербурге — русский рэп.\n",
        "\n",
        "**Ход исследования**\n",
        "1. Обзор данных.\n",
        "2. Предобработка данных.\n",
        "3. Проверка гипотез.\n",
        "\n"
      ]
    },
    {
      "cell_type": "markdown",
      "metadata": {
        "deletable": false,
        "editable": false,
        "id": "57eAOGIz_Zcs",
        "tags": [
          "start_task"
        ]
      },
      "source": [
        "## Ознакомление с данными\n",
        "\n",
        "---\n",
        "\n"
      ]
    },
    {
      "cell_type": "code",
      "execution_count": 1,
      "metadata": {
        "deletable": false,
        "id": "AXN7PHPN_Zcs"
      },
      "outputs": [],
      "source": [
        "import pandas as pd"
      ]
    },
    {
      "cell_type": "code",
      "execution_count": 2,
      "metadata": {
        "deletable": false,
        "id": "fFVu7vqh_Zct"
      },
      "outputs": [],
      "source": [
        "df = pd.read_csv('/datasets/yandex_music_data.csv')"
      ]
    },
    {
      "cell_type": "code",
      "execution_count": 3,
      "metadata": {
        "deletable": false,
        "id": "oWTVX3gW_Zct",
        "colab": {
          "base_uri": "https://localhost:8080/"
        },
        "outputId": "a85949dc-c1d7-4609-b118-8f7b4b459b2a"
      },
      "outputs": [
        {
          "output_type": "stream",
          "name": "stdout",
          "text": [
            "     userID                        Track            artist   genre  \\\n",
            "0  FFB692EC            Kamigata To Boots  The Mass Missile    rock   \n",
            "1  55204538  Delayed Because of Accident  Andreas Rönnberg    rock   \n",
            "2    20EC38            Funiculì funiculà       Mario Lanza     pop   \n",
            "3  A3DD03C9        Dragons in the Sunset        Fire + Ice    folk   \n",
            "4  E2DC1FAE                  Soul People        Space Echo   dance   \n",
            "5  842029A1                    Преданная         IMPERVTOR  rusrap   \n",
            "6  4CB90AA5                         True      Roman Messer   dance   \n",
            "7  F03E1C1F             Feeling This Way   Polina Griffith   dance   \n",
            "8  8FA1D3BE     И вновь продолжается бой               NaN  ruspop   \n",
            "9  E772D5C0                    Pessimist               NaN   dance   \n",
            "\n",
            "             City        time        Day  \n",
            "0  Saint-Petersburg  20:28:33  Wednesday  \n",
            "1            Moscow  14:07:09     Friday  \n",
            "2  Saint-Petersburg  20:58:07  Wednesday  \n",
            "3  Saint-Petersburg  08:37:09     Monday  \n",
            "4            Moscow  08:34:34     Monday  \n",
            "5  Saint-Petersburg  13:09:41     Friday  \n",
            "6            Moscow  13:00:07  Wednesday  \n",
            "7            Moscow  20:47:49  Wednesday  \n",
            "8            Moscow  09:17:40     Friday  \n",
            "9  Saint-Petersburg  21:20:49  Wednesday  \n"
          ]
        }
      ],
      "source": [
        "print(df.head(10))"
      ]
    },
    {
      "cell_type": "code",
      "execution_count": 4,
      "metadata": {
        "deletable": false,
        "id": "DSf2kIb-_Zct",
        "colab": {
          "base_uri": "https://localhost:8080/"
        },
        "outputId": "32a3e10b-5c67-4395-de99-7e5de776853a"
      },
      "outputs": [
        {
          "output_type": "stream",
          "name": "stdout",
          "text": [
            "<class 'pandas.core.frame.DataFrame'>\n",
            "RangeIndex: 65079 entries, 0 to 65078\n",
            "Data columns (total 7 columns):\n",
            " #   Column    Non-Null Count  Dtype \n",
            "---  ------    --------------  ----- \n",
            " 0     userID  65079 non-null  object\n",
            " 1   Track     63848 non-null  object\n",
            " 2   artist    57876 non-null  object\n",
            " 3   genre     63881 non-null  object\n",
            " 4     City    65079 non-null  object\n",
            " 5   time      65079 non-null  object\n",
            " 6   Day       65079 non-null  object\n",
            "dtypes: object(7)\n",
            "memory usage: 3.5+ MB\n"
          ]
        }
      ],
      "source": [
        "df.info()"
      ]
    },
    {
      "cell_type": "markdown",
      "metadata": {
        "deletable": false,
        "editable": false,
        "id": "TaQ2Iwbr_Zct"
      },
      "source": [
        "В таблице семь столбцов. Тип данных во всех столбцах — `object`.\n",
        "\n",
        "Согласно документации к данным:\n",
        "* `userID` — идентификатор пользователя;\n",
        "* `Track` — название трека;  \n",
        "* `artist` — имя исполнителя;\n",
        "* `genre` — название жанра;\n",
        "* `City` — город пользователя;\n",
        "* `time` — время начала прослушивания;\n",
        "* `Day` — день недели.\n",
        "\n",
        "Количество значений в столбцах различается. Значит, в данных есть пропущенные значения."
      ]
    },
    {
      "cell_type": "markdown",
      "metadata": {
        "deletable": false,
        "editable": false,
        "id": "MCB6-dXG_Zct"
      },
      "source": [
        "**Выводы**\n",
        "\n",
        "В каждой строке таблицы — данные о прослушанном треке. Часть колонок описывает саму композицию: название, исполнителя и жанр. Остальные данные рассказывают о пользователе: из какого он города, когда он слушал музыку.\n",
        "\n",
        "Предварительно можно утверждать, что данных достаточно для проверки гипотез. Но встречаются пропуски в данных, а в названиях колонок — расхождения с хорошим стилем.\n",
        "\n",
        "Чтобы двигаться дальше, нужно устранить проблемы в данных."
      ]
    },
    {
      "cell_type": "markdown",
      "metadata": {
        "deletable": false,
        "editable": false,
        "id": "dIaKXr29_Zct",
        "tags": [
          "start_task"
        ]
      },
      "source": [
        "### Предобработка данных"
      ]
    },
    {
      "cell_type": "markdown",
      "source": [
        "**Приведем названия столбцов к единому стилю**"
      ],
      "metadata": {
        "id": "LkArwfBxyO-T"
      }
    },
    {
      "cell_type": "code",
      "execution_count": 5,
      "metadata": {
        "deletable": false,
        "id": "oKOTdF_Q_Zct",
        "colab": {
          "base_uri": "https://localhost:8080/"
        },
        "outputId": "411d9e80-2928-4ff2-fcc0-b241688d4b3b"
      },
      "outputs": [
        {
          "output_type": "stream",
          "name": "stdout",
          "text": [
            "Index(['  userID', 'Track', 'artist', 'genre', '  City  ', 'time', 'Day'], dtype='object')\n"
          ]
        }
      ],
      "source": [
        "print(df.columns) # перечень названий столбцов таблицы df"
      ]
    },
    {
      "cell_type": "code",
      "execution_count": 6,
      "metadata": {
        "deletable": false,
        "id": "ISlFqs5y_Zct"
      },
      "outputs": [],
      "source": [
        "df.rename(columns = {'  userID':'user_id', 'Track':'track', '  City  ':'city', 'Day':'day'}, inplace = True) # переименование столбцов"
      ]
    },
    {
      "cell_type": "code",
      "execution_count": 7,
      "metadata": {
        "deletable": false,
        "id": "d4NOAmTW_Zct",
        "colab": {
          "base_uri": "https://localhost:8080/"
        },
        "outputId": "ee9e9331-4094-4886-c0d0-35700d6802fc"
      },
      "outputs": [
        {
          "output_type": "stream",
          "name": "stdout",
          "text": [
            "Index(['user_id', 'track', 'artist', 'genre', 'city', 'time', 'day'], dtype='object')\n"
          ]
        }
      ],
      "source": [
        "print(df.columns) # проверка результатов - перечень названий столбцов"
      ]
    },
    {
      "cell_type": "markdown",
      "metadata": {
        "deletable": false,
        "editable": false,
        "id": "5ISfbcfY_Zct",
        "tags": [
          "start_task"
        ]
      },
      "source": [
        "**Обработаем пропущенные значения**"
      ]
    },
    {
      "cell_type": "code",
      "execution_count": 8,
      "metadata": {
        "deletable": false,
        "id": "RskX29qr_Zct",
        "colab": {
          "base_uri": "https://localhost:8080/"
        },
        "outputId": "86cba3d7-4ced-4acf-b4ee-b0edf220d7d9"
      },
      "outputs": [
        {
          "output_type": "execute_result",
          "data": {
            "text/plain": [
              "user_id       0\n",
              "track      1231\n",
              "artist     7203\n",
              "genre      1198\n",
              "city          0\n",
              "time          0\n",
              "day           0\n",
              "dtype: int64"
            ]
          },
          "metadata": {},
          "execution_count": 8
        }
      ],
      "source": [
        "df.isna().sum() # подсчёт пропусков"
      ]
    },
    {
      "cell_type": "markdown",
      "metadata": {
        "deletable": false,
        "editable": false,
        "id": "qubhgnlO_Zct"
      },
      "source": [
        "Не все пропущенные значения влияют на исследование. Так в `track` и `artist` пропуски не важны для анализа. Достаточно заменить их явными обозначениями.\n",
        "\n",
        "Но пропуски в `genre` могут помешать сравнению музыкальных вкусов в Москве и Санкт-Петербурге. Так как нет возможности установить причину пропусков и восстановить данные, придётся:\n",
        "* заполнить пропуски явными обозначениями;\n",
        "* оценить, насколько они повредят расчётам."
      ]
    },
    {
      "cell_type": "markdown",
      "metadata": {
        "deletable": false,
        "editable": false,
        "id": "fSv2laPA_Zct",
        "tags": [
          "start_task"
        ]
      },
      "source": [
        "Заменим пропущенные значения в столбцах `track`, `artist` и `genre` на строку `'unknown'`. Для этого создадим список `columns_to_replace`, переберем его элементы циклом `for` и для каждого столбца выполним замену пропущенных значений:"
      ]
    },
    {
      "cell_type": "code",
      "execution_count": 9,
      "metadata": {
        "deletable": false,
        "id": "KplB5qWs_Zct"
      },
      "outputs": [],
      "source": [
        "columns_to_replace = df.loc[:, ['track', 'artist', 'genre']]\n",
        "\n",
        "for column in columns_to_replace:\n",
        "    df[column] = df[column].fillna('unknown')\n",
        "# перебор названий столбцов в цикле и замена пропущенных значений на 'unknown'"
      ]
    },
    {
      "cell_type": "code",
      "execution_count": 10,
      "metadata": {
        "deletable": false,
        "id": "Tq4nYRX4_Zct",
        "colab": {
          "base_uri": "https://localhost:8080/"
        },
        "outputId": "356704d1-73ee-4157-cade-89a65f3cc080"
      },
      "outputs": [
        {
          "output_type": "execute_result",
          "data": {
            "text/plain": [
              "user_id    0\n",
              "track      0\n",
              "artist     0\n",
              "genre      0\n",
              "city       0\n",
              "time       0\n",
              "day        0\n",
              "dtype: int64"
            ]
          },
          "metadata": {},
          "execution_count": 10
        }
      ],
      "source": [
        "df.isna().sum() # подсчёт пропусков"
      ]
    },
    {
      "cell_type": "markdown",
      "metadata": {
        "deletable": false,
        "editable": false,
        "id": "BWKRtBJ3_Zct",
        "tags": [
          "start_task"
        ]
      },
      "source": [
        "**Обработаем дубликаты**"
      ]
    },
    {
      "cell_type": "code",
      "execution_count": 11,
      "metadata": {
        "deletable": false,
        "id": "36eES_S0_Zct",
        "colab": {
          "base_uri": "https://localhost:8080/"
        },
        "outputId": "738a9439-7022-46a8-b32a-a1ae7bccbebb"
      },
      "outputs": [
        {
          "output_type": "execute_result",
          "data": {
            "text/plain": [
              "3826"
            ]
          },
          "metadata": {},
          "execution_count": 11
        }
      ],
      "source": [
        "df.duplicated().sum() # подсчёт явных дубликатов"
      ]
    },
    {
      "cell_type": "code",
      "execution_count": 12,
      "metadata": {
        "deletable": false,
        "id": "exFHq6tt_Zct"
      },
      "outputs": [],
      "source": [
        "df = df.drop_duplicates() # удаление явных дубликатов"
      ]
    },
    {
      "cell_type": "code",
      "execution_count": 13,
      "metadata": {
        "deletable": false,
        "id": "-8PuNWQ0_Zct",
        "colab": {
          "base_uri": "https://localhost:8080/"
        },
        "outputId": "45633ef8-d05f-4d1e-ea82-d46235933309"
      },
      "outputs": [
        {
          "output_type": "execute_result",
          "data": {
            "text/plain": [
              "0"
            ]
          },
          "metadata": {},
          "execution_count": 13
        }
      ],
      "source": [
        "df.duplicated().sum()"
      ]
    },
    {
      "cell_type": "markdown",
      "metadata": {
        "deletable": false,
        "editable": false,
        "id": "QlFBsxAr_Zct"
      },
      "source": [
        "Изучим неявные дубликаты в колонке `genre`."
      ]
    },
    {
      "cell_type": "code",
      "execution_count": 14,
      "metadata": {
        "deletable": false,
        "id": "JIUcqzZN_Zct",
        "colab": {
          "base_uri": "https://localhost:8080/"
        },
        "outputId": "d0bda890-1716-45f0-dbe2-d9a1e66eee02"
      },
      "outputs": [
        {
          "output_type": "execute_result",
          "data": {
            "text/plain": [
              "array(['acid', 'acoustic', 'action', 'adult', 'africa', 'afrikaans',\n",
              "       'alternative', 'alternativepunk', 'ambient', 'americana',\n",
              "       'animated', 'anime', 'arabesk', 'arabic', 'arena',\n",
              "       'argentinetango', 'art', 'audiobook', 'author', 'avantgarde',\n",
              "       'axé', 'baile', 'balkan', 'beats', 'bigroom', 'black', 'bluegrass',\n",
              "       'blues', 'bollywood', 'bossa', 'brazilian', 'breakbeat', 'breaks',\n",
              "       'broadway', 'cantautori', 'cantopop', 'canzone', 'caribbean',\n",
              "       'caucasian', 'celtic', 'chamber', 'chanson', 'children', 'chill',\n",
              "       'chinese', 'choral', 'christian', 'christmas', 'classical',\n",
              "       'classicmetal', 'club', 'colombian', 'comedy', 'conjazz',\n",
              "       'contemporary', 'country', 'cuban', 'dance', 'dancehall',\n",
              "       'dancepop', 'dark', 'death', 'deep', 'deutschrock', 'deutschspr',\n",
              "       'dirty', 'disco', 'dnb', 'documentary', 'downbeat', 'downtempo',\n",
              "       'drum', 'dub', 'dubstep', 'eastern', 'easy', 'electronic',\n",
              "       'electropop', 'emo', 'entehno', 'epicmetal', 'estrada', 'ethnic',\n",
              "       'eurofolk', 'european', 'experimental', 'extrememetal', 'fado',\n",
              "       'fairytail', 'film', 'fitness', 'flamenco', 'folk', 'folklore',\n",
              "       'folkmetal', 'folkrock', 'folktronica', 'forró', 'frankreich',\n",
              "       'französisch', 'french', 'funk', 'future', 'gangsta', 'garage',\n",
              "       'german', 'ghazal', 'gitarre', 'glitch', 'gospel', 'gothic',\n",
              "       'grime', 'grunge', 'gypsy', 'handsup', \"hard'n'heavy\", 'hardcore',\n",
              "       'hardstyle', 'hardtechno', 'hip', 'hip-hop', 'hiphop',\n",
              "       'historisch', 'holiday', 'hop', 'horror', 'house', 'hymn', 'idm',\n",
              "       'independent', 'indian', 'indie', 'indipop', 'industrial',\n",
              "       'inspirational', 'instrumental', 'international', 'irish', 'jam',\n",
              "       'japanese', 'jazz', 'jewish', 'jpop', 'jungle', 'k-pop',\n",
              "       'karadeniz', 'karaoke', 'kayokyoku', 'korean', 'laiko', 'latin',\n",
              "       'latino', 'leftfield', 'local', 'lounge', 'loungeelectronic',\n",
              "       'lovers', 'malaysian', 'mandopop', 'marschmusik', 'meditative',\n",
              "       'mediterranean', 'melodic', 'metal', 'metalcore', 'mexican',\n",
              "       'middle', 'minimal', 'miscellaneous', 'modern', 'mood', 'mpb',\n",
              "       'muslim', 'native', 'neoklassik', 'neue', 'new', 'newage',\n",
              "       'newwave', 'nu', 'nujazz', 'numetal', 'oceania', 'old', 'opera',\n",
              "       'orchestral', 'other', 'piano', 'podcasts', 'pop', 'popdance',\n",
              "       'popelectronic', 'popeurodance', 'poprussian', 'post',\n",
              "       'posthardcore', 'postrock', 'power', 'progmetal', 'progressive',\n",
              "       'psychedelic', 'punjabi', 'punk', 'quebecois', 'ragga', 'ram',\n",
              "       'rancheras', 'rap', 'rave', 'reggae', 'reggaeton', 'regional',\n",
              "       'relax', 'religious', 'retro', 'rhythm', 'rnb', 'rnr', 'rock',\n",
              "       'rockabilly', 'rockalternative', 'rockindie', 'rockother',\n",
              "       'romance', 'roots', 'ruspop', 'rusrap', 'rusrock', 'russian',\n",
              "       'salsa', 'samba', 'scenic', 'schlager', 'self', 'sertanejo',\n",
              "       'shanson', 'shoegazing', 'showtunes', 'singer', 'ska', 'skarock',\n",
              "       'slow', 'smooth', 'soft', 'soul', 'soulful', 'sound', 'soundtrack',\n",
              "       'southern', 'specialty', 'speech', 'spiritual', 'sport',\n",
              "       'stonerrock', 'surf', 'swing', 'synthpop', 'synthrock',\n",
              "       'sängerportrait', 'tango', 'tanzorchester', 'taraftar', 'tatar',\n",
              "       'tech', 'techno', 'teen', 'thrash', 'top', 'traditional',\n",
              "       'tradjazz', 'trance', 'tribal', 'trip', 'triphop', 'tropical',\n",
              "       'türk', 'türkçe', 'ukrrock', 'unknown', 'urban', 'uzbek',\n",
              "       'variété', 'vi', 'videogame', 'vocal', 'western', 'world',\n",
              "       'worldbeat', 'ïîï', 'электроника'], dtype=object)"
            ]
          },
          "metadata": {},
          "execution_count": 14
        }
      ],
      "source": [
        "genre = df.loc[:, 'genre']\n",
        "genre.sort_values().unique()\n",
        "# Просмотр уникальных названий жанров"
      ]
    },
    {
      "cell_type": "markdown",
      "metadata": {
        "deletable": false,
        "editable": false,
        "id": "qej-Qmuo_Zct",
        "tags": [
          "start_task"
        ]
      },
      "source": [
        "Имеются неявные дубликаты названия `hiphop`. Заменим каждое значение из списка дубликатов на верное."
      ]
    },
    {
      "cell_type": "code",
      "execution_count": 38,
      "metadata": {
        "deletable": false,
        "id": "ErNDkmns_Zct"
      },
      "outputs": [],
      "source": [
        "duplicates = ['hip', 'hop', 'hip-hop']\n",
        "df['genre'] = df['genre'].replace(duplicates, 'hiphop')\n",
        "# Устранение неявных дубликатов"
      ]
    },
    {
      "cell_type": "code",
      "execution_count": 16,
      "metadata": {
        "deletable": false,
        "id": "wvixALnFG15m",
        "colab": {
          "base_uri": "https://localhost:8080/"
        },
        "outputId": "2a1b8e56-b0a1-4504-efd1-2ffb1485d3dc"
      },
      "outputs": [
        {
          "output_type": "execute_result",
          "data": {
            "text/plain": [
              "array(['acid', 'acoustic', 'action', 'adult', 'africa', 'afrikaans',\n",
              "       'alternative', 'alternativepunk', 'ambient', 'americana',\n",
              "       'animated', 'anime', 'arabesk', 'arabic', 'arena',\n",
              "       'argentinetango', 'art', 'audiobook', 'author', 'avantgarde',\n",
              "       'axé', 'baile', 'balkan', 'beats', 'bigroom', 'black', 'bluegrass',\n",
              "       'blues', 'bollywood', 'bossa', 'brazilian', 'breakbeat', 'breaks',\n",
              "       'broadway', 'cantautori', 'cantopop', 'canzone', 'caribbean',\n",
              "       'caucasian', 'celtic', 'chamber', 'chanson', 'children', 'chill',\n",
              "       'chinese', 'choral', 'christian', 'christmas', 'classical',\n",
              "       'classicmetal', 'club', 'colombian', 'comedy', 'conjazz',\n",
              "       'contemporary', 'country', 'cuban', 'dance', 'dancehall',\n",
              "       'dancepop', 'dark', 'death', 'deep', 'deutschrock', 'deutschspr',\n",
              "       'dirty', 'disco', 'dnb', 'documentary', 'downbeat', 'downtempo',\n",
              "       'drum', 'dub', 'dubstep', 'eastern', 'easy', 'electronic',\n",
              "       'electropop', 'emo', 'entehno', 'epicmetal', 'estrada', 'ethnic',\n",
              "       'eurofolk', 'european', 'experimental', 'extrememetal', 'fado',\n",
              "       'fairytail', 'film', 'fitness', 'flamenco', 'folk', 'folklore',\n",
              "       'folkmetal', 'folkrock', 'folktronica', 'forró', 'frankreich',\n",
              "       'französisch', 'french', 'funk', 'future', 'gangsta', 'garage',\n",
              "       'german', 'ghazal', 'gitarre', 'glitch', 'gospel', 'gothic',\n",
              "       'grime', 'grunge', 'gypsy', 'handsup', \"hard'n'heavy\", 'hardcore',\n",
              "       'hardstyle', 'hardtechno', 'hiphop', 'historisch', 'holiday',\n",
              "       'horror', 'house', 'hymn', 'idm', 'independent', 'indian', 'indie',\n",
              "       'indipop', 'industrial', 'inspirational', 'instrumental',\n",
              "       'international', 'irish', 'jam', 'japanese', 'jazz', 'jewish',\n",
              "       'jpop', 'jungle', 'k-pop', 'karadeniz', 'karaoke', 'kayokyoku',\n",
              "       'korean', 'laiko', 'latin', 'latino', 'leftfield', 'local',\n",
              "       'lounge', 'loungeelectronic', 'lovers', 'malaysian', 'mandopop',\n",
              "       'marschmusik', 'meditative', 'mediterranean', 'melodic', 'metal',\n",
              "       'metalcore', 'mexican', 'middle', 'minimal', 'miscellaneous',\n",
              "       'modern', 'mood', 'mpb', 'muslim', 'native', 'neoklassik', 'neue',\n",
              "       'new', 'newage', 'newwave', 'nu', 'nujazz', 'numetal', 'oceania',\n",
              "       'old', 'opera', 'orchestral', 'other', 'piano', 'podcasts', 'pop',\n",
              "       'popdance', 'popelectronic', 'popeurodance', 'poprussian', 'post',\n",
              "       'posthardcore', 'postrock', 'power', 'progmetal', 'progressive',\n",
              "       'psychedelic', 'punjabi', 'punk', 'quebecois', 'ragga', 'ram',\n",
              "       'rancheras', 'rap', 'rave', 'reggae', 'reggaeton', 'regional',\n",
              "       'relax', 'religious', 'retro', 'rhythm', 'rnb', 'rnr', 'rock',\n",
              "       'rockabilly', 'rockalternative', 'rockindie', 'rockother',\n",
              "       'romance', 'roots', 'ruspop', 'rusrap', 'rusrock', 'russian',\n",
              "       'salsa', 'samba', 'scenic', 'schlager', 'self', 'sertanejo',\n",
              "       'shanson', 'shoegazing', 'showtunes', 'singer', 'ska', 'skarock',\n",
              "       'slow', 'smooth', 'soft', 'soul', 'soulful', 'sound', 'soundtrack',\n",
              "       'southern', 'specialty', 'speech', 'spiritual', 'sport',\n",
              "       'stonerrock', 'surf', 'swing', 'synthpop', 'synthrock',\n",
              "       'sängerportrait', 'tango', 'tanzorchester', 'taraftar', 'tatar',\n",
              "       'tech', 'techno', 'teen', 'thrash', 'top', 'traditional',\n",
              "       'tradjazz', 'trance', 'tribal', 'trip', 'triphop', 'tropical',\n",
              "       'türk', 'türkçe', 'ukrrock', 'unknown', 'urban', 'uzbek',\n",
              "       'variété', 'vi', 'videogame', 'vocal', 'western', 'world',\n",
              "       'worldbeat', 'ïîï', 'электроника'], dtype=object)"
            ]
          },
          "metadata": {},
          "execution_count": 16
        }
      ],
      "source": [
        "df.loc[:, 'genre'].sort_values().unique() # Проверка на неявные дубликаты"
      ]
    },
    {
      "cell_type": "markdown",
      "metadata": {
        "deletable": false,
        "editable": false,
        "id": "jz6a9-7HQUDd"
      },
      "source": [
        "**Выводы**\n",
        "\n",
        "Предобработка обнаружила три проблемы в данных:\n",
        "\n",
        "- нарушения в стиле заголовков,\n",
        "- пропущенные значения,\n",
        "- дубликаты — явные и неявные.\n",
        "\n",
        "Мы исправили заголовки, чтобы упростить работу с таблицей. Без дубликатов исследование станет более точным.\n",
        "\n",
        "Пропущенные значения мы заменили на `'unknown'`. Ещё предстоит увидеть, не повредят ли исследованию пропуски в колонке `genre`.\n",
        "\n",
        "Теперь можно перейти к проверке гипотез."
      ]
    },
    {
      "cell_type": "markdown",
      "metadata": {
        "deletable": false,
        "editable": false,
        "id": "WttZHXH0SqKk"
      },
      "source": [
        "## Проверка гипотез"
      ]
    },
    {
      "cell_type": "markdown",
      "metadata": {
        "deletable": false,
        "editable": false,
        "id": "Im936VVi_Zcu"
      },
      "source": [
        "### Сравнение поведения пользователей двух столиц"
      ]
    },
    {
      "cell_type": "markdown",
      "metadata": {
        "deletable": false,
        "editable": false,
        "id": "nwt_MuaL_Zcu"
      },
      "source": [
        "Первая гипотеза утверждает, что пользователи по-разному слушают музыку в Москве и Санкт-Петербурге. Проверим это предположение по данным о трёх днях недели — понедельнике, среде и пятнице. Для этого:\n",
        "\n",
        "* Разделим пользователей Москвы и Санкт-Петербурга.\n",
        "* Сравним, сколько треков послушала каждая группа пользователей в понедельник, среду и пятницу.\n"
      ]
    },
    {
      "cell_type": "code",
      "execution_count": 17,
      "metadata": {
        "deletable": false,
        "id": "0_Qs96oh_Zcu",
        "colab": {
          "base_uri": "https://localhost:8080/"
        },
        "outputId": "a7d80568-869c-456c-dc5d-ba6b9269cf67"
      },
      "outputs": [
        {
          "output_type": "execute_result",
          "data": {
            "text/plain": [
              "city\n",
              "Moscow              42741\n",
              "Saint-Petersburg    18512\n",
              "Name: user_id, dtype: int64"
            ]
          },
          "metadata": {},
          "execution_count": 17
        }
      ],
      "source": [
        "df.groupby('city')['user_id'].count() # Всего прослушиваний в каждом городе"
      ]
    },
    {
      "cell_type": "markdown",
      "metadata": {
        "deletable": false,
        "editable": false,
        "id": "dzli3w8o_Zcu",
        "tags": [
          "start_task"
        ]
      },
      "source": [
        "В Москве прослушиваний больше, чем в Петербурге. Из этого не следует, что московские пользователи чаще слушают музыку. Просто самих пользователей в Москве больше.\n",
        "\n"
      ]
    },
    {
      "cell_type": "code",
      "execution_count": 18,
      "metadata": {
        "deletable": false,
        "id": "uZMKjiJz_Zcu",
        "colab": {
          "base_uri": "https://localhost:8080/"
        },
        "outputId": "ebeacc5f-2099-4eef-c759-e854a42e4906"
      },
      "outputs": [
        {
          "output_type": "execute_result",
          "data": {
            "text/plain": [
              "day\n",
              "Friday       21840\n",
              "Monday       21354\n",
              "Wednesday    18059\n",
              "Name: user_id, dtype: int64"
            ]
          },
          "metadata": {},
          "execution_count": 18
        }
      ],
      "source": [
        "df.groupby('day')['user_id'].count() # Подсчёт прослушиваний в каждый из трёх дней"
      ]
    },
    {
      "cell_type": "markdown",
      "metadata": {
        "deletable": false,
        "editable": false,
        "id": "cC2tNrlL_Zcu"
      },
      "source": [
        "В среднем пользователи из двух городов менее активны по средам. Но картина может измениться, если рассмотреть каждый город в отдельности."
      ]
    },
    {
      "cell_type": "markdown",
      "source": [
        "Создадим функцию, которая будет подсчитывать количество слушателей в конкретный день недели и в городе.\n"
      ],
      "metadata": {
        "id": "W2b2o6RI_KEQ"
      }
    },
    {
      "cell_type": "code",
      "execution_count": 19,
      "metadata": {
        "deletable": false,
        "id": "Nz3GdQB1_Zcu"
      },
      "outputs": [],
      "source": [
        "def number_tracks(day, city):\n",
        "    track_list = df[df['day'] == day]\n",
        "    track_list =  track_list[track_list['city'] == city]\n",
        "    track_list_count = track_list['user_id'].count()\n",
        "    return track_list_count\n",
        "\n",
        "# <создание функции number_tracks()>\n",
        "# Объявляется функция с двумя параметрами: day, city.\n",
        "# В переменной track_list сохраняются те строки таблицы df, для которых\n",
        "# значение в столбце 'day' равно параметру day и одновременно значение\n",
        "# в столбце 'city' равно параметру city\n",
        "# В переменной track_list_count сохраняется число значений столбца 'user_id',\n",
        "# рассчитанное методом count() для таблицы track_list.\n",
        "# Функция возвращает число - значение track_list_count."
      ]
    },
    {
      "cell_type": "code",
      "execution_count": 20,
      "metadata": {
        "deletable": false,
        "id": "rJcRATNQ_Zcu",
        "colab": {
          "base_uri": "https://localhost:8080/"
        },
        "outputId": "8424beda-a958-4e86-b413-0deaf3b29590"
      },
      "outputs": [
        {
          "output_type": "execute_result",
          "data": {
            "text/plain": [
              "15740"
            ]
          },
          "metadata": {},
          "execution_count": 20
        }
      ],
      "source": [
        "number_tracks('Monday', 'Moscow') # количество прослушиваний в Москве по понедельникам"
      ]
    },
    {
      "cell_type": "code",
      "execution_count": 21,
      "metadata": {
        "deletable": false,
        "id": "hq_ncZ5T_Zcu",
        "colab": {
          "base_uri": "https://localhost:8080/"
        },
        "outputId": "10ca5474-2a14-4e6c-a33f-94750fd9082f"
      },
      "outputs": [
        {
          "output_type": "execute_result",
          "data": {
            "text/plain": [
              "5614"
            ]
          },
          "metadata": {},
          "execution_count": 21
        }
      ],
      "source": [
        "number_tracks('Monday', 'Saint-Petersburg') # количество прослушиваний в Санкт-Петербурге по понедельникам"
      ]
    },
    {
      "cell_type": "code",
      "execution_count": 22,
      "metadata": {
        "deletable": false,
        "id": "_NTy2VPU_Zcu",
        "colab": {
          "base_uri": "https://localhost:8080/"
        },
        "outputId": "0aa0cc74-efa9-47cb-cf66-7300b2f06dd4"
      },
      "outputs": [
        {
          "output_type": "execute_result",
          "data": {
            "text/plain": [
              "11056"
            ]
          },
          "metadata": {},
          "execution_count": 22
        }
      ],
      "source": [
        "number_tracks('Wednesday', 'Moscow') # количество прослушиваний в Москве по средам"
      ]
    },
    {
      "cell_type": "code",
      "execution_count": 23,
      "metadata": {
        "deletable": false,
        "id": "j2y3TAwo_Zcu",
        "colab": {
          "base_uri": "https://localhost:8080/"
        },
        "outputId": "2a7d6563-af5b-4bf1-d82c-e0cc36029790"
      },
      "outputs": [
        {
          "output_type": "execute_result",
          "data": {
            "text/plain": [
              "7003"
            ]
          },
          "metadata": {},
          "execution_count": 23
        }
      ],
      "source": [
        "number_tracks('Wednesday', 'Saint-Petersburg') # количество прослушиваний в Санкт-Петербурге по средам"
      ]
    },
    {
      "cell_type": "code",
      "execution_count": 24,
      "metadata": {
        "deletable": false,
        "id": "vYDw5u_K_Zcu",
        "colab": {
          "base_uri": "https://localhost:8080/"
        },
        "outputId": "bb04eb4f-6ad7-45d3-ebda-992792022e0f"
      },
      "outputs": [
        {
          "output_type": "execute_result",
          "data": {
            "text/plain": [
              "15945"
            ]
          },
          "metadata": {},
          "execution_count": 24
        }
      ],
      "source": [
        "number_tracks('Friday', 'Moscow') # количество прослушиваний в Москве по пятницам"
      ]
    },
    {
      "cell_type": "code",
      "execution_count": 25,
      "metadata": {
        "deletable": false,
        "id": "8_yzFtW3_Zcu",
        "colab": {
          "base_uri": "https://localhost:8080/"
        },
        "outputId": "0e914bc2-85af-4887-9b91-1111c0c2af67"
      },
      "outputs": [
        {
          "output_type": "execute_result",
          "data": {
            "text/plain": [
              "5895"
            ]
          },
          "metadata": {},
          "execution_count": 25
        }
      ],
      "source": [
        "number_tracks('Friday', 'Saint-Petersburg') # количество прослушиваний в Санкт-Петербурге по пятницам"
      ]
    },
    {
      "cell_type": "markdown",
      "metadata": {
        "deletable": false,
        "editable": false,
        "id": "7QXffbO-_Zcu",
        "tags": [
          "start_task"
        ]
      },
      "source": [
        "Создадим таблицу, где:\n",
        "* названия колонок — `['city', 'monday', 'wednesday', 'friday']`;\n",
        "* данные — результаты, которые получили с помощью `number_tracks`."
      ]
    },
    {
      "cell_type": "code",
      "execution_count": 26,
      "metadata": {
        "deletable": false,
        "id": "APAcLpOr_Zcu",
        "colab": {
          "base_uri": "https://localhost:8080/",
          "height": 112
        },
        "outputId": "e9712a3a-9960-4586-b9a2-1dda79098ff2"
      },
      "outputs": [
        {
          "output_type": "execute_result",
          "data": {
            "text/plain": [
              "               city  monday  wednesday  friday\n",
              "0            Moscow   15740      11056   15945\n",
              "1  Saint-Petersburg    5614       7003    5895"
            ],
            "text/html": [
              "\n",
              "  <div id=\"df-712ff8fd-2b4d-4bb6-8afc-27d308330de0\" class=\"colab-df-container\">\n",
              "    <div>\n",
              "<style scoped>\n",
              "    .dataframe tbody tr th:only-of-type {\n",
              "        vertical-align: middle;\n",
              "    }\n",
              "\n",
              "    .dataframe tbody tr th {\n",
              "        vertical-align: top;\n",
              "    }\n",
              "\n",
              "    .dataframe thead th {\n",
              "        text-align: right;\n",
              "    }\n",
              "</style>\n",
              "<table border=\"1\" class=\"dataframe\">\n",
              "  <thead>\n",
              "    <tr style=\"text-align: right;\">\n",
              "      <th></th>\n",
              "      <th>city</th>\n",
              "      <th>monday</th>\n",
              "      <th>wednesday</th>\n",
              "      <th>friday</th>\n",
              "    </tr>\n",
              "  </thead>\n",
              "  <tbody>\n",
              "    <tr>\n",
              "      <th>0</th>\n",
              "      <td>Moscow</td>\n",
              "      <td>15740</td>\n",
              "      <td>11056</td>\n",
              "      <td>15945</td>\n",
              "    </tr>\n",
              "    <tr>\n",
              "      <th>1</th>\n",
              "      <td>Saint-Petersburg</td>\n",
              "      <td>5614</td>\n",
              "      <td>7003</td>\n",
              "      <td>5895</td>\n",
              "    </tr>\n",
              "  </tbody>\n",
              "</table>\n",
              "</div>\n",
              "    <div class=\"colab-df-buttons\">\n",
              "\n",
              "  <div class=\"colab-df-container\">\n",
              "    <button class=\"colab-df-convert\" onclick=\"convertToInteractive('df-712ff8fd-2b4d-4bb6-8afc-27d308330de0')\"\n",
              "            title=\"Convert this dataframe to an interactive table.\"\n",
              "            style=\"display:none;\">\n",
              "\n",
              "  <svg xmlns=\"http://www.w3.org/2000/svg\" height=\"24px\" viewBox=\"0 -960 960 960\">\n",
              "    <path d=\"M120-120v-720h720v720H120Zm60-500h600v-160H180v160Zm220 220h160v-160H400v160Zm0 220h160v-160H400v160ZM180-400h160v-160H180v160Zm440 0h160v-160H620v160ZM180-180h160v-160H180v160Zm440 0h160v-160H620v160Z\"/>\n",
              "  </svg>\n",
              "    </button>\n",
              "\n",
              "  <style>\n",
              "    .colab-df-container {\n",
              "      display:flex;\n",
              "      gap: 12px;\n",
              "    }\n",
              "\n",
              "    .colab-df-convert {\n",
              "      background-color: #E8F0FE;\n",
              "      border: none;\n",
              "      border-radius: 50%;\n",
              "      cursor: pointer;\n",
              "      display: none;\n",
              "      fill: #1967D2;\n",
              "      height: 32px;\n",
              "      padding: 0 0 0 0;\n",
              "      width: 32px;\n",
              "    }\n",
              "\n",
              "    .colab-df-convert:hover {\n",
              "      background-color: #E2EBFA;\n",
              "      box-shadow: 0px 1px 2px rgba(60, 64, 67, 0.3), 0px 1px 3px 1px rgba(60, 64, 67, 0.15);\n",
              "      fill: #174EA6;\n",
              "    }\n",
              "\n",
              "    .colab-df-buttons div {\n",
              "      margin-bottom: 4px;\n",
              "    }\n",
              "\n",
              "    [theme=dark] .colab-df-convert {\n",
              "      background-color: #3B4455;\n",
              "      fill: #D2E3FC;\n",
              "    }\n",
              "\n",
              "    [theme=dark] .colab-df-convert:hover {\n",
              "      background-color: #434B5C;\n",
              "      box-shadow: 0px 1px 3px 1px rgba(0, 0, 0, 0.15);\n",
              "      filter: drop-shadow(0px 1px 2px rgba(0, 0, 0, 0.3));\n",
              "      fill: #FFFFFF;\n",
              "    }\n",
              "  </style>\n",
              "\n",
              "    <script>\n",
              "      const buttonEl =\n",
              "        document.querySelector('#df-712ff8fd-2b4d-4bb6-8afc-27d308330de0 button.colab-df-convert');\n",
              "      buttonEl.style.display =\n",
              "        google.colab.kernel.accessAllowed ? 'block' : 'none';\n",
              "\n",
              "      async function convertToInteractive(key) {\n",
              "        const element = document.querySelector('#df-712ff8fd-2b4d-4bb6-8afc-27d308330de0');\n",
              "        const dataTable =\n",
              "          await google.colab.kernel.invokeFunction('convertToInteractive',\n",
              "                                                    [key], {});\n",
              "        if (!dataTable) return;\n",
              "\n",
              "        const docLinkHtml = 'Like what you see? Visit the ' +\n",
              "          '<a target=\"_blank\" href=https://colab.research.google.com/notebooks/data_table.ipynb>data table notebook</a>'\n",
              "          + ' to learn more about interactive tables.';\n",
              "        element.innerHTML = '';\n",
              "        dataTable['output_type'] = 'display_data';\n",
              "        await google.colab.output.renderOutput(dataTable, element);\n",
              "        const docLink = document.createElement('div');\n",
              "        docLink.innerHTML = docLinkHtml;\n",
              "        element.appendChild(docLink);\n",
              "      }\n",
              "    </script>\n",
              "  </div>\n",
              "\n",
              "\n",
              "<div id=\"df-f7a3de77-1534-40e7-a93f-472478be3afa\">\n",
              "  <button class=\"colab-df-quickchart\" onclick=\"quickchart('df-f7a3de77-1534-40e7-a93f-472478be3afa')\"\n",
              "            title=\"Suggest charts.\"\n",
              "            style=\"display:none;\">\n",
              "\n",
              "<svg xmlns=\"http://www.w3.org/2000/svg\" height=\"24px\"viewBox=\"0 0 24 24\"\n",
              "     width=\"24px\">\n",
              "    <g>\n",
              "        <path d=\"M19 3H5c-1.1 0-2 .9-2 2v14c0 1.1.9 2 2 2h14c1.1 0 2-.9 2-2V5c0-1.1-.9-2-2-2zM9 17H7v-7h2v7zm4 0h-2V7h2v10zm4 0h-2v-4h2v4z\"/>\n",
              "    </g>\n",
              "</svg>\n",
              "  </button>\n",
              "\n",
              "<style>\n",
              "  .colab-df-quickchart {\n",
              "      --bg-color: #E8F0FE;\n",
              "      --fill-color: #1967D2;\n",
              "      --hover-bg-color: #E2EBFA;\n",
              "      --hover-fill-color: #174EA6;\n",
              "      --disabled-fill-color: #AAA;\n",
              "      --disabled-bg-color: #DDD;\n",
              "  }\n",
              "\n",
              "  [theme=dark] .colab-df-quickchart {\n",
              "      --bg-color: #3B4455;\n",
              "      --fill-color: #D2E3FC;\n",
              "      --hover-bg-color: #434B5C;\n",
              "      --hover-fill-color: #FFFFFF;\n",
              "      --disabled-bg-color: #3B4455;\n",
              "      --disabled-fill-color: #666;\n",
              "  }\n",
              "\n",
              "  .colab-df-quickchart {\n",
              "    background-color: var(--bg-color);\n",
              "    border: none;\n",
              "    border-radius: 50%;\n",
              "    cursor: pointer;\n",
              "    display: none;\n",
              "    fill: var(--fill-color);\n",
              "    height: 32px;\n",
              "    padding: 0;\n",
              "    width: 32px;\n",
              "  }\n",
              "\n",
              "  .colab-df-quickchart:hover {\n",
              "    background-color: var(--hover-bg-color);\n",
              "    box-shadow: 0 1px 2px rgba(60, 64, 67, 0.3), 0 1px 3px 1px rgba(60, 64, 67, 0.15);\n",
              "    fill: var(--button-hover-fill-color);\n",
              "  }\n",
              "\n",
              "  .colab-df-quickchart-complete:disabled,\n",
              "  .colab-df-quickchart-complete:disabled:hover {\n",
              "    background-color: var(--disabled-bg-color);\n",
              "    fill: var(--disabled-fill-color);\n",
              "    box-shadow: none;\n",
              "  }\n",
              "\n",
              "  .colab-df-spinner {\n",
              "    border: 2px solid var(--fill-color);\n",
              "    border-color: transparent;\n",
              "    border-bottom-color: var(--fill-color);\n",
              "    animation:\n",
              "      spin 1s steps(1) infinite;\n",
              "  }\n",
              "\n",
              "  @keyframes spin {\n",
              "    0% {\n",
              "      border-color: transparent;\n",
              "      border-bottom-color: var(--fill-color);\n",
              "      border-left-color: var(--fill-color);\n",
              "    }\n",
              "    20% {\n",
              "      border-color: transparent;\n",
              "      border-left-color: var(--fill-color);\n",
              "      border-top-color: var(--fill-color);\n",
              "    }\n",
              "    30% {\n",
              "      border-color: transparent;\n",
              "      border-left-color: var(--fill-color);\n",
              "      border-top-color: var(--fill-color);\n",
              "      border-right-color: var(--fill-color);\n",
              "    }\n",
              "    40% {\n",
              "      border-color: transparent;\n",
              "      border-right-color: var(--fill-color);\n",
              "      border-top-color: var(--fill-color);\n",
              "    }\n",
              "    60% {\n",
              "      border-color: transparent;\n",
              "      border-right-color: var(--fill-color);\n",
              "    }\n",
              "    80% {\n",
              "      border-color: transparent;\n",
              "      border-right-color: var(--fill-color);\n",
              "      border-bottom-color: var(--fill-color);\n",
              "    }\n",
              "    90% {\n",
              "      border-color: transparent;\n",
              "      border-bottom-color: var(--fill-color);\n",
              "    }\n",
              "  }\n",
              "</style>\n",
              "\n",
              "  <script>\n",
              "    async function quickchart(key) {\n",
              "      const quickchartButtonEl =\n",
              "        document.querySelector('#' + key + ' button');\n",
              "      quickchartButtonEl.disabled = true;  // To prevent multiple clicks.\n",
              "      quickchartButtonEl.classList.add('colab-df-spinner');\n",
              "      try {\n",
              "        const charts = await google.colab.kernel.invokeFunction(\n",
              "            'suggestCharts', [key], {});\n",
              "      } catch (error) {\n",
              "        console.error('Error during call to suggestCharts:', error);\n",
              "      }\n",
              "      quickchartButtonEl.classList.remove('colab-df-spinner');\n",
              "      quickchartButtonEl.classList.add('colab-df-quickchart-complete');\n",
              "    }\n",
              "    (() => {\n",
              "      let quickchartButtonEl =\n",
              "        document.querySelector('#df-f7a3de77-1534-40e7-a93f-472478be3afa button');\n",
              "      quickchartButtonEl.style.display =\n",
              "        google.colab.kernel.accessAllowed ? 'block' : 'none';\n",
              "    })();\n",
              "  </script>\n",
              "</div>\n",
              "    </div>\n",
              "  </div>\n"
            ]
          },
          "metadata": {},
          "execution_count": 26
        }
      ],
      "source": [
        "number_by_day = [\n",
        "    ['Moscow', 15740, 11056, 15945],\n",
        "    ['Saint-Petersburg', 5614, 7003, 5895]\n",
        "]\n",
        "columns_name = ['city', 'monday', 'wednesday', 'friday']\n",
        "city_by_day = pd.DataFrame(data = number_by_day, columns = columns_name)\n",
        "city_by_day\n",
        "# Таблица с результатами"
      ]
    },
    {
      "cell_type": "markdown",
      "metadata": {
        "deletable": false,
        "editable": false,
        "id": "-EgPIHYu_Zcu"
      },
      "source": [
        "**Выводы**\n",
        "\n",
        "Данные показывают разницу поведения пользователей:\n",
        "\n",
        "- В Москве пик прослушиваний приходится на понедельник и пятницу, а в среду заметен спад.\n",
        "- В Петербурге, наоборот, больше слушают музыку по средам. Активность в понедельник и пятницу здесь почти в равной мере уступает среде.\n",
        "\n",
        "Значит, данные говорят в пользу первой гипотезы."
      ]
    },
    {
      "cell_type": "markdown",
      "metadata": {
        "deletable": false,
        "editable": false,
        "id": "atZAxtq4_Zcu"
      },
      "source": [
        "### Музыка в начале и в конце недели"
      ]
    },
    {
      "cell_type": "markdown",
      "metadata": {
        "deletable": false,
        "editable": false,
        "id": "eXrQqXFH_Zcu"
      },
      "source": [
        "Согласно второй гипотезе, утром в понедельник в Москве преобладают одни жанры, а в Петербурге — другие. Так же и вечером пятницы преобладают разные жанры — в зависимости от города."
      ]
    },
    {
      "cell_type": "markdown",
      "metadata": {
        "deletable": false,
        "editable": false,
        "id": "S8UcW6Hw_Zcu",
        "tags": [
          "start_task"
        ]
      },
      "source": [
        "Сохраниv таблицы с данными в две переменные:\n",
        "* по Москве — в `moscow_general`;\n",
        "* по Санкт-Петербургу — в `spb_general`"
      ]
    },
    {
      "cell_type": "code",
      "execution_count": 27,
      "metadata": {
        "deletable": false,
        "id": "qeaFfM_P_Zcu"
      },
      "outputs": [],
      "source": [
        "moscow_general = df[df['city'] == 'Moscow']\n"
      ]
    },
    {
      "cell_type": "code",
      "execution_count": 28,
      "metadata": {
        "deletable": false,
        "id": "ORaVRKto_Zcu"
      },
      "outputs": [],
      "source": [
        "spb_general = df[df['city'] == 'Saint-Petersburg']\n"
      ]
    },
    {
      "cell_type": "markdown",
      "metadata": {
        "deletable": false,
        "editable": false,
        "id": "MEJV-CX2_Zcu",
        "tags": [
          "start_task"
        ]
      },
      "source": [
        "Создадим функцию, котора возвращает информацию о топ-10 жанров тех треков, которые прослушивали в указанный день, в промежутке между двумя отметками времени."
      ]
    },
    {
      "cell_type": "code",
      "execution_count": 29,
      "metadata": {
        "deletable": false,
        "id": "laJT9BYl_Zcu"
      },
      "outputs": [],
      "source": [
        "\n",
        "def genre_weekday(df, day, time1, time2):\n",
        "    # последовательная фильтрация\n",
        "    # оставляем в genre_df только те строки df, у которых день равен day\n",
        "    genre_df = df[df['day'] == day]\n",
        "    # оставляем в genre_df только те строки genre_df, у которых время меньше time2\n",
        "    genre_df = genre_df[genre_df['time'] < time2]\n",
        "    # оставляем в genre_df только те строки genre_df, у которых время больше time1\n",
        "    genre_df = genre_df[genre_df['time'] > time1]\n",
        "    # сгруппируем отфильтрованный датафрейм по столбцу с названиями жанров, возьмём столбец genre и посчитаем кол-во строк для каждого жанра методом count()\n",
        "    genre_df_grouped = genre_df.groupby('genre')['genre'].count()\n",
        "    # отсортируем результат по убыванию (чтобы в начале Series оказались самые популярные жанры)\n",
        "    genre_df_sorted = genre_df_grouped.sort_values(ascending = False)\n",
        "    # вернём Series с 10 самыми популярными жанрами в указанный отрезок времени заданного дня\n",
        "    return genre_df_sorted[:10]"
      ]
    },
    {
      "cell_type": "markdown",
      "metadata": {
        "deletable": false,
        "editable": false,
        "id": "la2s2_PF_Zcu",
        "tags": [
          "start_task"
        ]
      },
      "source": [
        "Сравним результаты функции `genre_weekday()` для Москвы и Санкт-Петербурга в понедельник утром (с 7:00 до 11:00) и в пятницу вечером (с 17:00 до 23:00):"
      ]
    },
    {
      "cell_type": "code",
      "execution_count": 30,
      "metadata": {
        "deletable": false,
        "id": "yz7itPUQ_Zcu",
        "colab": {
          "base_uri": "https://localhost:8080/"
        },
        "outputId": "96a9c7e9-dfeb-4a7e-da91-b0905bcda406"
      },
      "outputs": [
        {
          "output_type": "execute_result",
          "data": {
            "text/plain": [
              "genre\n",
              "pop            781\n",
              "dance          549\n",
              "electronic     480\n",
              "rock           474\n",
              "hiphop         286\n",
              "ruspop         186\n",
              "world          181\n",
              "rusrap         175\n",
              "alternative    164\n",
              "unknown        161\n",
              "Name: genre, dtype: int64"
            ]
          },
          "metadata": {},
          "execution_count": 30
        }
      ],
      "source": [
        "genre_weekday(moscow_general, 'Monday', '07:00', '11:00') # вызов функции для утра понедельника в Москве (вместо df — таблица moscow_general)"
      ]
    },
    {
      "cell_type": "code",
      "execution_count": 31,
      "metadata": {
        "deletable": false,
        "id": "kwUcHPdy_Zcu",
        "colab": {
          "base_uri": "https://localhost:8080/"
        },
        "outputId": "3f616b7e-8962-4bce-90ad-1c4a06643c50"
      },
      "outputs": [
        {
          "output_type": "execute_result",
          "data": {
            "text/plain": [
              "genre\n",
              "pop            218\n",
              "dance          182\n",
              "rock           162\n",
              "electronic     147\n",
              "hiphop          80\n",
              "ruspop          64\n",
              "alternative     58\n",
              "rusrap          55\n",
              "jazz            44\n",
              "classical       40\n",
              "Name: genre, dtype: int64"
            ]
          },
          "metadata": {},
          "execution_count": 31
        }
      ],
      "source": [
        "genre_weekday(spb_general, 'Monday', '07:00', '11:00') # вызов функции для утра понедельника в Петербурге (вместо df — таблица spb_general)"
      ]
    },
    {
      "cell_type": "code",
      "execution_count": 32,
      "metadata": {
        "deletable": false,
        "id": "EzXVRE1o_Zcu",
        "colab": {
          "base_uri": "https://localhost:8080/"
        },
        "outputId": "142c7056-2e06-4dd4-ea9c-f8c454304e7d"
      },
      "outputs": [
        {
          "output_type": "execute_result",
          "data": {
            "text/plain": [
              "genre\n",
              "pop            713\n",
              "rock           517\n",
              "dance          495\n",
              "electronic     482\n",
              "hiphop         273\n",
              "world          208\n",
              "ruspop         170\n",
              "alternative    163\n",
              "classical      163\n",
              "rusrap         142\n",
              "Name: genre, dtype: int64"
            ]
          },
          "metadata": {},
          "execution_count": 32
        }
      ],
      "source": [
        "genre_weekday(moscow_general, 'Friday', '17:00', '23:00') # вызов функции для вечера пятницы в Москве"
      ]
    },
    {
      "cell_type": "code",
      "execution_count": 33,
      "metadata": {
        "deletable": false,
        "id": "JZaEKu5v_Zcu",
        "scrolled": true,
        "colab": {
          "base_uri": "https://localhost:8080/"
        },
        "outputId": "04bbfcde-54bc-443f-eb7a-ed2fd8a38afe"
      },
      "outputs": [
        {
          "output_type": "execute_result",
          "data": {
            "text/plain": [
              "genre\n",
              "pop            256\n",
              "electronic     216\n",
              "rock           216\n",
              "dance          210\n",
              "hiphop          97\n",
              "alternative     63\n",
              "jazz            61\n",
              "classical       60\n",
              "rusrap          59\n",
              "world           54\n",
              "Name: genre, dtype: int64"
            ]
          },
          "metadata": {},
          "execution_count": 33
        }
      ],
      "source": [
        "genre_weekday(spb_general, 'Friday', '17:00', '23:00') # вызов функции для вечера пятницы в Петербурге"
      ]
    },
    {
      "cell_type": "markdown",
      "metadata": {
        "deletable": false,
        "editable": false,
        "id": "wrCe4MNX_Zcu"
      },
      "source": [
        "**Выводы**\n",
        "\n",
        "Если сравнить топ-10 жанров в понедельник утром, можно сделать такие выводы:\n",
        "\n",
        "1. В Москве и Петербурге слушают похожую музыку. Единственное отличие — в московский рейтинг вошёл жанр “world”, а в петербургский — джаз и классика.\n",
        "\n",
        "2. В Москве пропущенных значений оказалось так много, что значение `'unknown'` заняло десятое место среди самых популярных жанров. Значит, пропущенные значения занимают существенную долю в данных и угрожают достоверности исследования.\n",
        "\n",
        "Вечер пятницы не меняет эту картину. Некоторые жанры поднимаются немного выше, другие спускаются, но в целом топ-10 остаётся тем же самым.\n",
        "\n",
        "Таким образом, вторая гипотеза подтвердилась лишь частично:\n",
        "* Пользователи слушают похожую музыку в начале недели и в конце.\n",
        "* Разница между Москвой и Петербургом не слишком выражена. В Москве чаще слушают русскую популярную музыку, в Петербурге — джаз.\n",
        "\n",
        "Однако пропуски в данных ставят под сомнение этот результат. В Москве их так много, что рейтинг топ-10 мог бы выглядеть иначе, если бы не утерянные  данные о жанрах."
      ]
    },
    {
      "cell_type": "markdown",
      "metadata": {
        "deletable": false,
        "editable": false,
        "id": "JolODAqr_Zcu"
      },
      "source": [
        "### Жанровые предпочтения в Москве и Петербурге\n",
        "\n",
        "Гипотеза: Петербург — столица рэпа, музыку этого жанра там слушают чаще, чем в Москве.  А Москва — город контрастов, в котором, тем не менее, преобладает поп-музыка."
      ]
    },
    {
      "cell_type": "code",
      "execution_count": 34,
      "metadata": {
        "deletable": false,
        "id": "r19lIPke_Zcu"
      },
      "outputs": [],
      "source": [
        "moscow_general_genre = moscow_general.groupby('genre')['genre'].count() # группировка таблицы moscow_general по столбцу 'genre',\n",
        "# подсчёт числа значений 'genre'\n",
        "moscow_genres = moscow_general_genre.sort_values(ascending=False) # сортировка получившегося Series в порядке убывания и сохранение в moscow_genres"
      ]
    },
    {
      "cell_type": "code",
      "execution_count": 35,
      "metadata": {
        "deletable": false,
        "id": "WhCSooF8_Zcv",
        "colab": {
          "base_uri": "https://localhost:8080/"
        },
        "outputId": "a46df301-9a81-4ca2-ab49-b6c00ffb04e9"
      },
      "outputs": [
        {
          "output_type": "execute_result",
          "data": {
            "text/plain": [
              "genre\n",
              "pop            5892\n",
              "dance          4435\n",
              "rock           3965\n",
              "electronic     3786\n",
              "hiphop         2096\n",
              "classical      1616\n",
              "world          1432\n",
              "alternative    1379\n",
              "ruspop         1372\n",
              "rusrap         1161\n",
              "Name: genre, dtype: int64"
            ]
          },
          "metadata": {},
          "execution_count": 35
        }
      ],
      "source": [
        "moscow_genres.head(10) # просмотр первых 10 строк moscow_genres"
      ]
    },
    {
      "cell_type": "code",
      "execution_count": 36,
      "metadata": {
        "deletable": false,
        "id": "gluLIpE7_Zcv"
      },
      "outputs": [],
      "source": [
        "spb_general_genre = spb_general.groupby('genre')['genre'].count() # группировка таблицы spb_general по столбцу 'genre',\n",
        "# подсчёт числа значений 'genre' в этой группировке методом count(),\n",
        "spb_genres = spb_general_genre.sort_values(ascending=False) # сортировка получившегося Series в порядке убывания и сохранение в spb_genres"
      ]
    },
    {
      "cell_type": "code",
      "execution_count": 37,
      "metadata": {
        "deletable": false,
        "id": "uaGJHjVU_Zcv",
        "colab": {
          "base_uri": "https://localhost:8080/"
        },
        "outputId": "2d2607e9-06be-45c3-c6f6-eddb7456de80"
      },
      "outputs": [
        {
          "output_type": "execute_result",
          "data": {
            "text/plain": [
              "genre\n",
              "pop            2431\n",
              "dance          1932\n",
              "rock           1879\n",
              "electronic     1736\n",
              "hiphop          960\n",
              "alternative     649\n",
              "classical       646\n",
              "rusrap          564\n",
              "ruspop          538\n",
              "world           515\n",
              "Name: genre, dtype: int64"
            ]
          },
          "metadata": {},
          "execution_count": 37
        }
      ],
      "source": [
        "spb_genres.head(10) # просмотр первых 10 строк spb_genres"
      ]
    },
    {
      "cell_type": "markdown",
      "metadata": {
        "deletable": false,
        "editable": false,
        "id": "RY51YJYu_Zcv"
      },
      "source": [
        "**Выводы**"
      ]
    },
    {
      "cell_type": "markdown",
      "metadata": {
        "deletable": false,
        "editable": false,
        "id": "nVhnJEm__Zcv"
      },
      "source": [
        "Гипотеза частично подтвердилась:\n",
        "* Поп-музыка — самый популярный жанр в Москве, как и предполагала гипотеза. Более того, в топ-10 жанров встречается близкий жанр — русская популярная музыка.\n",
        "* Вопреки ожиданиям, рэп одинаково популярен в Москве и Петербурге.\n"
      ]
    },
    {
      "cell_type": "markdown",
      "metadata": {
        "deletable": false,
        "editable": false,
        "id": "ykKQ0N65_Zcv"
      },
      "source": [
        "## Итоги исследования"
      ]
    },
    {
      "cell_type": "markdown",
      "metadata": {
        "deletable": false,
        "editable": false,
        "id": "tjUwbHb3_Zcv"
      },
      "source": [
        "В ходе исследования мы проверили три гипотезы и установили:\n",
        "\n",
        "1. День недели по-разному влияет на активность пользователей в Москве и Петербурге.\n",
        "\n",
        "Первая гипотеза полностью подтвердилась.\n",
        "\n",
        "2. Музыкальные предпочтения не сильно меняются в течение недели — будь то Москва или Петербург. Небольшие различия заметны в начале недели, по понедельникам:\n",
        "* в Москве слушают музыку жанра “world”,\n",
        "* в Петербурге — джаз и классику.\n",
        "\n",
        "Таким образом, вторая гипотеза подтвердилась лишь отчасти. Этот результат мог оказаться иным, если бы не пропуски в данных.\n",
        "\n",
        "3. Во вкусах пользователей Москвы и Петербурга больше общего чем различий. Вопреки ожиданиям, предпочтения жанров в Петербурге напоминают московские.\n",
        "\n",
        "Третья гипотеза не подтвердилась. Если различия в предпочтениях и существуют, на основной массе пользователей они незаметны.\n",
        "\n",
        "Из данных одного сервиса не всегда можно сделать вывод о всех жителях города.\n",
        "Проверки статистических гипотез покажут, насколько они достоверны, исходя из имеющихся данных."
      ]
    }
  ],
  "metadata": {
    "ExecuteTimeLog": [
      {
        "duration": 50,
        "start_time": "2023-01-09T17:15:53.934Z"
      },
      {
        "duration": 8,
        "start_time": "2023-01-09T17:16:27.321Z"
      },
      {
        "duration": 376,
        "start_time": "2023-01-09T17:24:58.210Z"
      },
      {
        "duration": 62,
        "start_time": "2023-01-09T17:24:58.588Z"
      },
      {
        "duration": 0,
        "start_time": "2023-01-09T17:24:58.652Z"
      },
      {
        "duration": 0,
        "start_time": "2023-01-09T17:24:58.653Z"
      },
      {
        "duration": 0,
        "start_time": "2023-01-09T17:24:58.655Z"
      },
      {
        "duration": 1,
        "start_time": "2023-01-09T17:24:58.655Z"
      },
      {
        "duration": 0,
        "start_time": "2023-01-09T17:24:58.657Z"
      },
      {
        "duration": 0,
        "start_time": "2023-01-09T17:24:58.658Z"
      },
      {
        "duration": 0,
        "start_time": "2023-01-09T17:24:58.676Z"
      },
      {
        "duration": 0,
        "start_time": "2023-01-09T17:24:58.677Z"
      },
      {
        "duration": 0,
        "start_time": "2023-01-09T17:24:58.678Z"
      },
      {
        "duration": 0,
        "start_time": "2023-01-09T17:24:58.679Z"
      },
      {
        "duration": 0,
        "start_time": "2023-01-09T17:24:58.680Z"
      },
      {
        "duration": 0,
        "start_time": "2023-01-09T17:24:58.681Z"
      },
      {
        "duration": 0,
        "start_time": "2023-01-09T17:24:58.683Z"
      },
      {
        "duration": 0,
        "start_time": "2023-01-09T17:24:58.684Z"
      },
      {
        "duration": 0,
        "start_time": "2023-01-09T17:24:58.685Z"
      },
      {
        "duration": 0,
        "start_time": "2023-01-09T17:24:58.685Z"
      },
      {
        "duration": 0,
        "start_time": "2023-01-09T17:24:58.686Z"
      },
      {
        "duration": 0,
        "start_time": "2023-01-09T17:24:58.688Z"
      },
      {
        "duration": 0,
        "start_time": "2023-01-09T17:24:58.689Z"
      },
      {
        "duration": 0,
        "start_time": "2023-01-09T17:24:58.690Z"
      },
      {
        "duration": 0,
        "start_time": "2023-01-09T17:24:58.691Z"
      },
      {
        "duration": 0,
        "start_time": "2023-01-09T17:24:58.692Z"
      },
      {
        "duration": 0,
        "start_time": "2023-01-09T17:24:58.693Z"
      },
      {
        "duration": 0,
        "start_time": "2023-01-09T17:24:58.694Z"
      },
      {
        "duration": 0,
        "start_time": "2023-01-09T17:24:58.695Z"
      },
      {
        "duration": 0,
        "start_time": "2023-01-09T17:24:58.696Z"
      },
      {
        "duration": 0,
        "start_time": "2023-01-09T17:24:58.697Z"
      },
      {
        "duration": 0,
        "start_time": "2023-01-09T17:24:58.698Z"
      },
      {
        "duration": 0,
        "start_time": "2023-01-09T17:24:58.699Z"
      },
      {
        "duration": 0,
        "start_time": "2023-01-09T17:24:58.700Z"
      },
      {
        "duration": 0,
        "start_time": "2023-01-09T17:24:58.701Z"
      },
      {
        "duration": 0,
        "start_time": "2023-01-09T17:24:58.702Z"
      },
      {
        "duration": 0,
        "start_time": "2023-01-09T17:24:58.703Z"
      },
      {
        "duration": 0,
        "start_time": "2023-01-09T17:24:58.704Z"
      },
      {
        "duration": 0,
        "start_time": "2023-01-09T17:24:58.705Z"
      },
      {
        "duration": 0,
        "start_time": "2023-01-09T17:24:58.706Z"
      },
      {
        "duration": 7,
        "start_time": "2023-01-09T17:25:31.764Z"
      },
      {
        "duration": 253,
        "start_time": "2023-01-09T17:26:28.955Z"
      },
      {
        "duration": 8,
        "start_time": "2023-01-09T17:26:34.685Z"
      },
      {
        "duration": 13,
        "start_time": "2023-01-09T17:28:12.584Z"
      },
      {
        "duration": 32,
        "start_time": "2023-01-09T17:28:32.296Z"
      },
      {
        "duration": 50,
        "start_time": "2023-01-09T17:55:11.883Z"
      },
      {
        "duration": 6,
        "start_time": "2023-01-09T17:55:19.354Z"
      },
      {
        "duration": 8,
        "start_time": "2023-01-09T17:55:28.784Z"
      },
      {
        "duration": 6,
        "start_time": "2023-01-09T17:55:35.344Z"
      },
      {
        "duration": 7,
        "start_time": "2023-01-09T17:55:45.725Z"
      },
      {
        "duration": 418,
        "start_time": "2023-01-09T17:56:04.974Z"
      },
      {
        "duration": 536,
        "start_time": "2023-01-09T17:56:05.394Z"
      },
      {
        "duration": 8,
        "start_time": "2023-01-09T17:56:05.932Z"
      },
      {
        "duration": 65,
        "start_time": "2023-01-09T17:56:05.942Z"
      },
      {
        "duration": 12,
        "start_time": "2023-01-09T17:56:06.009Z"
      },
      {
        "duration": 29,
        "start_time": "2023-01-09T17:56:06.023Z"
      },
      {
        "duration": 21,
        "start_time": "2023-01-09T17:56:06.054Z"
      },
      {
        "duration": 25,
        "start_time": "2023-01-09T17:56:06.077Z"
      },
      {
        "duration": 31,
        "start_time": "2023-01-09T17:56:06.104Z"
      },
      {
        "duration": 13,
        "start_time": "2023-01-09T17:56:06.139Z"
      },
      {
        "duration": 36,
        "start_time": "2023-01-09T17:56:06.154Z"
      },
      {
        "duration": 21,
        "start_time": "2023-01-09T17:56:06.192Z"
      },
      {
        "duration": 17,
        "start_time": "2023-01-09T17:56:06.216Z"
      },
      {
        "duration": 13,
        "start_time": "2023-01-09T17:56:06.235Z"
      },
      {
        "duration": 28,
        "start_time": "2023-01-09T17:56:06.250Z"
      },
      {
        "duration": 33,
        "start_time": "2023-01-09T17:56:06.280Z"
      },
      {
        "duration": 16,
        "start_time": "2023-01-09T17:56:06.316Z"
      },
      {
        "duration": 35,
        "start_time": "2023-01-09T17:56:06.334Z"
      },
      {
        "duration": 28,
        "start_time": "2023-01-09T17:56:06.371Z"
      },
      {
        "duration": 26,
        "start_time": "2023-01-09T17:56:06.401Z"
      },
      {
        "duration": 26,
        "start_time": "2023-01-09T17:56:06.429Z"
      },
      {
        "duration": 14,
        "start_time": "2023-01-09T17:56:06.457Z"
      },
      {
        "duration": 46,
        "start_time": "2023-01-09T17:56:06.473Z"
      },
      {
        "duration": 39,
        "start_time": "2023-01-09T17:56:06.521Z"
      },
      {
        "duration": 18,
        "start_time": "2023-01-09T17:56:06.562Z"
      },
      {
        "duration": 43,
        "start_time": "2023-01-09T17:56:06.582Z"
      },
      {
        "duration": 20,
        "start_time": "2023-01-09T17:56:06.627Z"
      },
      {
        "duration": 24,
        "start_time": "2023-01-09T17:56:06.651Z"
      },
      {
        "duration": 32,
        "start_time": "2023-01-09T17:56:06.677Z"
      },
      {
        "duration": 91,
        "start_time": "2023-01-09T17:56:06.711Z"
      },
      {
        "duration": 0,
        "start_time": "2023-01-09T17:56:06.804Z"
      },
      {
        "duration": 0,
        "start_time": "2023-01-09T17:56:06.805Z"
      },
      {
        "duration": 0,
        "start_time": "2023-01-09T17:56:06.807Z"
      },
      {
        "duration": 0,
        "start_time": "2023-01-09T17:56:06.808Z"
      },
      {
        "duration": 0,
        "start_time": "2023-01-09T17:56:06.810Z"
      },
      {
        "duration": 0,
        "start_time": "2023-01-09T17:56:06.811Z"
      },
      {
        "duration": 0,
        "start_time": "2023-01-09T17:56:06.813Z"
      },
      {
        "duration": 0,
        "start_time": "2023-01-09T17:56:06.814Z"
      },
      {
        "duration": 51,
        "start_time": "2023-01-09T18:05:14.644Z"
      },
      {
        "duration": 430,
        "start_time": "2023-01-09T18:05:25.644Z"
      },
      {
        "duration": 453,
        "start_time": "2023-01-09T18:05:26.076Z"
      },
      {
        "duration": 8,
        "start_time": "2023-01-09T18:05:26.531Z"
      },
      {
        "duration": 31,
        "start_time": "2023-01-09T18:05:26.541Z"
      },
      {
        "duration": 2,
        "start_time": "2023-01-09T18:05:26.574Z"
      },
      {
        "duration": 6,
        "start_time": "2023-01-09T18:05:26.578Z"
      },
      {
        "duration": 6,
        "start_time": "2023-01-09T18:05:26.585Z"
      },
      {
        "duration": 5,
        "start_time": "2023-01-09T18:05:26.592Z"
      },
      {
        "duration": 21,
        "start_time": "2023-01-09T18:05:26.599Z"
      },
      {
        "duration": 14,
        "start_time": "2023-01-09T18:05:26.623Z"
      },
      {
        "duration": 3,
        "start_time": "2023-01-09T18:05:26.638Z"
      },
      {
        "duration": 6,
        "start_time": "2023-01-09T18:05:26.642Z"
      },
      {
        "duration": 6,
        "start_time": "2023-01-09T18:05:26.650Z"
      },
      {
        "duration": 5,
        "start_time": "2023-01-09T18:05:26.658Z"
      },
      {
        "duration": 5,
        "start_time": "2023-01-09T18:05:26.664Z"
      },
      {
        "duration": 5,
        "start_time": "2023-01-09T18:05:26.671Z"
      },
      {
        "duration": 5,
        "start_time": "2023-01-09T18:05:26.678Z"
      },
      {
        "duration": 11,
        "start_time": "2023-01-09T18:05:26.684Z"
      },
      {
        "duration": 5,
        "start_time": "2023-01-09T18:05:26.697Z"
      },
      {
        "duration": 5,
        "start_time": "2023-01-09T18:05:26.703Z"
      },
      {
        "duration": 6,
        "start_time": "2023-01-09T18:05:26.710Z"
      },
      {
        "duration": 20,
        "start_time": "2023-01-09T18:05:26.717Z"
      },
      {
        "duration": 10,
        "start_time": "2023-01-09T18:05:26.739Z"
      },
      {
        "duration": 6,
        "start_time": "2023-01-09T18:05:26.750Z"
      },
      {
        "duration": 7,
        "start_time": "2023-01-09T18:05:26.757Z"
      },
      {
        "duration": 5,
        "start_time": "2023-01-09T18:05:26.766Z"
      },
      {
        "duration": 4,
        "start_time": "2023-01-09T18:05:26.773Z"
      },
      {
        "duration": 3,
        "start_time": "2023-01-09T18:05:26.780Z"
      },
      {
        "duration": 8,
        "start_time": "2023-01-09T18:05:26.785Z"
      },
      {
        "duration": 76,
        "start_time": "2023-01-09T18:05:26.795Z"
      },
      {
        "duration": 0,
        "start_time": "2023-01-09T18:05:26.873Z"
      },
      {
        "duration": 0,
        "start_time": "2023-01-09T18:05:26.874Z"
      },
      {
        "duration": 0,
        "start_time": "2023-01-09T18:05:26.875Z"
      },
      {
        "duration": 0,
        "start_time": "2023-01-09T18:05:26.876Z"
      },
      {
        "duration": 0,
        "start_time": "2023-01-09T18:05:26.877Z"
      },
      {
        "duration": 0,
        "start_time": "2023-01-09T18:05:26.878Z"
      },
      {
        "duration": 0,
        "start_time": "2023-01-09T18:05:26.879Z"
      },
      {
        "duration": 0,
        "start_time": "2023-01-09T18:05:26.880Z"
      },
      {
        "duration": 4,
        "start_time": "2023-01-09T18:05:41.274Z"
      },
      {
        "duration": 3,
        "start_time": "2023-01-09T18:06:11.314Z"
      },
      {
        "duration": 32,
        "start_time": "2023-01-09T18:07:18.275Z"
      },
      {
        "duration": 49,
        "start_time": "2023-01-09T18:19:00.812Z"
      },
      {
        "duration": 42,
        "start_time": "2023-01-09T18:19:16.761Z"
      },
      {
        "duration": 5,
        "start_time": "2023-01-09T18:20:22.701Z"
      },
      {
        "duration": 383,
        "start_time": "2023-01-09T18:20:43.100Z"
      },
      {
        "duration": 232,
        "start_time": "2023-01-09T18:20:43.484Z"
      },
      {
        "duration": 8,
        "start_time": "2023-01-09T18:20:43.718Z"
      },
      {
        "duration": 31,
        "start_time": "2023-01-09T18:20:43.728Z"
      },
      {
        "duration": 2,
        "start_time": "2023-01-09T18:20:43.761Z"
      },
      {
        "duration": 3,
        "start_time": "2023-01-09T18:20:43.776Z"
      },
      {
        "duration": 6,
        "start_time": "2023-01-09T18:20:43.780Z"
      },
      {
        "duration": 7,
        "start_time": "2023-01-09T18:20:43.787Z"
      },
      {
        "duration": 32,
        "start_time": "2023-01-09T18:20:43.796Z"
      },
      {
        "duration": 23,
        "start_time": "2023-01-09T18:20:43.830Z"
      },
      {
        "duration": 28,
        "start_time": "2023-01-09T18:20:43.878Z"
      },
      {
        "duration": 2,
        "start_time": "2023-01-09T18:20:44.157Z"
      },
      {
        "duration": 3,
        "start_time": "2023-01-09T18:20:44.179Z"
      },
      {
        "duration": 2,
        "start_time": "2023-01-09T18:20:44.189Z"
      },
      {
        "duration": 3,
        "start_time": "2023-01-09T18:20:44.240Z"
      },
      {
        "duration": 13,
        "start_time": "2023-01-09T18:20:44.245Z"
      },
      {
        "duration": 10,
        "start_time": "2023-01-09T18:20:44.259Z"
      },
      {
        "duration": 11,
        "start_time": "2023-01-09T18:20:44.271Z"
      },
      {
        "duration": 6,
        "start_time": "2023-01-09T18:20:44.284Z"
      },
      {
        "duration": 9,
        "start_time": "2023-01-09T18:20:44.291Z"
      },
      {
        "duration": 12,
        "start_time": "2023-01-09T18:20:44.302Z"
      },
      {
        "duration": 5,
        "start_time": "2023-01-09T18:20:44.316Z"
      },
      {
        "duration": 5,
        "start_time": "2023-01-09T18:20:44.323Z"
      },
      {
        "duration": 6,
        "start_time": "2023-01-09T18:20:44.330Z"
      },
      {
        "duration": 8,
        "start_time": "2023-01-09T18:20:44.338Z"
      },
      {
        "duration": 6,
        "start_time": "2023-01-09T18:20:44.348Z"
      },
      {
        "duration": 7,
        "start_time": "2023-01-09T18:20:44.356Z"
      },
      {
        "duration": 3,
        "start_time": "2023-01-09T18:20:44.410Z"
      },
      {
        "duration": 5,
        "start_time": "2023-01-09T18:20:44.415Z"
      },
      {
        "duration": 47,
        "start_time": "2023-01-09T18:20:44.423Z"
      },
      {
        "duration": 0,
        "start_time": "2023-01-09T18:20:44.472Z"
      },
      {
        "duration": 0,
        "start_time": "2023-01-09T18:20:44.473Z"
      },
      {
        "duration": 0,
        "start_time": "2023-01-09T18:20:44.474Z"
      },
      {
        "duration": 0,
        "start_time": "2023-01-09T18:20:44.475Z"
      },
      {
        "duration": 3,
        "start_time": "2023-01-09T18:20:44.580Z"
      },
      {
        "duration": 8,
        "start_time": "2023-01-09T18:20:44.585Z"
      },
      {
        "duration": 5,
        "start_time": "2023-01-09T18:20:44.595Z"
      },
      {
        "duration": 5,
        "start_time": "2023-01-09T18:20:44.601Z"
      },
      {
        "duration": 69,
        "start_time": "2023-01-09T18:22:06.538Z"
      },
      {
        "duration": 68,
        "start_time": "2023-01-09T18:23:22.978Z"
      },
      {
        "duration": 55,
        "start_time": "2023-01-09T18:39:53.984Z"
      },
      {
        "duration": 434,
        "start_time": "2023-01-09T18:40:03.685Z"
      },
      {
        "duration": 253,
        "start_time": "2023-01-09T18:40:04.121Z"
      },
      {
        "duration": 9,
        "start_time": "2023-01-09T18:40:04.376Z"
      },
      {
        "duration": 43,
        "start_time": "2023-01-09T18:40:04.387Z"
      },
      {
        "duration": 6,
        "start_time": "2023-01-09T18:40:04.432Z"
      },
      {
        "duration": 12,
        "start_time": "2023-01-09T18:40:04.439Z"
      },
      {
        "duration": 17,
        "start_time": "2023-01-09T18:40:04.453Z"
      },
      {
        "duration": 14,
        "start_time": "2023-01-09T18:40:04.472Z"
      },
      {
        "duration": 49,
        "start_time": "2023-01-09T18:40:04.488Z"
      },
      {
        "duration": 28,
        "start_time": "2023-01-09T18:40:04.542Z"
      },
      {
        "duration": 27,
        "start_time": "2023-01-09T18:40:04.572Z"
      },
      {
        "duration": 97,
        "start_time": "2023-01-09T18:40:04.601Z"
      },
      {
        "duration": 86,
        "start_time": "2023-01-09T18:40:04.700Z"
      },
      {
        "duration": 80,
        "start_time": "2023-01-09T18:40:04.788Z"
      },
      {
        "duration": 3,
        "start_time": "2023-01-09T18:40:04.870Z"
      },
      {
        "duration": 36,
        "start_time": "2023-01-09T18:40:04.874Z"
      },
      {
        "duration": 26,
        "start_time": "2023-01-09T18:40:04.911Z"
      },
      {
        "duration": 26,
        "start_time": "2023-01-09T18:40:04.939Z"
      },
      {
        "duration": 22,
        "start_time": "2023-01-09T18:40:04.967Z"
      },
      {
        "duration": 14,
        "start_time": "2023-01-09T18:40:04.991Z"
      },
      {
        "duration": 9,
        "start_time": "2023-01-09T18:40:05.006Z"
      },
      {
        "duration": 13,
        "start_time": "2023-01-09T18:40:05.018Z"
      },
      {
        "duration": 22,
        "start_time": "2023-01-09T18:40:05.033Z"
      },
      {
        "duration": 20,
        "start_time": "2023-01-09T18:40:05.057Z"
      },
      {
        "duration": 8,
        "start_time": "2023-01-09T18:40:05.078Z"
      },
      {
        "duration": 16,
        "start_time": "2023-01-09T18:40:05.088Z"
      },
      {
        "duration": 29,
        "start_time": "2023-01-09T18:40:05.106Z"
      },
      {
        "duration": 11,
        "start_time": "2023-01-09T18:40:05.138Z"
      },
      {
        "duration": 11,
        "start_time": "2023-01-09T18:40:05.150Z"
      },
      {
        "duration": 51,
        "start_time": "2023-01-09T18:40:05.164Z"
      },
      {
        "duration": 0,
        "start_time": "2023-01-09T18:40:05.217Z"
      },
      {
        "duration": 0,
        "start_time": "2023-01-09T18:40:05.218Z"
      },
      {
        "duration": 0,
        "start_time": "2023-01-09T18:40:05.220Z"
      },
      {
        "duration": 0,
        "start_time": "2023-01-09T18:40:05.221Z"
      },
      {
        "duration": 0,
        "start_time": "2023-01-09T18:40:05.221Z"
      },
      {
        "duration": 0,
        "start_time": "2023-01-09T18:40:05.223Z"
      },
      {
        "duration": 0,
        "start_time": "2023-01-09T18:40:05.225Z"
      },
      {
        "duration": 0,
        "start_time": "2023-01-09T18:40:05.226Z"
      },
      {
        "duration": 49,
        "start_time": "2023-01-09T18:48:15.052Z"
      },
      {
        "duration": 59,
        "start_time": "2023-01-09T18:48:56.524Z"
      },
      {
        "duration": 12,
        "start_time": "2023-01-09T18:54:11.381Z"
      },
      {
        "duration": 42,
        "start_time": "2023-01-09T18:58:10.128Z"
      },
      {
        "duration": 34,
        "start_time": "2023-01-09T19:05:32.898Z"
      },
      {
        "duration": 83,
        "start_time": "2023-01-09T19:05:52.470Z"
      },
      {
        "duration": 14,
        "start_time": "2023-01-09T19:05:59.483Z"
      },
      {
        "duration": 17,
        "start_time": "2023-01-09T19:08:02.475Z"
      },
      {
        "duration": 4,
        "start_time": "2023-01-09T19:35:56.628Z"
      },
      {
        "duration": 7,
        "start_time": "2023-01-09T19:38:01.152Z"
      },
      {
        "duration": 22,
        "start_time": "2023-01-09T19:38:14.926Z"
      },
      {
        "duration": 4,
        "start_time": "2023-01-09T19:38:52.283Z"
      },
      {
        "duration": 17,
        "start_time": "2023-01-09T19:38:58.132Z"
      },
      {
        "duration": 410,
        "start_time": "2023-01-09T19:39:19.597Z"
      },
      {
        "duration": 200,
        "start_time": "2023-01-09T19:39:20.010Z"
      },
      {
        "duration": 11,
        "start_time": "2023-01-09T19:39:20.216Z"
      },
      {
        "duration": 48,
        "start_time": "2023-01-09T19:39:20.236Z"
      },
      {
        "duration": 3,
        "start_time": "2023-01-09T19:39:20.286Z"
      },
      {
        "duration": 20,
        "start_time": "2023-01-09T19:39:20.290Z"
      },
      {
        "duration": 19,
        "start_time": "2023-01-09T19:39:20.312Z"
      },
      {
        "duration": 16,
        "start_time": "2023-01-09T19:39:20.333Z"
      },
      {
        "duration": 40,
        "start_time": "2023-01-09T19:39:20.353Z"
      },
      {
        "duration": 36,
        "start_time": "2023-01-09T19:39:20.395Z"
      },
      {
        "duration": 28,
        "start_time": "2023-01-09T19:39:20.433Z"
      },
      {
        "duration": 87,
        "start_time": "2023-01-09T19:39:20.463Z"
      },
      {
        "duration": 89,
        "start_time": "2023-01-09T19:39:20.552Z"
      },
      {
        "duration": 72,
        "start_time": "2023-01-09T19:39:20.643Z"
      },
      {
        "duration": 64,
        "start_time": "2023-01-09T19:39:20.718Z"
      },
      {
        "duration": 14,
        "start_time": "2023-01-09T19:39:20.784Z"
      },
      {
        "duration": 67,
        "start_time": "2023-01-09T19:39:20.800Z"
      },
      {
        "duration": 15,
        "start_time": "2023-01-09T19:39:20.869Z"
      },
      {
        "duration": 13,
        "start_time": "2023-01-09T19:39:20.886Z"
      },
      {
        "duration": 23,
        "start_time": "2023-01-09T19:39:20.901Z"
      },
      {
        "duration": 83,
        "start_time": "2023-01-09T19:39:20.934Z"
      },
      {
        "duration": 0,
        "start_time": "2023-01-09T19:39:21.020Z"
      },
      {
        "duration": 0,
        "start_time": "2023-01-09T19:39:21.021Z"
      },
      {
        "duration": 0,
        "start_time": "2023-01-09T19:39:21.022Z"
      },
      {
        "duration": 0,
        "start_time": "2023-01-09T19:39:21.024Z"
      },
      {
        "duration": 1,
        "start_time": "2023-01-09T19:39:21.034Z"
      },
      {
        "duration": 0,
        "start_time": "2023-01-09T19:39:21.036Z"
      },
      {
        "duration": 0,
        "start_time": "2023-01-09T19:39:21.037Z"
      },
      {
        "duration": 0,
        "start_time": "2023-01-09T19:39:21.039Z"
      },
      {
        "duration": 0,
        "start_time": "2023-01-09T19:39:21.040Z"
      },
      {
        "duration": 1,
        "start_time": "2023-01-09T19:39:21.041Z"
      },
      {
        "duration": 0,
        "start_time": "2023-01-09T19:39:21.043Z"
      },
      {
        "duration": 0,
        "start_time": "2023-01-09T19:39:21.044Z"
      },
      {
        "duration": 0,
        "start_time": "2023-01-09T19:39:21.045Z"
      },
      {
        "duration": 0,
        "start_time": "2023-01-09T19:39:21.046Z"
      },
      {
        "duration": 0,
        "start_time": "2023-01-09T19:39:21.047Z"
      },
      {
        "duration": 0,
        "start_time": "2023-01-09T19:39:21.048Z"
      },
      {
        "duration": 0,
        "start_time": "2023-01-09T19:39:21.049Z"
      },
      {
        "duration": 17,
        "start_time": "2023-01-09T19:39:36.124Z"
      },
      {
        "duration": 18,
        "start_time": "2023-01-09T19:39:43.126Z"
      },
      {
        "duration": 3,
        "start_time": "2023-01-09T19:47:10.357Z"
      },
      {
        "duration": 4,
        "start_time": "2023-01-09T19:48:46.869Z"
      },
      {
        "duration": 398,
        "start_time": "2023-01-09T19:48:58.069Z"
      },
      {
        "duration": 181,
        "start_time": "2023-01-09T19:48:58.469Z"
      },
      {
        "duration": 9,
        "start_time": "2023-01-09T19:48:58.652Z"
      },
      {
        "duration": 48,
        "start_time": "2023-01-09T19:48:58.663Z"
      },
      {
        "duration": 5,
        "start_time": "2023-01-09T19:48:58.713Z"
      },
      {
        "duration": 15,
        "start_time": "2023-01-09T19:48:58.719Z"
      },
      {
        "duration": 14,
        "start_time": "2023-01-09T19:48:58.736Z"
      },
      {
        "duration": 44,
        "start_time": "2023-01-09T19:48:58.752Z"
      },
      {
        "duration": 56,
        "start_time": "2023-01-09T19:48:58.797Z"
      },
      {
        "duration": 30,
        "start_time": "2023-01-09T19:48:58.855Z"
      },
      {
        "duration": 29,
        "start_time": "2023-01-09T19:48:58.887Z"
      },
      {
        "duration": 82,
        "start_time": "2023-01-09T19:48:58.918Z"
      },
      {
        "duration": 78,
        "start_time": "2023-01-09T19:48:59.002Z"
      },
      {
        "duration": 70,
        "start_time": "2023-01-09T19:48:59.083Z"
      },
      {
        "duration": 43,
        "start_time": "2023-01-09T19:48:59.155Z"
      },
      {
        "duration": 13,
        "start_time": "2023-01-09T19:48:59.199Z"
      },
      {
        "duration": 58,
        "start_time": "2023-01-09T19:48:59.213Z"
      },
      {
        "duration": 13,
        "start_time": "2023-01-09T19:48:59.272Z"
      },
      {
        "duration": 21,
        "start_time": "2023-01-09T19:48:59.286Z"
      },
      {
        "duration": 5,
        "start_time": "2023-01-09T19:48:59.309Z"
      },
      {
        "duration": 102,
        "start_time": "2023-01-09T19:48:59.315Z"
      },
      {
        "duration": 0,
        "start_time": "2023-01-09T19:48:59.419Z"
      },
      {
        "duration": 0,
        "start_time": "2023-01-09T19:48:59.421Z"
      },
      {
        "duration": 0,
        "start_time": "2023-01-09T19:48:59.422Z"
      },
      {
        "duration": 0,
        "start_time": "2023-01-09T19:48:59.423Z"
      },
      {
        "duration": 0,
        "start_time": "2023-01-09T19:48:59.435Z"
      },
      {
        "duration": 0,
        "start_time": "2023-01-09T19:48:59.436Z"
      },
      {
        "duration": 0,
        "start_time": "2023-01-09T19:48:59.437Z"
      },
      {
        "duration": 0,
        "start_time": "2023-01-09T19:48:59.438Z"
      },
      {
        "duration": 0,
        "start_time": "2023-01-09T19:48:59.439Z"
      },
      {
        "duration": 0,
        "start_time": "2023-01-09T19:48:59.440Z"
      },
      {
        "duration": 0,
        "start_time": "2023-01-09T19:48:59.441Z"
      },
      {
        "duration": 0,
        "start_time": "2023-01-09T19:48:59.442Z"
      },
      {
        "duration": 0,
        "start_time": "2023-01-09T19:48:59.443Z"
      },
      {
        "duration": 0,
        "start_time": "2023-01-09T19:48:59.444Z"
      },
      {
        "duration": 0,
        "start_time": "2023-01-09T19:48:59.445Z"
      },
      {
        "duration": 0,
        "start_time": "2023-01-09T19:48:59.446Z"
      },
      {
        "duration": 0,
        "start_time": "2023-01-09T19:48:59.447Z"
      },
      {
        "duration": 28,
        "start_time": "2023-01-09T19:50:44.341Z"
      },
      {
        "duration": 395,
        "start_time": "2023-01-09T19:50:59.788Z"
      },
      {
        "duration": 175,
        "start_time": "2023-01-09T19:51:00.185Z"
      },
      {
        "duration": 9,
        "start_time": "2023-01-09T19:51:00.362Z"
      },
      {
        "duration": 79,
        "start_time": "2023-01-09T19:51:00.373Z"
      },
      {
        "duration": 55,
        "start_time": "2023-01-09T19:51:00.454Z"
      },
      {
        "duration": 61,
        "start_time": "2023-01-09T19:51:00.511Z"
      },
      {
        "duration": 26,
        "start_time": "2023-01-09T19:51:00.574Z"
      },
      {
        "duration": 39,
        "start_time": "2023-01-09T19:51:00.602Z"
      },
      {
        "duration": 76,
        "start_time": "2023-01-09T19:51:00.644Z"
      },
      {
        "duration": 59,
        "start_time": "2023-01-09T19:51:00.723Z"
      },
      {
        "duration": 48,
        "start_time": "2023-01-09T19:51:00.784Z"
      },
      {
        "duration": 72,
        "start_time": "2023-01-09T19:51:00.833Z"
      },
      {
        "duration": 71,
        "start_time": "2023-01-09T19:51:00.907Z"
      },
      {
        "duration": 65,
        "start_time": "2023-01-09T19:51:00.979Z"
      },
      {
        "duration": 42,
        "start_time": "2023-01-09T19:51:01.045Z"
      },
      {
        "duration": 11,
        "start_time": "2023-01-09T19:51:01.089Z"
      },
      {
        "duration": 60,
        "start_time": "2023-01-09T19:51:01.102Z"
      },
      {
        "duration": 12,
        "start_time": "2023-01-09T19:51:01.164Z"
      },
      {
        "duration": 35,
        "start_time": "2023-01-09T19:51:01.177Z"
      },
      {
        "duration": 8,
        "start_time": "2023-01-09T19:51:01.214Z"
      },
      {
        "duration": 115,
        "start_time": "2023-01-09T19:51:01.224Z"
      },
      {
        "duration": 0,
        "start_time": "2023-01-09T19:51:01.342Z"
      },
      {
        "duration": 0,
        "start_time": "2023-01-09T19:51:01.343Z"
      },
      {
        "duration": 0,
        "start_time": "2023-01-09T19:51:01.344Z"
      },
      {
        "duration": 0,
        "start_time": "2023-01-09T19:51:01.345Z"
      },
      {
        "duration": 0,
        "start_time": "2023-01-09T19:51:01.346Z"
      },
      {
        "duration": 0,
        "start_time": "2023-01-09T19:51:01.348Z"
      },
      {
        "duration": 0,
        "start_time": "2023-01-09T19:51:01.349Z"
      },
      {
        "duration": 0,
        "start_time": "2023-01-09T19:51:01.350Z"
      },
      {
        "duration": 0,
        "start_time": "2023-01-09T19:51:01.352Z"
      },
      {
        "duration": 0,
        "start_time": "2023-01-09T19:51:01.353Z"
      },
      {
        "duration": 0,
        "start_time": "2023-01-09T19:51:01.354Z"
      },
      {
        "duration": 0,
        "start_time": "2023-01-09T19:51:01.355Z"
      },
      {
        "duration": 0,
        "start_time": "2023-01-09T19:51:01.356Z"
      },
      {
        "duration": 0,
        "start_time": "2023-01-09T19:51:01.357Z"
      },
      {
        "duration": 0,
        "start_time": "2023-01-09T19:51:01.358Z"
      },
      {
        "duration": 0,
        "start_time": "2023-01-09T19:51:01.359Z"
      },
      {
        "duration": 0,
        "start_time": "2023-01-09T19:51:01.360Z"
      },
      {
        "duration": 4,
        "start_time": "2023-01-09T19:52:03.814Z"
      },
      {
        "duration": 25,
        "start_time": "2023-01-09T19:53:14.068Z"
      },
      {
        "duration": 4,
        "start_time": "2023-01-09T19:54:51.981Z"
      },
      {
        "duration": 16,
        "start_time": "2023-01-09T19:55:09.533Z"
      },
      {
        "duration": 15,
        "start_time": "2023-01-09T19:56:40.496Z"
      },
      {
        "duration": 16,
        "start_time": "2023-01-09T19:56:43.087Z"
      },
      {
        "duration": 22,
        "start_time": "2023-01-09T19:58:26.746Z"
      },
      {
        "duration": 16,
        "start_time": "2023-01-09T19:59:45.446Z"
      },
      {
        "duration": 21,
        "start_time": "2023-01-09T20:08:30.492Z"
      },
      {
        "duration": 9,
        "start_time": "2023-01-09T20:12:25.072Z"
      },
      {
        "duration": 8,
        "start_time": "2023-01-09T20:13:26.982Z"
      },
      {
        "duration": 10,
        "start_time": "2023-01-09T20:15:11.602Z"
      },
      {
        "duration": 7,
        "start_time": "2023-01-09T20:16:11.032Z"
      },
      {
        "duration": 5,
        "start_time": "2023-01-09T20:17:03.522Z"
      },
      {
        "duration": 4,
        "start_time": "2023-01-09T20:17:07.023Z"
      },
      {
        "duration": 13,
        "start_time": "2023-01-09T20:17:44.001Z"
      },
      {
        "duration": 11,
        "start_time": "2023-01-09T20:30:38.611Z"
      },
      {
        "duration": 9,
        "start_time": "2023-01-09T20:31:07.841Z"
      },
      {
        "duration": 82,
        "start_time": "2023-01-10T15:36:51.594Z"
      },
      {
        "duration": 6,
        "start_time": "2023-01-10T15:37:01.095Z"
      },
      {
        "duration": 59,
        "start_time": "2023-01-10T15:37:15.751Z"
      },
      {
        "duration": 6,
        "start_time": "2023-01-10T15:37:39.691Z"
      },
      {
        "duration": 7,
        "start_time": "2023-01-10T15:37:42.704Z"
      },
      {
        "duration": 7,
        "start_time": "2023-01-10T15:43:53.783Z"
      },
      {
        "duration": 426,
        "start_time": "2023-01-10T15:44:09.254Z"
      },
      {
        "duration": 489,
        "start_time": "2023-01-10T15:44:09.682Z"
      },
      {
        "duration": 9,
        "start_time": "2023-01-10T15:44:10.173Z"
      },
      {
        "duration": 40,
        "start_time": "2023-01-10T15:44:10.184Z"
      },
      {
        "duration": 8,
        "start_time": "2023-01-10T15:44:10.227Z"
      },
      {
        "duration": 20,
        "start_time": "2023-01-10T15:44:10.237Z"
      },
      {
        "duration": 15,
        "start_time": "2023-01-10T15:44:10.259Z"
      },
      {
        "duration": 15,
        "start_time": "2023-01-10T15:44:10.275Z"
      },
      {
        "duration": 34,
        "start_time": "2023-01-10T15:44:10.292Z"
      },
      {
        "duration": 27,
        "start_time": "2023-01-10T15:44:10.328Z"
      },
      {
        "duration": 28,
        "start_time": "2023-01-10T15:44:10.357Z"
      },
      {
        "duration": 92,
        "start_time": "2023-01-10T15:44:10.387Z"
      },
      {
        "duration": 83,
        "start_time": "2023-01-10T15:44:10.481Z"
      },
      {
        "duration": 81,
        "start_time": "2023-01-10T15:44:10.567Z"
      },
      {
        "duration": 42,
        "start_time": "2023-01-10T15:44:10.650Z"
      },
      {
        "duration": 12,
        "start_time": "2023-01-10T15:44:10.694Z"
      },
      {
        "duration": 67,
        "start_time": "2023-01-10T15:44:10.708Z"
      },
      {
        "duration": 21,
        "start_time": "2023-01-10T15:44:10.778Z"
      },
      {
        "duration": 39,
        "start_time": "2023-01-10T15:44:10.801Z"
      },
      {
        "duration": 4,
        "start_time": "2023-01-10T15:44:10.842Z"
      },
      {
        "duration": 27,
        "start_time": "2023-01-10T15:44:10.848Z"
      },
      {
        "duration": 17,
        "start_time": "2023-01-10T15:44:10.877Z"
      },
      {
        "duration": 41,
        "start_time": "2023-01-10T15:44:10.896Z"
      },
      {
        "duration": 16,
        "start_time": "2023-01-10T15:44:10.939Z"
      },
      {
        "duration": 17,
        "start_time": "2023-01-10T15:44:10.957Z"
      },
      {
        "duration": 21,
        "start_time": "2023-01-10T15:44:10.976Z"
      },
      {
        "duration": 43,
        "start_time": "2023-01-10T15:44:10.999Z"
      },
      {
        "duration": 18,
        "start_time": "2023-01-10T15:44:11.044Z"
      },
      {
        "duration": 13,
        "start_time": "2023-01-10T15:44:11.064Z"
      },
      {
        "duration": 4,
        "start_time": "2023-01-10T15:44:11.079Z"
      },
      {
        "duration": 21,
        "start_time": "2023-01-10T15:44:11.085Z"
      },
      {
        "duration": 3,
        "start_time": "2023-01-10T15:44:11.107Z"
      },
      {
        "duration": 30,
        "start_time": "2023-01-10T15:44:11.111Z"
      },
      {
        "duration": 6,
        "start_time": "2023-01-10T15:44:11.142Z"
      },
      {
        "duration": 6,
        "start_time": "2023-01-10T15:44:11.150Z"
      },
      {
        "duration": 7,
        "start_time": "2023-01-10T15:44:11.158Z"
      },
      {
        "duration": 6,
        "start_time": "2023-01-10T15:44:11.166Z"
      },
      {
        "duration": 5,
        "start_time": "2023-01-10T15:44:11.174Z"
      },
      {
        "duration": 15,
        "start_time": "2023-01-10T15:44:53.513Z"
      },
      {
        "duration": 19,
        "start_time": "2023-01-10T15:46:03.426Z"
      },
      {
        "duration": 19,
        "start_time": "2023-01-10T15:48:32.285Z"
      },
      {
        "duration": 19,
        "start_time": "2023-01-10T15:49:10.155Z"
      },
      {
        "duration": 13,
        "start_time": "2023-01-10T15:49:32.645Z"
      },
      {
        "duration": 12,
        "start_time": "2023-01-10T15:52:20.010Z"
      },
      {
        "duration": 388,
        "start_time": "2023-01-10T16:05:33.188Z"
      },
      {
        "duration": 186,
        "start_time": "2023-01-10T16:05:33.578Z"
      },
      {
        "duration": 9,
        "start_time": "2023-01-10T16:05:33.766Z"
      },
      {
        "duration": 38,
        "start_time": "2023-01-10T16:05:33.777Z"
      },
      {
        "duration": 25,
        "start_time": "2023-01-10T16:05:33.817Z"
      },
      {
        "duration": 19,
        "start_time": "2023-01-10T16:05:33.845Z"
      },
      {
        "duration": 15,
        "start_time": "2023-01-10T16:05:33.866Z"
      },
      {
        "duration": 9,
        "start_time": "2023-01-10T16:05:33.883Z"
      },
      {
        "duration": 38,
        "start_time": "2023-01-10T16:05:33.894Z"
      },
      {
        "duration": 34,
        "start_time": "2023-01-10T16:05:33.933Z"
      },
      {
        "duration": 26,
        "start_time": "2023-01-10T16:05:33.969Z"
      },
      {
        "duration": 86,
        "start_time": "2023-01-10T16:05:33.996Z"
      },
      {
        "duration": 96,
        "start_time": "2023-01-10T16:05:34.084Z"
      },
      {
        "duration": 86,
        "start_time": "2023-01-10T16:05:34.184Z"
      },
      {
        "duration": 72,
        "start_time": "2023-01-10T16:05:34.273Z"
      },
      {
        "duration": 19,
        "start_time": "2023-01-10T16:05:34.348Z"
      },
      {
        "duration": 49,
        "start_time": "2023-01-10T16:05:34.369Z"
      },
      {
        "duration": 36,
        "start_time": "2023-01-10T16:05:34.420Z"
      },
      {
        "duration": 32,
        "start_time": "2023-01-10T16:05:34.459Z"
      },
      {
        "duration": 4,
        "start_time": "2023-01-10T16:05:34.493Z"
      },
      {
        "duration": 24,
        "start_time": "2023-01-10T16:05:34.499Z"
      },
      {
        "duration": 30,
        "start_time": "2023-01-10T16:05:34.525Z"
      },
      {
        "duration": 21,
        "start_time": "2023-01-10T16:05:34.557Z"
      },
      {
        "duration": 16,
        "start_time": "2023-01-10T16:05:34.580Z"
      },
      {
        "duration": 18,
        "start_time": "2023-01-10T16:05:34.598Z"
      },
      {
        "duration": 44,
        "start_time": "2023-01-10T16:05:34.617Z"
      },
      {
        "duration": 10,
        "start_time": "2023-01-10T16:05:34.663Z"
      },
      {
        "duration": 11,
        "start_time": "2023-01-10T16:05:34.675Z"
      },
      {
        "duration": 9,
        "start_time": "2023-01-10T16:05:34.688Z"
      },
      {
        "duration": 5,
        "start_time": "2023-01-10T16:05:34.699Z"
      },
      {
        "duration": 53,
        "start_time": "2023-01-10T16:05:34.705Z"
      },
      {
        "duration": 11,
        "start_time": "2023-01-10T16:05:34.760Z"
      },
      {
        "duration": 18,
        "start_time": "2023-01-10T16:05:34.773Z"
      },
      {
        "duration": 16,
        "start_time": "2023-01-10T16:05:34.793Z"
      },
      {
        "duration": 30,
        "start_time": "2023-01-10T16:05:34.811Z"
      },
      {
        "duration": 15,
        "start_time": "2023-01-10T16:05:34.843Z"
      },
      {
        "duration": 4,
        "start_time": "2023-01-10T16:05:34.860Z"
      },
      {
        "duration": 4,
        "start_time": "2023-01-10T16:05:34.866Z"
      },
      {
        "duration": 23,
        "start_time": "2023-01-10T16:07:20.433Z"
      },
      {
        "duration": 18,
        "start_time": "2023-01-10T16:07:38.690Z"
      },
      {
        "duration": 101,
        "start_time": "2023-01-10T16:14:41.188Z"
      },
      {
        "duration": 36,
        "start_time": "2023-01-10T16:15:12.666Z"
      },
      {
        "duration": 14,
        "start_time": "2023-01-10T16:15:36.628Z"
      },
      {
        "duration": 9,
        "start_time": "2023-01-10T16:15:52.063Z"
      },
      {
        "duration": 5,
        "start_time": "2023-01-10T16:17:45.313Z"
      },
      {
        "duration": 8,
        "start_time": "2023-01-10T16:20:40.113Z"
      },
      {
        "duration": 5,
        "start_time": "2023-01-10T16:21:53.064Z"
      }
    ],
    "colab": {
      "provenance": []
    },
    "kernelspec": {
      "display_name": "Python 3 (ipykernel)",
      "language": "python",
      "name": "python3"
    },
    "language_info": {
      "codemirror_mode": {
        "name": "ipython",
        "version": 3
      },
      "file_extension": ".py",
      "mimetype": "text/x-python",
      "name": "python",
      "nbconvert_exporter": "python",
      "pygments_lexer": "ipython3",
      "version": "3.9.5"
    },
    "toc": {
      "base_numbering": 1,
      "nav_menu": {
        "height": "215px",
        "width": "403px"
      },
      "number_sections": true,
      "sideBar": true,
      "skip_h1_title": true,
      "title_cell": "Table of Contents",
      "title_sidebar": "Contents",
      "toc_cell": false,
      "toc_position": {
        "height": "calc(100% - 180px)",
        "left": "10px",
        "top": "150px",
        "width": "285.825px"
      },
      "toc_section_display": true,
      "toc_window_display": false
    }
  },
  "nbformat": 4,
  "nbformat_minor": 0
}